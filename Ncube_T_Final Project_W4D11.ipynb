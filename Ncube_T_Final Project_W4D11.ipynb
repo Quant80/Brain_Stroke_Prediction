{
 "cells": [
  {
   "cell_type": "markdown",
   "id": "8364b1dd",
   "metadata": {},
   "source": [
    "### Loading and Minor Analysis"
   ]
  },
  {
   "cell_type": "code",
   "execution_count": 1,
   "id": "8f4e095b",
   "metadata": {},
   "outputs": [
    {
     "name": "stderr",
     "output_type": "stream",
     "text": [
      "C:\\Users\\trymo\\anaconda3\\lib\\site-packages\\numpy\\_distributor_init.py:30: UserWarning: loaded more than 1 DLL from .libs:\n",
      "C:\\Users\\trymo\\anaconda3\\lib\\site-packages\\numpy\\.libs\\libopenblas.EL2C6PLE4ZYW3ECEVIV3OXXGRN2NRFM2.gfortran-win_amd64.dll\n",
      "C:\\Users\\trymo\\anaconda3\\lib\\site-packages\\numpy\\.libs\\libopenblas.FB5AE2TYXYH2IJRDKGDGQ3XBKLKTF43H.gfortran-win_amd64.dll\n",
      "  warnings.warn(\"loaded more than 1 DLL from .libs:\"\n"
     ]
    }
   ],
   "source": [
    "import pandas as pd\n",
    "import numpy as np\n",
    "import shap \n",
    "import matplotlib.pyplot as plt\n",
    "from sklearn.preprocessing import MinMaxScaler\n",
    "import seaborn as sns\n",
    "from sklearn.preprocessing import OneHotEncoder\n",
    "from sklearn.preprocessing import StandardScaler\n",
    "from sklearn.model_selection import train_test_split\n",
    "#from sklearn.model_selection import RandomizedSearchCV\n",
    "from sklearn.svm import SVC\n",
    "#from xgboost import XGBClassifier\n",
    "from sklearn.tree import DecisionTreeClassifier\n",
    "from sklearn.ensemble import RandomForestClassifier\n",
    "from sklearn.linear_model import LogisticRegression\n",
    "from sklearn.neighbors import KNeighborsClassifier\n",
    "from sklearn.ensemble import GradientBoostingClassifier\n",
    "from scikitplot.metrics import plot_roc_curve as auc_roc\n",
    "from sklearn.metrics import accuracy_score, confusion_matrix, classification_report, \\\n",
    "f1_score, roc_auc_score, roc_curve, precision_score, recall_score\n",
    "plt.rcParams['figure.figsize'] = [10,6]\n",
    "import warnings \n",
    "warnings.filterwarnings('ignore')\n",
    "from sklearn.metrics import plot_roc_curve\n",
    "from sklearn.model_selection import GridSearchCV # to fine-tune hyperparameters"
   ]
  },
  {
   "cell_type": "code",
   "execution_count": 104,
   "id": "46856414",
   "metadata": {},
   "outputs": [],
   "source": [
    "#df=pd.read_csv('full_filled_stroke_data (1).csv')"
   ]
  },
  {
   "cell_type": "code",
   "execution_count": 2,
   "id": "49fbadb4",
   "metadata": {},
   "outputs": [],
   "source": [
    "df=pd.read_csv('Brain_Stroke_Data.csv')"
   ]
  },
  {
   "cell_type": "code",
   "execution_count": 3,
   "id": "aa9cb995",
   "metadata": {},
   "outputs": [
    {
     "data": {
      "text/html": [
       "<div>\n",
       "<style scoped>\n",
       "    .dataframe tbody tr th:only-of-type {\n",
       "        vertical-align: middle;\n",
       "    }\n",
       "\n",
       "    .dataframe tbody tr th {\n",
       "        vertical-align: top;\n",
       "    }\n",
       "\n",
       "    .dataframe thead th {\n",
       "        text-align: right;\n",
       "    }\n",
       "</style>\n",
       "<table border=\"1\" class=\"dataframe\">\n",
       "  <thead>\n",
       "    <tr style=\"text-align: right;\">\n",
       "      <th></th>\n",
       "      <th>gender</th>\n",
       "      <th>age</th>\n",
       "      <th>hypertension</th>\n",
       "      <th>heart_disease</th>\n",
       "      <th>ever_married</th>\n",
       "      <th>work_type</th>\n",
       "      <th>Residence_type</th>\n",
       "      <th>avg_glucose_level</th>\n",
       "      <th>bmi</th>\n",
       "      <th>smoking_status</th>\n",
       "      <th>stroke</th>\n",
       "    </tr>\n",
       "  </thead>\n",
       "  <tbody>\n",
       "    <tr>\n",
       "      <th>0</th>\n",
       "      <td>Male</td>\n",
       "      <td>67.0</td>\n",
       "      <td>0</td>\n",
       "      <td>1</td>\n",
       "      <td>Yes</td>\n",
       "      <td>Private</td>\n",
       "      <td>Urban</td>\n",
       "      <td>228.69</td>\n",
       "      <td>36.6</td>\n",
       "      <td>formerly smoked</td>\n",
       "      <td>1</td>\n",
       "    </tr>\n",
       "    <tr>\n",
       "      <th>1</th>\n",
       "      <td>Male</td>\n",
       "      <td>80.0</td>\n",
       "      <td>0</td>\n",
       "      <td>1</td>\n",
       "      <td>Yes</td>\n",
       "      <td>Private</td>\n",
       "      <td>Rural</td>\n",
       "      <td>105.92</td>\n",
       "      <td>32.5</td>\n",
       "      <td>never smoked</td>\n",
       "      <td>1</td>\n",
       "    </tr>\n",
       "    <tr>\n",
       "      <th>2</th>\n",
       "      <td>Female</td>\n",
       "      <td>49.0</td>\n",
       "      <td>0</td>\n",
       "      <td>0</td>\n",
       "      <td>Yes</td>\n",
       "      <td>Private</td>\n",
       "      <td>Urban</td>\n",
       "      <td>171.23</td>\n",
       "      <td>34.4</td>\n",
       "      <td>smokes</td>\n",
       "      <td>1</td>\n",
       "    </tr>\n",
       "    <tr>\n",
       "      <th>3</th>\n",
       "      <td>Female</td>\n",
       "      <td>79.0</td>\n",
       "      <td>1</td>\n",
       "      <td>0</td>\n",
       "      <td>Yes</td>\n",
       "      <td>Self-employed</td>\n",
       "      <td>Rural</td>\n",
       "      <td>174.12</td>\n",
       "      <td>24.0</td>\n",
       "      <td>never smoked</td>\n",
       "      <td>1</td>\n",
       "    </tr>\n",
       "    <tr>\n",
       "      <th>4</th>\n",
       "      <td>Male</td>\n",
       "      <td>81.0</td>\n",
       "      <td>0</td>\n",
       "      <td>0</td>\n",
       "      <td>Yes</td>\n",
       "      <td>Private</td>\n",
       "      <td>Urban</td>\n",
       "      <td>186.21</td>\n",
       "      <td>29.0</td>\n",
       "      <td>formerly smoked</td>\n",
       "      <td>1</td>\n",
       "    </tr>\n",
       "    <tr>\n",
       "      <th>...</th>\n",
       "      <td>...</td>\n",
       "      <td>...</td>\n",
       "      <td>...</td>\n",
       "      <td>...</td>\n",
       "      <td>...</td>\n",
       "      <td>...</td>\n",
       "      <td>...</td>\n",
       "      <td>...</td>\n",
       "      <td>...</td>\n",
       "      <td>...</td>\n",
       "      <td>...</td>\n",
       "    </tr>\n",
       "    <tr>\n",
       "      <th>4976</th>\n",
       "      <td>Male</td>\n",
       "      <td>41.0</td>\n",
       "      <td>0</td>\n",
       "      <td>0</td>\n",
       "      <td>No</td>\n",
       "      <td>Private</td>\n",
       "      <td>Rural</td>\n",
       "      <td>70.15</td>\n",
       "      <td>29.8</td>\n",
       "      <td>formerly smoked</td>\n",
       "      <td>0</td>\n",
       "    </tr>\n",
       "    <tr>\n",
       "      <th>4977</th>\n",
       "      <td>Male</td>\n",
       "      <td>40.0</td>\n",
       "      <td>0</td>\n",
       "      <td>0</td>\n",
       "      <td>Yes</td>\n",
       "      <td>Private</td>\n",
       "      <td>Urban</td>\n",
       "      <td>191.15</td>\n",
       "      <td>31.1</td>\n",
       "      <td>smokes</td>\n",
       "      <td>0</td>\n",
       "    </tr>\n",
       "    <tr>\n",
       "      <th>4978</th>\n",
       "      <td>Female</td>\n",
       "      <td>45.0</td>\n",
       "      <td>1</td>\n",
       "      <td>0</td>\n",
       "      <td>Yes</td>\n",
       "      <td>Govt_job</td>\n",
       "      <td>Rural</td>\n",
       "      <td>95.02</td>\n",
       "      <td>31.8</td>\n",
       "      <td>smokes</td>\n",
       "      <td>0</td>\n",
       "    </tr>\n",
       "    <tr>\n",
       "      <th>4979</th>\n",
       "      <td>Male</td>\n",
       "      <td>40.0</td>\n",
       "      <td>0</td>\n",
       "      <td>0</td>\n",
       "      <td>Yes</td>\n",
       "      <td>Private</td>\n",
       "      <td>Rural</td>\n",
       "      <td>83.94</td>\n",
       "      <td>30.0</td>\n",
       "      <td>smokes</td>\n",
       "      <td>0</td>\n",
       "    </tr>\n",
       "    <tr>\n",
       "      <th>4980</th>\n",
       "      <td>Female</td>\n",
       "      <td>80.0</td>\n",
       "      <td>1</td>\n",
       "      <td>0</td>\n",
       "      <td>Yes</td>\n",
       "      <td>Private</td>\n",
       "      <td>Urban</td>\n",
       "      <td>83.75</td>\n",
       "      <td>29.1</td>\n",
       "      <td>never smoked</td>\n",
       "      <td>0</td>\n",
       "    </tr>\n",
       "  </tbody>\n",
       "</table>\n",
       "<p>4981 rows × 11 columns</p>\n",
       "</div>"
      ],
      "text/plain": [
       "      gender   age  hypertension  heart_disease ever_married      work_type  \\\n",
       "0       Male  67.0             0              1          Yes        Private   \n",
       "1       Male  80.0             0              1          Yes        Private   \n",
       "2     Female  49.0             0              0          Yes        Private   \n",
       "3     Female  79.0             1              0          Yes  Self-employed   \n",
       "4       Male  81.0             0              0          Yes        Private   \n",
       "...      ...   ...           ...            ...          ...            ...   \n",
       "4976    Male  41.0             0              0           No        Private   \n",
       "4977    Male  40.0             0              0          Yes        Private   \n",
       "4978  Female  45.0             1              0          Yes       Govt_job   \n",
       "4979    Male  40.0             0              0          Yes        Private   \n",
       "4980  Female  80.0             1              0          Yes        Private   \n",
       "\n",
       "     Residence_type  avg_glucose_level   bmi   smoking_status  stroke  \n",
       "0             Urban             228.69  36.6  formerly smoked       1  \n",
       "1             Rural             105.92  32.5     never smoked       1  \n",
       "2             Urban             171.23  34.4           smokes       1  \n",
       "3             Rural             174.12  24.0     never smoked       1  \n",
       "4             Urban             186.21  29.0  formerly smoked       1  \n",
       "...             ...                ...   ...              ...     ...  \n",
       "4976          Rural              70.15  29.8  formerly smoked       0  \n",
       "4977          Urban             191.15  31.1           smokes       0  \n",
       "4978          Rural              95.02  31.8           smokes       0  \n",
       "4979          Rural              83.94  30.0           smokes       0  \n",
       "4980          Urban              83.75  29.1     never smoked       0  \n",
       "\n",
       "[4981 rows x 11 columns]"
      ]
     },
     "execution_count": 3,
     "metadata": {},
     "output_type": "execute_result"
    }
   ],
   "source": [
    "df"
   ]
  },
  {
   "cell_type": "code",
   "execution_count": 4,
   "id": "ad2dab50",
   "metadata": {},
   "outputs": [
    {
     "data": {
      "text/plain": [
       "(4981, 11)"
      ]
     },
     "execution_count": 4,
     "metadata": {},
     "output_type": "execute_result"
    }
   ],
   "source": [
    "df.shape"
   ]
  },
  {
   "cell_type": "code",
   "execution_count": 5,
   "id": "6b3f395e",
   "metadata": {},
   "outputs": [
    {
     "name": "stdout",
     "output_type": "stream",
     "text": [
      "<class 'pandas.core.frame.DataFrame'>\n",
      "RangeIndex: 4981 entries, 0 to 4980\n",
      "Data columns (total 11 columns):\n",
      " #   Column             Non-Null Count  Dtype  \n",
      "---  ------             --------------  -----  \n",
      " 0   gender             4981 non-null   object \n",
      " 1   age                4981 non-null   float64\n",
      " 2   hypertension       4981 non-null   int64  \n",
      " 3   heart_disease      4981 non-null   int64  \n",
      " 4   ever_married       4981 non-null   object \n",
      " 5   work_type          4981 non-null   object \n",
      " 6   Residence_type     4981 non-null   object \n",
      " 7   avg_glucose_level  4981 non-null   float64\n",
      " 8   bmi                4981 non-null   float64\n",
      " 9   smoking_status     4981 non-null   object \n",
      " 10  stroke             4981 non-null   int64  \n",
      "dtypes: float64(3), int64(3), object(5)\n",
      "memory usage: 428.2+ KB\n"
     ]
    }
   ],
   "source": [
    "df.info()"
   ]
  },
  {
   "cell_type": "markdown",
   "id": "4d375a07",
   "metadata": {},
   "source": [
    "### Checking missing Values"
   ]
  },
  {
   "cell_type": "code",
   "execution_count": 6,
   "id": "623c95dd",
   "metadata": {
    "scrolled": true
   },
   "outputs": [
    {
     "data": {
      "text/plain": [
       "gender               0\n",
       "age                  0\n",
       "hypertension         0\n",
       "heart_disease        0\n",
       "ever_married         0\n",
       "work_type            0\n",
       "Residence_type       0\n",
       "avg_glucose_level    0\n",
       "bmi                  0\n",
       "smoking_status       0\n",
       "stroke               0\n",
       "dtype: int64"
      ]
     },
     "execution_count": 6,
     "metadata": {},
     "output_type": "execute_result"
    }
   ],
   "source": [
    "df.isnull().sum()"
   ]
  },
  {
   "cell_type": "markdown",
   "id": "3ab888d3",
   "metadata": {},
   "source": [
    "### Data description"
   ]
  },
  {
   "cell_type": "code",
   "execution_count": 7,
   "id": "3bd0910b",
   "metadata": {},
   "outputs": [
    {
     "data": {
      "text/html": [
       "<div>\n",
       "<style scoped>\n",
       "    .dataframe tbody tr th:only-of-type {\n",
       "        vertical-align: middle;\n",
       "    }\n",
       "\n",
       "    .dataframe tbody tr th {\n",
       "        vertical-align: top;\n",
       "    }\n",
       "\n",
       "    .dataframe thead th {\n",
       "        text-align: right;\n",
       "    }\n",
       "</style>\n",
       "<table border=\"1\" class=\"dataframe\">\n",
       "  <thead>\n",
       "    <tr style=\"text-align: right;\">\n",
       "      <th></th>\n",
       "      <th>age</th>\n",
       "      <th>hypertension</th>\n",
       "      <th>heart_disease</th>\n",
       "      <th>avg_glucose_level</th>\n",
       "      <th>bmi</th>\n",
       "      <th>stroke</th>\n",
       "    </tr>\n",
       "  </thead>\n",
       "  <tbody>\n",
       "    <tr>\n",
       "      <th>count</th>\n",
       "      <td>4981.000000</td>\n",
       "      <td>4981.000000</td>\n",
       "      <td>4981.000000</td>\n",
       "      <td>4981.000000</td>\n",
       "      <td>4981.000000</td>\n",
       "      <td>4981.000000</td>\n",
       "    </tr>\n",
       "    <tr>\n",
       "      <th>mean</th>\n",
       "      <td>43.419859</td>\n",
       "      <td>0.096165</td>\n",
       "      <td>0.055210</td>\n",
       "      <td>105.943562</td>\n",
       "      <td>28.498173</td>\n",
       "      <td>0.049789</td>\n",
       "    </tr>\n",
       "    <tr>\n",
       "      <th>std</th>\n",
       "      <td>22.662755</td>\n",
       "      <td>0.294848</td>\n",
       "      <td>0.228412</td>\n",
       "      <td>45.075373</td>\n",
       "      <td>6.790464</td>\n",
       "      <td>0.217531</td>\n",
       "    </tr>\n",
       "    <tr>\n",
       "      <th>min</th>\n",
       "      <td>0.080000</td>\n",
       "      <td>0.000000</td>\n",
       "      <td>0.000000</td>\n",
       "      <td>55.120000</td>\n",
       "      <td>14.000000</td>\n",
       "      <td>0.000000</td>\n",
       "    </tr>\n",
       "    <tr>\n",
       "      <th>25%</th>\n",
       "      <td>25.000000</td>\n",
       "      <td>0.000000</td>\n",
       "      <td>0.000000</td>\n",
       "      <td>77.230000</td>\n",
       "      <td>23.700000</td>\n",
       "      <td>0.000000</td>\n",
       "    </tr>\n",
       "    <tr>\n",
       "      <th>50%</th>\n",
       "      <td>45.000000</td>\n",
       "      <td>0.000000</td>\n",
       "      <td>0.000000</td>\n",
       "      <td>91.850000</td>\n",
       "      <td>28.100000</td>\n",
       "      <td>0.000000</td>\n",
       "    </tr>\n",
       "    <tr>\n",
       "      <th>75%</th>\n",
       "      <td>61.000000</td>\n",
       "      <td>0.000000</td>\n",
       "      <td>0.000000</td>\n",
       "      <td>113.860000</td>\n",
       "      <td>32.600000</td>\n",
       "      <td>0.000000</td>\n",
       "    </tr>\n",
       "    <tr>\n",
       "      <th>max</th>\n",
       "      <td>82.000000</td>\n",
       "      <td>1.000000</td>\n",
       "      <td>1.000000</td>\n",
       "      <td>271.740000</td>\n",
       "      <td>48.900000</td>\n",
       "      <td>1.000000</td>\n",
       "    </tr>\n",
       "  </tbody>\n",
       "</table>\n",
       "</div>"
      ],
      "text/plain": [
       "               age  hypertension  heart_disease  avg_glucose_level  \\\n",
       "count  4981.000000   4981.000000    4981.000000        4981.000000   \n",
       "mean     43.419859      0.096165       0.055210         105.943562   \n",
       "std      22.662755      0.294848       0.228412          45.075373   \n",
       "min       0.080000      0.000000       0.000000          55.120000   \n",
       "25%      25.000000      0.000000       0.000000          77.230000   \n",
       "50%      45.000000      0.000000       0.000000          91.850000   \n",
       "75%      61.000000      0.000000       0.000000         113.860000   \n",
       "max      82.000000      1.000000       1.000000         271.740000   \n",
       "\n",
       "               bmi       stroke  \n",
       "count  4981.000000  4981.000000  \n",
       "mean     28.498173     0.049789  \n",
       "std       6.790464     0.217531  \n",
       "min      14.000000     0.000000  \n",
       "25%      23.700000     0.000000  \n",
       "50%      28.100000     0.000000  \n",
       "75%      32.600000     0.000000  \n",
       "max      48.900000     1.000000  "
      ]
     },
     "execution_count": 7,
     "metadata": {},
     "output_type": "execute_result"
    }
   ],
   "source": [
    "df.describe()"
   ]
  },
  {
   "cell_type": "markdown",
   "id": "b807c853",
   "metadata": {},
   "source": [
    "### Data Vilualisation"
   ]
  },
  {
   "cell_type": "code",
   "execution_count": 8,
   "id": "39733fa4",
   "metadata": {},
   "outputs": [
    {
     "data": {
      "text/plain": [
       "Female    2907\n",
       "Male      2074\n",
       "Name: gender, dtype: int64"
      ]
     },
     "execution_count": 8,
     "metadata": {},
     "output_type": "execute_result"
    }
   ],
   "source": [
    "df.gender.value_counts()"
   ]
  },
  {
   "cell_type": "code",
   "execution_count": 9,
   "id": "56562181",
   "metadata": {},
   "outputs": [
    {
     "data": {
      "image/png": "[encoded data removed]",
      "text/plain": [
       "<Figure size 720x432 with 1 Axes>"
      ]
     },
     "metadata": {
      "needs_background": "light"
     },
     "output_type": "display_data"
    }
   ],
   "source": [
    "df.gender.value_counts().plot(kind='bar')\n",
    "plt.show()"
   ]
  },
  {
   "cell_type": "code",
   "execution_count": 10,
   "id": "572528ad",
   "metadata": {},
   "outputs": [
    {
     "data": {
      "text/plain": [
       "Private          2860\n",
       "Self-employed     804\n",
       "children          673\n",
       "Govt_job          644\n",
       "Name: work_type, dtype: int64"
      ]
     },
     "execution_count": 10,
     "metadata": {},
     "output_type": "execute_result"
    }
   ],
   "source": [
    "df.work_type.value_counts()"
   ]
  },
  {
   "cell_type": "code",
   "execution_count": 11,
   "id": "c4391859",
   "metadata": {},
   "outputs": [
    {
     "data": {
      "image/png": "[encoded data removed]",
      "text/plain": [
       "<Figure size 720x432 with 1 Axes>"
      ]
     },
     "metadata": {
      "needs_background": "light"
     },
     "output_type": "display_data"
    }
   ],
   "source": [
    "df.work_type.value_counts().plot(kind='bar')\n",
    "plt.show()"
   ]
  },
  {
   "cell_type": "code",
   "execution_count": 12,
   "id": "a7b48b52",
   "metadata": {},
   "outputs": [
    {
     "data": {
      "text/plain": [
       "never smoked       1838\n",
       "Unknown            1500\n",
       "formerly smoked     867\n",
       "smokes              776\n",
       "Name: smoking_status, dtype: int64"
      ]
     },
     "execution_count": 12,
     "metadata": {},
     "output_type": "execute_result"
    }
   ],
   "source": [
    "df.smoking_status.value_counts()"
   ]
  },
  {
   "cell_type": "code",
   "execution_count": 13,
   "id": "be6ea11b",
   "metadata": {},
   "outputs": [
    {
     "data": {
      "image/png": "[encoded data removed]",
      "text/plain": [
       "<Figure size 720x432 with 1 Axes>"
      ]
     },
     "metadata": {
      "needs_background": "light"
     },
     "output_type": "display_data"
    }
   ],
   "source": [
    "df.smoking_status.value_counts().plot(kind='bar')\n",
    "plt.show()"
   ]
  },
  {
   "cell_type": "code",
   "execution_count": 14,
   "id": "85cd9c0d",
   "metadata": {},
   "outputs": [
    {
     "data": {
      "text/plain": [
       "Urban    2532\n",
       "Rural    2449\n",
       "Name: Residence_type, dtype: int64"
      ]
     },
     "execution_count": 14,
     "metadata": {},
     "output_type": "execute_result"
    }
   ],
   "source": [
    "df.Residence_type.value_counts()"
   ]
  },
  {
   "cell_type": "code",
   "execution_count": 15,
   "id": "a74fd4e5",
   "metadata": {},
   "outputs": [
    {
     "data": {
      "image/png": "[encoded data removed]",
      "text/plain": [
       "<Figure size 720x432 with 1 Axes>"
      ]
     },
     "metadata": {
      "needs_background": "light"
     },
     "output_type": "display_data"
    }
   ],
   "source": [
    "df.Residence_type.value_counts().plot(kind='bar')\n",
    "plt.show()"
   ]
  },
  {
   "cell_type": "code",
   "execution_count": 16,
   "id": "7a85ca1e",
   "metadata": {},
   "outputs": [
    {
     "data": {
      "text/plain": [
       "Yes    3280\n",
       "No     1701\n",
       "Name: ever_married, dtype: int64"
      ]
     },
     "execution_count": 16,
     "metadata": {},
     "output_type": "execute_result"
    }
   ],
   "source": [
    "df.ever_married.value_counts()"
   ]
  },
  {
   "cell_type": "code",
   "execution_count": 17,
   "id": "15adf001",
   "metadata": {},
   "outputs": [
    {
     "data": {
      "image/png": "[encoded data removed]",
      "text/plain": [
       "<Figure size 720x432 with 1 Axes>"
      ]
     },
     "metadata": {
      "needs_background": "light"
     },
     "output_type": "display_data"
    }
   ],
   "source": [
    "df.ever_married.value_counts().plot(kind='bar')\n",
    "plt.show()"
   ]
  },
  {
   "cell_type": "markdown",
   "id": "4770dbea",
   "metadata": {},
   "source": [
    "### Splitting age column "
   ]
  },
  {
   "cell_type": "code",
   "execution_count": 18,
   "id": "359bba70",
   "metadata": {},
   "outputs": [
    {
     "data": {
      "text/html": [
       "<div>\n",
       "<style scoped>\n",
       "    .dataframe tbody tr th:only-of-type {\n",
       "        vertical-align: middle;\n",
       "    }\n",
       "\n",
       "    .dataframe tbody tr th {\n",
       "        vertical-align: top;\n",
       "    }\n",
       "\n",
       "    .dataframe thead th {\n",
       "        text-align: right;\n",
       "    }\n",
       "</style>\n",
       "<table border=\"1\" class=\"dataframe\">\n",
       "  <thead>\n",
       "    <tr style=\"text-align: right;\">\n",
       "      <th></th>\n",
       "      <th>gender</th>\n",
       "      <th>age</th>\n",
       "      <th>hypertension</th>\n",
       "      <th>heart_disease</th>\n",
       "      <th>ever_married</th>\n",
       "      <th>work_type</th>\n",
       "      <th>Residence_type</th>\n",
       "      <th>avg_glucose_level</th>\n",
       "      <th>bmi</th>\n",
       "      <th>smoking_status</th>\n",
       "      <th>stroke</th>\n",
       "      <th>age_group</th>\n",
       "    </tr>\n",
       "  </thead>\n",
       "  <tbody>\n",
       "    <tr>\n",
       "      <th>0</th>\n",
       "      <td>Male</td>\n",
       "      <td>67.0</td>\n",
       "      <td>0</td>\n",
       "      <td>1</td>\n",
       "      <td>Yes</td>\n",
       "      <td>Private</td>\n",
       "      <td>Urban</td>\n",
       "      <td>228.69</td>\n",
       "      <td>36.6</td>\n",
       "      <td>formerly smoked</td>\n",
       "      <td>1</td>\n",
       "      <td>Senior</td>\n",
       "    </tr>\n",
       "    <tr>\n",
       "      <th>1</th>\n",
       "      <td>Male</td>\n",
       "      <td>80.0</td>\n",
       "      <td>0</td>\n",
       "      <td>1</td>\n",
       "      <td>Yes</td>\n",
       "      <td>Private</td>\n",
       "      <td>Rural</td>\n",
       "      <td>105.92</td>\n",
       "      <td>32.5</td>\n",
       "      <td>never smoked</td>\n",
       "      <td>1</td>\n",
       "      <td>Senior</td>\n",
       "    </tr>\n",
       "    <tr>\n",
       "      <th>2</th>\n",
       "      <td>Female</td>\n",
       "      <td>49.0</td>\n",
       "      <td>0</td>\n",
       "      <td>0</td>\n",
       "      <td>Yes</td>\n",
       "      <td>Private</td>\n",
       "      <td>Urban</td>\n",
       "      <td>171.23</td>\n",
       "      <td>34.4</td>\n",
       "      <td>smokes</td>\n",
       "      <td>1</td>\n",
       "      <td>Adult</td>\n",
       "    </tr>\n",
       "    <tr>\n",
       "      <th>3</th>\n",
       "      <td>Female</td>\n",
       "      <td>79.0</td>\n",
       "      <td>1</td>\n",
       "      <td>0</td>\n",
       "      <td>Yes</td>\n",
       "      <td>Self-employed</td>\n",
       "      <td>Rural</td>\n",
       "      <td>174.12</td>\n",
       "      <td>24.0</td>\n",
       "      <td>never smoked</td>\n",
       "      <td>1</td>\n",
       "      <td>Senior</td>\n",
       "    </tr>\n",
       "    <tr>\n",
       "      <th>4</th>\n",
       "      <td>Male</td>\n",
       "      <td>81.0</td>\n",
       "      <td>0</td>\n",
       "      <td>0</td>\n",
       "      <td>Yes</td>\n",
       "      <td>Private</td>\n",
       "      <td>Urban</td>\n",
       "      <td>186.21</td>\n",
       "      <td>29.0</td>\n",
       "      <td>formerly smoked</td>\n",
       "      <td>1</td>\n",
       "      <td>Senior</td>\n",
       "    </tr>\n",
       "  </tbody>\n",
       "</table>\n",
       "</div>"
      ],
      "text/plain": [
       "   gender   age  hypertension  heart_disease ever_married      work_type  \\\n",
       "0    Male  67.0             0              1          Yes        Private   \n",
       "1    Male  80.0             0              1          Yes        Private   \n",
       "2  Female  49.0             0              0          Yes        Private   \n",
       "3  Female  79.0             1              0          Yes  Self-employed   \n",
       "4    Male  81.0             0              0          Yes        Private   \n",
       "\n",
       "  Residence_type  avg_glucose_level   bmi   smoking_status  stroke age_group  \n",
       "0          Urban             228.69  36.6  formerly smoked       1    Senior  \n",
       "1          Rural             105.92  32.5     never smoked       1    Senior  \n",
       "2          Urban             171.23  34.4           smokes       1     Adult  \n",
       "3          Rural             174.12  24.0     never smoked       1    Senior  \n",
       "4          Urban             186.21  29.0  formerly smoked       1    Senior  "
      ]
     },
     "execution_count": 18,
     "metadata": {},
     "output_type": "execute_result"
    }
   ],
   "source": [
    "age_group=[]\n",
    "for i in df['age']:\n",
    "    if i<13.0:\n",
    "        age_group.append('Toddler')\n",
    "    elif i>12.0 and i<=19.0:\n",
    "        age_group.append('Teen')\n",
    "    elif i>19.0 and i<60.0:\n",
    "        age_group.append('Adult')\n",
    "    else:\n",
    "        age_group.append('Senior')\n",
    "df['age_group']=age_group\n",
    "df.head()"
   ]
  },
  {
   "cell_type": "code",
   "execution_count": 19,
   "id": "683936c5",
   "metadata": {},
   "outputs": [],
   "source": [
    "df.drop('age',axis=1,inplace=True)"
   ]
  },
  {
   "cell_type": "markdown",
   "id": "8e13bf9e",
   "metadata": {},
   "source": [
    "### Perfoming one_hot encoding for categorical data"
   ]
  },
  {
   "cell_type": "code",
   "execution_count": 20,
   "id": "58a1886f",
   "metadata": {},
   "outputs": [
    {
     "data": {
      "text/html": [
       "<div>\n",
       "<style scoped>\n",
       "    .dataframe tbody tr th:only-of-type {\n",
       "        vertical-align: middle;\n",
       "    }\n",
       "\n",
       "    .dataframe tbody tr th {\n",
       "        vertical-align: top;\n",
       "    }\n",
       "\n",
       "    .dataframe thead th {\n",
       "        text-align: right;\n",
       "    }\n",
       "</style>\n",
       "<table border=\"1\" class=\"dataframe\">\n",
       "  <thead>\n",
       "    <tr style=\"text-align: right;\">\n",
       "      <th></th>\n",
       "      <th>hypertension</th>\n",
       "      <th>heart_disease</th>\n",
       "      <th>avg_glucose_level</th>\n",
       "      <th>bmi</th>\n",
       "      <th>stroke</th>\n",
       "      <th>gender_Male</th>\n",
       "      <th>ever_married_Yes</th>\n",
       "      <th>work_type_Private</th>\n",
       "      <th>work_type_Self-employed</th>\n",
       "      <th>work_type_children</th>\n",
       "      <th>Residence_type_Urban</th>\n",
       "      <th>smoking_status_formerly smoked</th>\n",
       "      <th>smoking_status_never smoked</th>\n",
       "      <th>smoking_status_smokes</th>\n",
       "      <th>age_group_Senior</th>\n",
       "      <th>age_group_Teen</th>\n",
       "      <th>age_group_Toddler</th>\n",
       "    </tr>\n",
       "  </thead>\n",
       "  <tbody>\n",
       "    <tr>\n",
       "      <th>0</th>\n",
       "      <td>0</td>\n",
       "      <td>1</td>\n",
       "      <td>228.69</td>\n",
       "      <td>36.6</td>\n",
       "      <td>1</td>\n",
       "      <td>1</td>\n",
       "      <td>1</td>\n",
       "      <td>1</td>\n",
       "      <td>0</td>\n",
       "      <td>0</td>\n",
       "      <td>1</td>\n",
       "      <td>1</td>\n",
       "      <td>0</td>\n",
       "      <td>0</td>\n",
       "      <td>1</td>\n",
       "      <td>0</td>\n",
       "      <td>0</td>\n",
       "    </tr>\n",
       "    <tr>\n",
       "      <th>1</th>\n",
       "      <td>0</td>\n",
       "      <td>1</td>\n",
       "      <td>105.92</td>\n",
       "      <td>32.5</td>\n",
       "      <td>1</td>\n",
       "      <td>1</td>\n",
       "      <td>1</td>\n",
       "      <td>1</td>\n",
       "      <td>0</td>\n",
       "      <td>0</td>\n",
       "      <td>0</td>\n",
       "      <td>0</td>\n",
       "      <td>1</td>\n",
       "      <td>0</td>\n",
       "      <td>1</td>\n",
       "      <td>0</td>\n",
       "      <td>0</td>\n",
       "    </tr>\n",
       "    <tr>\n",
       "      <th>2</th>\n",
       "      <td>0</td>\n",
       "      <td>0</td>\n",
       "      <td>171.23</td>\n",
       "      <td>34.4</td>\n",
       "      <td>1</td>\n",
       "      <td>0</td>\n",
       "      <td>1</td>\n",
       "      <td>1</td>\n",
       "      <td>0</td>\n",
       "      <td>0</td>\n",
       "      <td>1</td>\n",
       "      <td>0</td>\n",
       "      <td>0</td>\n",
       "      <td>1</td>\n",
       "      <td>0</td>\n",
       "      <td>0</td>\n",
       "      <td>0</td>\n",
       "    </tr>\n",
       "    <tr>\n",
       "      <th>3</th>\n",
       "      <td>1</td>\n",
       "      <td>0</td>\n",
       "      <td>174.12</td>\n",
       "      <td>24.0</td>\n",
       "      <td>1</td>\n",
       "      <td>0</td>\n",
       "      <td>1</td>\n",
       "      <td>0</td>\n",
       "      <td>1</td>\n",
       "      <td>0</td>\n",
       "      <td>0</td>\n",
       "      <td>0</td>\n",
       "      <td>1</td>\n",
       "      <td>0</td>\n",
       "      <td>1</td>\n",
       "      <td>0</td>\n",
       "      <td>0</td>\n",
       "    </tr>\n",
       "    <tr>\n",
       "      <th>4</th>\n",
       "      <td>0</td>\n",
       "      <td>0</td>\n",
       "      <td>186.21</td>\n",
       "      <td>29.0</td>\n",
       "      <td>1</td>\n",
       "      <td>1</td>\n",
       "      <td>1</td>\n",
       "      <td>1</td>\n",
       "      <td>0</td>\n",
       "      <td>0</td>\n",
       "      <td>1</td>\n",
       "      <td>1</td>\n",
       "      <td>0</td>\n",
       "      <td>0</td>\n",
       "      <td>1</td>\n",
       "      <td>0</td>\n",
       "      <td>0</td>\n",
       "    </tr>\n",
       "  </tbody>\n",
       "</table>\n",
       "</div>"
      ],
      "text/plain": [
       "   hypertension  heart_disease  avg_glucose_level   bmi  stroke  gender_Male  \\\n",
       "0             0              1             228.69  36.6       1            1   \n",
       "1             0              1             105.92  32.5       1            1   \n",
       "2             0              0             171.23  34.4       1            0   \n",
       "3             1              0             174.12  24.0       1            0   \n",
       "4             0              0             186.21  29.0       1            1   \n",
       "\n",
       "   ever_married_Yes  work_type_Private  work_type_Self-employed  \\\n",
       "0                 1                  1                        0   \n",
       "1                 1                  1                        0   \n",
       "2                 1                  1                        0   \n",
       "3                 1                  0                        1   \n",
       "4                 1                  1                        0   \n",
       "\n",
       "   work_type_children  Residence_type_Urban  smoking_status_formerly smoked  \\\n",
       "0                   0                     1                               1   \n",
       "1                   0                     0                               0   \n",
       "2                   0                     1                               0   \n",
       "3                   0                     0                               0   \n",
       "4                   0                     1                               1   \n",
       "\n",
       "   smoking_status_never smoked  smoking_status_smokes  age_group_Senior  \\\n",
       "0                            0                      0                 1   \n",
       "1                            1                      0                 1   \n",
       "2                            0                      1                 0   \n",
       "3                            1                      0                 1   \n",
       "4                            0                      0                 1   \n",
       "\n",
       "   age_group_Teen  age_group_Toddler  \n",
       "0               0                  0  \n",
       "1               0                  0  \n",
       "2               0                  0  \n",
       "3               0                  0  \n",
       "4               0                  0  "
      ]
     },
     "execution_count": 20,
     "metadata": {},
     "output_type": "execute_result"
    }
   ],
   "source": [
    "#cat_cols.pop()\n",
    "df_cod=pd.get_dummies(df,drop_first=True)\n",
    "df_cod.head()"
   ]
  },
  {
   "cell_type": "markdown",
   "id": "883b7bef",
   "metadata": {},
   "source": [
    "### Detecting and removing outliers"
   ]
  },
  {
   "cell_type": "code",
   "execution_count": 21,
   "id": "ef46769c",
   "metadata": {},
   "outputs": [
    {
     "data": {
      "text/html": [
       "<div>\n",
       "<style scoped>\n",
       "    .dataframe tbody tr th:only-of-type {\n",
       "        vertical-align: middle;\n",
       "    }\n",
       "\n",
       "    .dataframe tbody tr th {\n",
       "        vertical-align: top;\n",
       "    }\n",
       "\n",
       "    .dataframe thead th {\n",
       "        text-align: right;\n",
       "    }\n",
       "</style>\n",
       "<table border=\"1\" class=\"dataframe\">\n",
       "  <thead>\n",
       "    <tr style=\"text-align: right;\">\n",
       "      <th></th>\n",
       "      <th>hypertension</th>\n",
       "      <th>heart_disease</th>\n",
       "      <th>avg_glucose_level</th>\n",
       "      <th>bmi</th>\n",
       "      <th>stroke</th>\n",
       "      <th>gender_Male</th>\n",
       "      <th>ever_married_Yes</th>\n",
       "      <th>work_type_Private</th>\n",
       "      <th>work_type_Self-employed</th>\n",
       "      <th>work_type_children</th>\n",
       "      <th>Residence_type_Urban</th>\n",
       "      <th>smoking_status_formerly smoked</th>\n",
       "      <th>smoking_status_never smoked</th>\n",
       "      <th>smoking_status_smokes</th>\n",
       "      <th>age_group_Senior</th>\n",
       "      <th>age_group_Teen</th>\n",
       "      <th>age_group_Toddler</th>\n",
       "    </tr>\n",
       "  </thead>\n",
       "  <tbody>\n",
       "    <tr>\n",
       "      <th>0</th>\n",
       "      <td>0</td>\n",
       "      <td>1</td>\n",
       "      <td>105.92</td>\n",
       "      <td>32.5</td>\n",
       "      <td>1</td>\n",
       "      <td>1</td>\n",
       "      <td>1</td>\n",
       "      <td>1</td>\n",
       "      <td>0</td>\n",
       "      <td>0</td>\n",
       "      <td>0</td>\n",
       "      <td>0</td>\n",
       "      <td>1</td>\n",
       "      <td>0</td>\n",
       "      <td>1</td>\n",
       "      <td>0</td>\n",
       "      <td>0</td>\n",
       "    </tr>\n",
       "    <tr>\n",
       "      <th>1</th>\n",
       "      <td>0</td>\n",
       "      <td>0</td>\n",
       "      <td>171.23</td>\n",
       "      <td>34.4</td>\n",
       "      <td>1</td>\n",
       "      <td>0</td>\n",
       "      <td>1</td>\n",
       "      <td>1</td>\n",
       "      <td>0</td>\n",
       "      <td>0</td>\n",
       "      <td>1</td>\n",
       "      <td>0</td>\n",
       "      <td>0</td>\n",
       "      <td>1</td>\n",
       "      <td>0</td>\n",
       "      <td>0</td>\n",
       "      <td>0</td>\n",
       "    </tr>\n",
       "    <tr>\n",
       "      <th>2</th>\n",
       "      <td>1</td>\n",
       "      <td>0</td>\n",
       "      <td>174.12</td>\n",
       "      <td>24.0</td>\n",
       "      <td>1</td>\n",
       "      <td>0</td>\n",
       "      <td>1</td>\n",
       "      <td>0</td>\n",
       "      <td>1</td>\n",
       "      <td>0</td>\n",
       "      <td>0</td>\n",
       "      <td>0</td>\n",
       "      <td>1</td>\n",
       "      <td>0</td>\n",
       "      <td>1</td>\n",
       "      <td>0</td>\n",
       "      <td>0</td>\n",
       "    </tr>\n",
       "    <tr>\n",
       "      <th>3</th>\n",
       "      <td>0</td>\n",
       "      <td>0</td>\n",
       "      <td>186.21</td>\n",
       "      <td>29.0</td>\n",
       "      <td>1</td>\n",
       "      <td>1</td>\n",
       "      <td>1</td>\n",
       "      <td>1</td>\n",
       "      <td>0</td>\n",
       "      <td>0</td>\n",
       "      <td>1</td>\n",
       "      <td>1</td>\n",
       "      <td>0</td>\n",
       "      <td>0</td>\n",
       "      <td>1</td>\n",
       "      <td>0</td>\n",
       "      <td>0</td>\n",
       "    </tr>\n",
       "    <tr>\n",
       "      <th>4</th>\n",
       "      <td>1</td>\n",
       "      <td>1</td>\n",
       "      <td>70.09</td>\n",
       "      <td>27.4</td>\n",
       "      <td>1</td>\n",
       "      <td>1</td>\n",
       "      <td>1</td>\n",
       "      <td>1</td>\n",
       "      <td>0</td>\n",
       "      <td>0</td>\n",
       "      <td>0</td>\n",
       "      <td>0</td>\n",
       "      <td>1</td>\n",
       "      <td>0</td>\n",
       "      <td>1</td>\n",
       "      <td>0</td>\n",
       "      <td>0</td>\n",
       "    </tr>\n",
       "  </tbody>\n",
       "</table>\n",
       "</div>"
      ],
      "text/plain": [
       "   hypertension  heart_disease  avg_glucose_level   bmi  stroke  gender_Male  \\\n",
       "0             0              1             105.92  32.5       1            1   \n",
       "1             0              0             171.23  34.4       1            0   \n",
       "2             1              0             174.12  24.0       1            0   \n",
       "3             0              0             186.21  29.0       1            1   \n",
       "4             1              1              70.09  27.4       1            1   \n",
       "\n",
       "   ever_married_Yes  work_type_Private  work_type_Self-employed  \\\n",
       "0                 1                  1                        0   \n",
       "1                 1                  1                        0   \n",
       "2                 1                  0                        1   \n",
       "3                 1                  1                        0   \n",
       "4                 1                  1                        0   \n",
       "\n",
       "   work_type_children  Residence_type_Urban  smoking_status_formerly smoked  \\\n",
       "0                   0                     0                               0   \n",
       "1                   0                     1                               0   \n",
       "2                   0                     0                               0   \n",
       "3                   0                     1                               1   \n",
       "4                   0                     0                               0   \n",
       "\n",
       "   smoking_status_never smoked  smoking_status_smokes  age_group_Senior  \\\n",
       "0                            1                      0                 1   \n",
       "1                            0                      1                 0   \n",
       "2                            1                      0                 1   \n",
       "3                            0                      0                 1   \n",
       "4                            1                      0                 1   \n",
       "\n",
       "   age_group_Teen  age_group_Toddler  \n",
       "0               0                  0  \n",
       "1               0                  0  \n",
       "2               0                  0  \n",
       "3               0                  0  \n",
       "4               0                  0  "
      ]
     },
     "metadata": {},
     "output_type": "display_data"
    },
    {
     "name": "stdout",
     "output_type": "stream",
     "text": [
      "\n",
      "\u001b[1mInference:\u001b[0m Before removal of outliers, The dataset had 4981 samples.\n",
      "\u001b[1mInference:\u001b[0m After removal of outliers, The dataset now has 4555 samples.\n"
     ]
    }
   ],
   "source": [
    "df1 = df_cod.copy()\n",
    "\n",
    "for i in [i for i in df1.columns]:\n",
    "    if df1[i].nunique()>=12:\n",
    "        Q1 = df1[i].quantile(0.20)\n",
    "        Q3 = df1[i].quantile(0.80)\n",
    "        IQR = Q3 - Q1\n",
    "        df1 = df1[df1[i] <= (Q3+(1.5*IQR))]\n",
    "        df1 = df1[df1[i] >= (Q1-(1.5*IQR))]\n",
    "df1 = df1.reset_index(drop=True)\n",
    "display(df1.head())\n",
    "print('\\n\\033[1mInference:\\033[0m Before removal of outliers, The dataset had {} samples.'.format(df.shape[0]))\n",
    "print('\\033[1mInference:\\033[0m After removal of outliers, The dataset now has {} samples.'.format(df1.shape[0]))"
   ]
  },
  {
   "cell_type": "markdown",
   "id": "34b48fd9",
   "metadata": {},
   "source": [
    "### Checking for balanced data"
   ]
  },
  {
   "cell_type": "code",
   "execution_count": 22,
   "id": "628826a4",
   "metadata": {},
   "outputs": [
    {
     "data": {
      "image/png": "[encoded data removed]",
      "text/plain": [
       "<Figure size 720x432 with 1 Axes>"
      ]
     },
     "metadata": {
      "needs_background": "light"
     },
     "output_type": "display_data"
    }
   ],
   "source": [
    "sns.countplot(data=df1,x='stroke')\n",
    "plt.show()\n"
   ]
  },
  {
   "cell_type": "code",
   "execution_count": 23,
   "id": "2176f358",
   "metadata": {},
   "outputs": [
    {
     "data": {
      "text/plain": [
       "190"
      ]
     },
     "execution_count": 23,
     "metadata": {},
     "output_type": "execute_result"
    }
   ],
   "source": [
    "(df1['stroke']==1).sum()"
   ]
  },
  {
   "cell_type": "code",
   "execution_count": 24,
   "id": "1fab3bda",
   "metadata": {},
   "outputs": [
    {
     "data": {
      "text/plain": [
       "4365"
      ]
     },
     "execution_count": 24,
     "metadata": {},
     "output_type": "execute_result"
    }
   ],
   "source": [
    "(df1['stroke']==0).sum()"
   ]
  },
  {
   "cell_type": "markdown",
   "id": "59d00785",
   "metadata": {},
   "source": [
    "The data is not balanced.We shall perform Random oversampling technique"
   ]
  },
  {
   "cell_type": "code",
   "execution_count": 25,
   "id": "c09aa39b",
   "metadata": {},
   "outputs": [],
   "source": [
    "#columns = ['gender', 'age', 'hypertension', 'heart_disease', 'ever_married',\n",
    " #      'work_type', 'Residence_type', 'avg_glucose_level', 'bmi',\n",
    "  #     'smoking_status', 'stroke']\n",
    "#df = pd.get_dummies(df[columns])"
   ]
  },
  {
   "cell_type": "markdown",
   "id": "666a779f",
   "metadata": {},
   "source": [
    "### Scaling data for the model to assign equal weights to all features"
   ]
  },
  {
   "cell_type": "code",
   "execution_count": 26,
   "id": "10d6890c",
   "metadata": {
    "scrolled": true
   },
   "outputs": [
    {
     "data": {
      "text/html": [
       "<div>\n",
       "<style scoped>\n",
       "    .dataframe tbody tr th:only-of-type {\n",
       "        vertical-align: middle;\n",
       "    }\n",
       "\n",
       "    .dataframe tbody tr th {\n",
       "        vertical-align: top;\n",
       "    }\n",
       "\n",
       "    .dataframe thead th {\n",
       "        text-align: right;\n",
       "    }\n",
       "</style>\n",
       "<table border=\"1\" class=\"dataframe\">\n",
       "  <thead>\n",
       "    <tr style=\"text-align: right;\">\n",
       "      <th></th>\n",
       "      <th>hypertension</th>\n",
       "      <th>heart_disease</th>\n",
       "      <th>avg_glucose_level</th>\n",
       "      <th>bmi</th>\n",
       "      <th>stroke</th>\n",
       "      <th>gender_Male</th>\n",
       "      <th>ever_married_Yes</th>\n",
       "      <th>work_type_Private</th>\n",
       "      <th>work_type_Self-employed</th>\n",
       "      <th>work_type_children</th>\n",
       "      <th>Residence_type_Urban</th>\n",
       "      <th>smoking_status_formerly smoked</th>\n",
       "      <th>smoking_status_never smoked</th>\n",
       "      <th>smoking_status_smokes</th>\n",
       "      <th>age_group_Senior</th>\n",
       "      <th>age_group_Teen</th>\n",
       "      <th>age_group_Toddler</th>\n",
       "    </tr>\n",
       "  </thead>\n",
       "  <tbody>\n",
       "    <tr>\n",
       "      <th>0</th>\n",
       "      <td>0.0</td>\n",
       "      <td>1.0</td>\n",
       "      <td>0.353465</td>\n",
       "      <td>0.530086</td>\n",
       "      <td>1.0</td>\n",
       "      <td>1.0</td>\n",
       "      <td>1.0</td>\n",
       "      <td>1.0</td>\n",
       "      <td>0.0</td>\n",
       "      <td>0.0</td>\n",
       "      <td>0.0</td>\n",
       "      <td>0.0</td>\n",
       "      <td>1.0</td>\n",
       "      <td>0.0</td>\n",
       "      <td>1.0</td>\n",
       "      <td>0.0</td>\n",
       "      <td>0.0</td>\n",
       "    </tr>\n",
       "    <tr>\n",
       "      <th>1</th>\n",
       "      <td>0.0</td>\n",
       "      <td>0.0</td>\n",
       "      <td>0.807890</td>\n",
       "      <td>0.584527</td>\n",
       "      <td>1.0</td>\n",
       "      <td>0.0</td>\n",
       "      <td>1.0</td>\n",
       "      <td>1.0</td>\n",
       "      <td>0.0</td>\n",
       "      <td>0.0</td>\n",
       "      <td>1.0</td>\n",
       "      <td>0.0</td>\n",
       "      <td>0.0</td>\n",
       "      <td>1.0</td>\n",
       "      <td>0.0</td>\n",
       "      <td>0.0</td>\n",
       "      <td>0.0</td>\n",
       "    </tr>\n",
       "    <tr>\n",
       "      <th>2</th>\n",
       "      <td>1.0</td>\n",
       "      <td>0.0</td>\n",
       "      <td>0.827999</td>\n",
       "      <td>0.286533</td>\n",
       "      <td>1.0</td>\n",
       "      <td>0.0</td>\n",
       "      <td>1.0</td>\n",
       "      <td>0.0</td>\n",
       "      <td>1.0</td>\n",
       "      <td>0.0</td>\n",
       "      <td>0.0</td>\n",
       "      <td>0.0</td>\n",
       "      <td>1.0</td>\n",
       "      <td>0.0</td>\n",
       "      <td>1.0</td>\n",
       "      <td>0.0</td>\n",
       "      <td>0.0</td>\n",
       "    </tr>\n",
       "    <tr>\n",
       "      <th>3</th>\n",
       "      <td>0.0</td>\n",
       "      <td>0.0</td>\n",
       "      <td>0.912121</td>\n",
       "      <td>0.429799</td>\n",
       "      <td>1.0</td>\n",
       "      <td>1.0</td>\n",
       "      <td>1.0</td>\n",
       "      <td>1.0</td>\n",
       "      <td>0.0</td>\n",
       "      <td>0.0</td>\n",
       "      <td>1.0</td>\n",
       "      <td>1.0</td>\n",
       "      <td>0.0</td>\n",
       "      <td>0.0</td>\n",
       "      <td>1.0</td>\n",
       "      <td>0.0</td>\n",
       "      <td>0.0</td>\n",
       "    </tr>\n",
       "    <tr>\n",
       "      <th>4</th>\n",
       "      <td>1.0</td>\n",
       "      <td>1.0</td>\n",
       "      <td>0.104161</td>\n",
       "      <td>0.383954</td>\n",
       "      <td>1.0</td>\n",
       "      <td>1.0</td>\n",
       "      <td>1.0</td>\n",
       "      <td>1.0</td>\n",
       "      <td>0.0</td>\n",
       "      <td>0.0</td>\n",
       "      <td>0.0</td>\n",
       "      <td>0.0</td>\n",
       "      <td>1.0</td>\n",
       "      <td>0.0</td>\n",
       "      <td>1.0</td>\n",
       "      <td>0.0</td>\n",
       "      <td>0.0</td>\n",
       "    </tr>\n",
       "  </tbody>\n",
       "</table>\n",
       "</div>"
      ],
      "text/plain": [
       "   hypertension  heart_disease  avg_glucose_level       bmi  stroke  \\\n",
       "0           0.0            1.0           0.353465  0.530086     1.0   \n",
       "1           0.0            0.0           0.807890  0.584527     1.0   \n",
       "2           1.0            0.0           0.827999  0.286533     1.0   \n",
       "3           0.0            0.0           0.912121  0.429799     1.0   \n",
       "4           1.0            1.0           0.104161  0.383954     1.0   \n",
       "\n",
       "   gender_Male  ever_married_Yes  work_type_Private  work_type_Self-employed  \\\n",
       "0          1.0               1.0                1.0                      0.0   \n",
       "1          0.0               1.0                1.0                      0.0   \n",
       "2          0.0               1.0                0.0                      1.0   \n",
       "3          1.0               1.0                1.0                      0.0   \n",
       "4          1.0               1.0                1.0                      0.0   \n",
       "\n",
       "   work_type_children  Residence_type_Urban  smoking_status_formerly smoked  \\\n",
       "0                 0.0                   0.0                             0.0   \n",
       "1                 0.0                   1.0                             0.0   \n",
       "2                 0.0                   0.0                             0.0   \n",
       "3                 0.0                   1.0                             1.0   \n",
       "4                 0.0                   0.0                             0.0   \n",
       "\n",
       "   smoking_status_never smoked  smoking_status_smokes  age_group_Senior  \\\n",
       "0                          1.0                    0.0               1.0   \n",
       "1                          0.0                    1.0               0.0   \n",
       "2                          1.0                    0.0               1.0   \n",
       "3                          0.0                    0.0               1.0   \n",
       "4                          1.0                    0.0               1.0   \n",
       "\n",
       "   age_group_Teen  age_group_Toddler  \n",
       "0             0.0                0.0  \n",
       "1             0.0                0.0  \n",
       "2             0.0                0.0  \n",
       "3             0.0                0.0  \n",
       "4             0.0                0.0  "
      ]
     },
     "execution_count": 26,
     "metadata": {},
     "output_type": "execute_result"
    }
   ],
   "source": [
    "scaler = MinMaxScaler()\n",
    "dffit= pd.DataFrame(scaler.fit_transform(df1),columns=df1.columns)\n",
    "dffit.head()"
   ]
  },
  {
   "cell_type": "markdown",
   "id": "ab1e2908",
   "metadata": {},
   "source": [
    "### Performing resampling for the unbalanced target column"
   ]
  },
  {
   "cell_type": "code",
   "execution_count": 27,
   "id": "5323f1be",
   "metadata": {},
   "outputs": [],
   "source": [
    "from imblearn.over_sampling import RandomOverSampler\n",
    "oversample = RandomOverSampler(sampling_strategy='minority')\n",
    "X=dffit.drop(['stroke'],axis=1)\n",
    "y=dffit['stroke']\n",
    "X_over, y_over = oversample.fit_resample(X, y)"
   ]
  },
  {
   "cell_type": "code",
   "execution_count": 28,
   "id": "97d6d477",
   "metadata": {},
   "outputs": [],
   "source": [
    "df_final=pd.concat([X_over, y_over ],axis=1)"
   ]
  },
  {
   "cell_type": "code",
   "execution_count": 29,
   "id": "6bfe6f54",
   "metadata": {},
   "outputs": [
    {
     "data": {
      "text/plain": [
       "1.0    4365\n",
       "0.0    4365\n",
       "Name: stroke, dtype: int64"
      ]
     },
     "execution_count": 29,
     "metadata": {},
     "output_type": "execute_result"
    }
   ],
   "source": [
    "y_over.value_counts()"
   ]
  },
  {
   "cell_type": "code",
   "execution_count": 30,
   "id": "0065d531",
   "metadata": {},
   "outputs": [
    {
     "data": {
      "image/png": "[encoded data removed]",
      "text/plain": [
       "<Figure size 720x432 with 1 Axes>"
      ]
     },
     "metadata": {
      "needs_background": "light"
     },
     "output_type": "display_data"
    }
   ],
   "source": [
    "sns.countplot(data=df_final,x='stroke')\n",
    "plt.show()"
   ]
  },
  {
   "cell_type": "markdown",
   "id": "eed7da3b",
   "metadata": {},
   "source": [
    "Our data is balanced now"
   ]
  },
  {
   "cell_type": "code",
   "execution_count": 31,
   "id": "435982af",
   "metadata": {},
   "outputs": [],
   "source": [
    "df_final=pd.concat([X_over, y_over ],axis=1)"
   ]
  },
  {
   "cell_type": "code",
   "execution_count": 32,
   "id": "38124f40",
   "metadata": {},
   "outputs": [
    {
     "data": {
      "text/html": [
       "<div>\n",
       "<style scoped>\n",
       "    .dataframe tbody tr th:only-of-type {\n",
       "        vertical-align: middle;\n",
       "    }\n",
       "\n",
       "    .dataframe tbody tr th {\n",
       "        vertical-align: top;\n",
       "    }\n",
       "\n",
       "    .dataframe thead th {\n",
       "        text-align: right;\n",
       "    }\n",
       "</style>\n",
       "<table border=\"1\" class=\"dataframe\">\n",
       "  <thead>\n",
       "    <tr style=\"text-align: right;\">\n",
       "      <th></th>\n",
       "      <th>hypertension</th>\n",
       "      <th>heart_disease</th>\n",
       "      <th>avg_glucose_level</th>\n",
       "      <th>bmi</th>\n",
       "      <th>gender_Male</th>\n",
       "      <th>ever_married_Yes</th>\n",
       "      <th>work_type_Private</th>\n",
       "      <th>work_type_Self-employed</th>\n",
       "      <th>work_type_children</th>\n",
       "      <th>Residence_type_Urban</th>\n",
       "      <th>smoking_status_formerly smoked</th>\n",
       "      <th>smoking_status_never smoked</th>\n",
       "      <th>smoking_status_smokes</th>\n",
       "      <th>age_group_Senior</th>\n",
       "      <th>age_group_Teen</th>\n",
       "      <th>age_group_Toddler</th>\n",
       "      <th>stroke</th>\n",
       "    </tr>\n",
       "  </thead>\n",
       "  <tbody>\n",
       "    <tr>\n",
       "      <th>0</th>\n",
       "      <td>0.0</td>\n",
       "      <td>1.0</td>\n",
       "      <td>0.353465</td>\n",
       "      <td>0.530086</td>\n",
       "      <td>1.0</td>\n",
       "      <td>1.0</td>\n",
       "      <td>1.0</td>\n",
       "      <td>0.0</td>\n",
       "      <td>0.0</td>\n",
       "      <td>0.0</td>\n",
       "      <td>0.0</td>\n",
       "      <td>1.0</td>\n",
       "      <td>0.0</td>\n",
       "      <td>1.0</td>\n",
       "      <td>0.0</td>\n",
       "      <td>0.0</td>\n",
       "      <td>1.0</td>\n",
       "    </tr>\n",
       "    <tr>\n",
       "      <th>1</th>\n",
       "      <td>0.0</td>\n",
       "      <td>0.0</td>\n",
       "      <td>0.807890</td>\n",
       "      <td>0.584527</td>\n",
       "      <td>0.0</td>\n",
       "      <td>1.0</td>\n",
       "      <td>1.0</td>\n",
       "      <td>0.0</td>\n",
       "      <td>0.0</td>\n",
       "      <td>1.0</td>\n",
       "      <td>0.0</td>\n",
       "      <td>0.0</td>\n",
       "      <td>1.0</td>\n",
       "      <td>0.0</td>\n",
       "      <td>0.0</td>\n",
       "      <td>0.0</td>\n",
       "      <td>1.0</td>\n",
       "    </tr>\n",
       "    <tr>\n",
       "      <th>2</th>\n",
       "      <td>1.0</td>\n",
       "      <td>0.0</td>\n",
       "      <td>0.827999</td>\n",
       "      <td>0.286533</td>\n",
       "      <td>0.0</td>\n",
       "      <td>1.0</td>\n",
       "      <td>0.0</td>\n",
       "      <td>1.0</td>\n",
       "      <td>0.0</td>\n",
       "      <td>0.0</td>\n",
       "      <td>0.0</td>\n",
       "      <td>1.0</td>\n",
       "      <td>0.0</td>\n",
       "      <td>1.0</td>\n",
       "      <td>0.0</td>\n",
       "      <td>0.0</td>\n",
       "      <td>1.0</td>\n",
       "    </tr>\n",
       "    <tr>\n",
       "      <th>3</th>\n",
       "      <td>0.0</td>\n",
       "      <td>0.0</td>\n",
       "      <td>0.912121</td>\n",
       "      <td>0.429799</td>\n",
       "      <td>1.0</td>\n",
       "      <td>1.0</td>\n",
       "      <td>1.0</td>\n",
       "      <td>0.0</td>\n",
       "      <td>0.0</td>\n",
       "      <td>1.0</td>\n",
       "      <td>1.0</td>\n",
       "      <td>0.0</td>\n",
       "      <td>0.0</td>\n",
       "      <td>1.0</td>\n",
       "      <td>0.0</td>\n",
       "      <td>0.0</td>\n",
       "      <td>1.0</td>\n",
       "    </tr>\n",
       "    <tr>\n",
       "      <th>4</th>\n",
       "      <td>1.0</td>\n",
       "      <td>1.0</td>\n",
       "      <td>0.104161</td>\n",
       "      <td>0.383954</td>\n",
       "      <td>1.0</td>\n",
       "      <td>1.0</td>\n",
       "      <td>1.0</td>\n",
       "      <td>0.0</td>\n",
       "      <td>0.0</td>\n",
       "      <td>0.0</td>\n",
       "      <td>0.0</td>\n",
       "      <td>1.0</td>\n",
       "      <td>0.0</td>\n",
       "      <td>1.0</td>\n",
       "      <td>0.0</td>\n",
       "      <td>0.0</td>\n",
       "      <td>1.0</td>\n",
       "    </tr>\n",
       "    <tr>\n",
       "      <th>...</th>\n",
       "      <td>...</td>\n",
       "      <td>...</td>\n",
       "      <td>...</td>\n",
       "      <td>...</td>\n",
       "      <td>...</td>\n",
       "      <td>...</td>\n",
       "      <td>...</td>\n",
       "      <td>...</td>\n",
       "      <td>...</td>\n",
       "      <td>...</td>\n",
       "      <td>...</td>\n",
       "      <td>...</td>\n",
       "      <td>...</td>\n",
       "      <td>...</td>\n",
       "      <td>...</td>\n",
       "      <td>...</td>\n",
       "      <td>...</td>\n",
       "    </tr>\n",
       "    <tr>\n",
       "      <th>8725</th>\n",
       "      <td>0.0</td>\n",
       "      <td>1.0</td>\n",
       "      <td>0.624687</td>\n",
       "      <td>0.355301</td>\n",
       "      <td>1.0</td>\n",
       "      <td>1.0</td>\n",
       "      <td>1.0</td>\n",
       "      <td>0.0</td>\n",
       "      <td>0.0</td>\n",
       "      <td>1.0</td>\n",
       "      <td>0.0</td>\n",
       "      <td>0.0</td>\n",
       "      <td>1.0</td>\n",
       "      <td>1.0</td>\n",
       "      <td>0.0</td>\n",
       "      <td>0.0</td>\n",
       "      <td>1.0</td>\n",
       "    </tr>\n",
       "    <tr>\n",
       "      <th>8726</th>\n",
       "      <td>0.0</td>\n",
       "      <td>0.0</td>\n",
       "      <td>0.064848</td>\n",
       "      <td>0.888252</td>\n",
       "      <td>0.0</td>\n",
       "      <td>1.0</td>\n",
       "      <td>1.0</td>\n",
       "      <td>0.0</td>\n",
       "      <td>0.0</td>\n",
       "      <td>1.0</td>\n",
       "      <td>0.0</td>\n",
       "      <td>1.0</td>\n",
       "      <td>0.0</td>\n",
       "      <td>1.0</td>\n",
       "      <td>0.0</td>\n",
       "      <td>0.0</td>\n",
       "      <td>1.0</td>\n",
       "    </tr>\n",
       "    <tr>\n",
       "      <th>8727</th>\n",
       "      <td>1.0</td>\n",
       "      <td>0.0</td>\n",
       "      <td>0.093515</td>\n",
       "      <td>0.349570</td>\n",
       "      <td>0.0</td>\n",
       "      <td>1.0</td>\n",
       "      <td>0.0</td>\n",
       "      <td>1.0</td>\n",
       "      <td>0.0</td>\n",
       "      <td>1.0</td>\n",
       "      <td>0.0</td>\n",
       "      <td>0.0</td>\n",
       "      <td>0.0</td>\n",
       "      <td>1.0</td>\n",
       "      <td>0.0</td>\n",
       "      <td>0.0</td>\n",
       "      <td>1.0</td>\n",
       "    </tr>\n",
       "    <tr>\n",
       "      <th>8728</th>\n",
       "      <td>0.0</td>\n",
       "      <td>0.0</td>\n",
       "      <td>0.122530</td>\n",
       "      <td>0.412607</td>\n",
       "      <td>1.0</td>\n",
       "      <td>1.0</td>\n",
       "      <td>1.0</td>\n",
       "      <td>0.0</td>\n",
       "      <td>0.0</td>\n",
       "      <td>0.0</td>\n",
       "      <td>0.0</td>\n",
       "      <td>1.0</td>\n",
       "      <td>0.0</td>\n",
       "      <td>1.0</td>\n",
       "      <td>0.0</td>\n",
       "      <td>0.0</td>\n",
       "      <td>1.0</td>\n",
       "    </tr>\n",
       "    <tr>\n",
       "      <th>8729</th>\n",
       "      <td>0.0</td>\n",
       "      <td>0.0</td>\n",
       "      <td>0.186682</td>\n",
       "      <td>0.083095</td>\n",
       "      <td>0.0</td>\n",
       "      <td>1.0</td>\n",
       "      <td>0.0</td>\n",
       "      <td>1.0</td>\n",
       "      <td>0.0</td>\n",
       "      <td>0.0</td>\n",
       "      <td>0.0</td>\n",
       "      <td>1.0</td>\n",
       "      <td>0.0</td>\n",
       "      <td>1.0</td>\n",
       "      <td>0.0</td>\n",
       "      <td>0.0</td>\n",
       "      <td>1.0</td>\n",
       "    </tr>\n",
       "  </tbody>\n",
       "</table>\n",
       "<p>8730 rows × 17 columns</p>\n",
       "</div>"
      ],
      "text/plain": [
       "      hypertension  heart_disease  avg_glucose_level       bmi  gender_Male  \\\n",
       "0              0.0            1.0           0.353465  0.530086          1.0   \n",
       "1              0.0            0.0           0.807890  0.584527          0.0   \n",
       "2              1.0            0.0           0.827999  0.286533          0.0   \n",
       "3              0.0            0.0           0.912121  0.429799          1.0   \n",
       "4              1.0            1.0           0.104161  0.383954          1.0   \n",
       "...            ...            ...                ...       ...          ...   \n",
       "8725           0.0            1.0           0.624687  0.355301          1.0   \n",
       "8726           0.0            0.0           0.064848  0.888252          0.0   \n",
       "8727           1.0            0.0           0.093515  0.349570          0.0   \n",
       "8728           0.0            0.0           0.122530  0.412607          1.0   \n",
       "8729           0.0            0.0           0.186682  0.083095          0.0   \n",
       "\n",
       "      ever_married_Yes  work_type_Private  work_type_Self-employed  \\\n",
       "0                  1.0                1.0                      0.0   \n",
       "1                  1.0                1.0                      0.0   \n",
       "2                  1.0                0.0                      1.0   \n",
       "3                  1.0                1.0                      0.0   \n",
       "4                  1.0                1.0                      0.0   \n",
       "...                ...                ...                      ...   \n",
       "8725               1.0                1.0                      0.0   \n",
       "8726               1.0                1.0                      0.0   \n",
       "8727               1.0                0.0                      1.0   \n",
       "8728               1.0                1.0                      0.0   \n",
       "8729               1.0                0.0                      1.0   \n",
       "\n",
       "      work_type_children  Residence_type_Urban  \\\n",
       "0                    0.0                   0.0   \n",
       "1                    0.0                   1.0   \n",
       "2                    0.0                   0.0   \n",
       "3                    0.0                   1.0   \n",
       "4                    0.0                   0.0   \n",
       "...                  ...                   ...   \n",
       "8725                 0.0                   1.0   \n",
       "8726                 0.0                   1.0   \n",
       "8727                 0.0                   1.0   \n",
       "8728                 0.0                   0.0   \n",
       "8729                 0.0                   0.0   \n",
       "\n",
       "      smoking_status_formerly smoked  smoking_status_never smoked  \\\n",
       "0                                0.0                          1.0   \n",
       "1                                0.0                          0.0   \n",
       "2                                0.0                          1.0   \n",
       "3                                1.0                          0.0   \n",
       "4                                0.0                          1.0   \n",
       "...                              ...                          ...   \n",
       "8725                             0.0                          0.0   \n",
       "8726                             0.0                          1.0   \n",
       "8727                             0.0                          0.0   \n",
       "8728                             0.0                          1.0   \n",
       "8729                             0.0                          1.0   \n",
       "\n",
       "      smoking_status_smokes  age_group_Senior  age_group_Teen  \\\n",
       "0                       0.0               1.0             0.0   \n",
       "1                       1.0               0.0             0.0   \n",
       "2                       0.0               1.0             0.0   \n",
       "3                       0.0               1.0             0.0   \n",
       "4                       0.0               1.0             0.0   \n",
       "...                     ...               ...             ...   \n",
       "8725                    1.0               1.0             0.0   \n",
       "8726                    0.0               1.0             0.0   \n",
       "8727                    0.0               1.0             0.0   \n",
       "8728                    0.0               1.0             0.0   \n",
       "8729                    0.0               1.0             0.0   \n",
       "\n",
       "      age_group_Toddler  stroke  \n",
       "0                   0.0     1.0  \n",
       "1                   0.0     1.0  \n",
       "2                   0.0     1.0  \n",
       "3                   0.0     1.0  \n",
       "4                   0.0     1.0  \n",
       "...                 ...     ...  \n",
       "8725                0.0     1.0  \n",
       "8726                0.0     1.0  \n",
       "8727                0.0     1.0  \n",
       "8728                0.0     1.0  \n",
       "8729                0.0     1.0  \n",
       "\n",
       "[8730 rows x 17 columns]"
      ]
     },
     "execution_count": 32,
     "metadata": {},
     "output_type": "execute_result"
    }
   ],
   "source": [
    "df_final"
   ]
  },
  {
   "cell_type": "markdown",
   "id": "e2b9da4b",
   "metadata": {},
   "source": [
    "### Checking for multicollinearity"
   ]
  },
  {
   "cell_type": "code",
   "execution_count": 33,
   "id": "0906cb1d",
   "metadata": {},
   "outputs": [],
   "source": [
    "cor=df_final.corr()"
   ]
  },
  {
   "cell_type": "code",
   "execution_count": 34,
   "id": "ccaa909a",
   "metadata": {},
   "outputs": [
    {
     "data": {
      "text/html": [
       "<div>\n",
       "<style scoped>\n",
       "    .dataframe tbody tr th:only-of-type {\n",
       "        vertical-align: middle;\n",
       "    }\n",
       "\n",
       "    .dataframe tbody tr th {\n",
       "        vertical-align: top;\n",
       "    }\n",
       "\n",
       "    .dataframe thead th {\n",
       "        text-align: right;\n",
       "    }\n",
       "</style>\n",
       "<table border=\"1\" class=\"dataframe\">\n",
       "  <thead>\n",
       "    <tr style=\"text-align: right;\">\n",
       "      <th></th>\n",
       "      <th>hypertension</th>\n",
       "      <th>heart_disease</th>\n",
       "      <th>avg_glucose_level</th>\n",
       "      <th>bmi</th>\n",
       "      <th>gender_Male</th>\n",
       "      <th>ever_married_Yes</th>\n",
       "      <th>work_type_Private</th>\n",
       "      <th>work_type_Self-employed</th>\n",
       "      <th>work_type_children</th>\n",
       "      <th>Residence_type_Urban</th>\n",
       "      <th>smoking_status_formerly smoked</th>\n",
       "      <th>smoking_status_never smoked</th>\n",
       "      <th>smoking_status_smokes</th>\n",
       "      <th>age_group_Senior</th>\n",
       "      <th>age_group_Teen</th>\n",
       "      <th>age_group_Toddler</th>\n",
       "      <th>stroke</th>\n",
       "    </tr>\n",
       "  </thead>\n",
       "  <tbody>\n",
       "    <tr>\n",
       "      <th>hypertension</th>\n",
       "      <td>1.000000</td>\n",
       "      <td>0.050321</td>\n",
       "      <td>0.079978</td>\n",
       "      <td>0.108929</td>\n",
       "      <td>-0.028224</td>\n",
       "      <td>0.086971</td>\n",
       "      <td>-0.075716</td>\n",
       "      <td>0.183857</td>\n",
       "      <td>-0.129623</td>\n",
       "      <td>-0.042969</td>\n",
       "      <td>0.063176</td>\n",
       "      <td>0.134423</td>\n",
       "      <td>-0.044413</td>\n",
       "      <td>0.246744</td>\n",
       "      <td>-0.090312</td>\n",
       "      <td>-0.117773</td>\n",
       "      <td>0.230511</td>\n",
       "    </tr>\n",
       "    <tr>\n",
       "      <th>heart_disease</th>\n",
       "      <td>0.050321</td>\n",
       "      <td>1.000000</td>\n",
       "      <td>0.079574</td>\n",
       "      <td>0.051167</td>\n",
       "      <td>0.135628</td>\n",
       "      <td>0.084190</td>\n",
       "      <td>0.020273</td>\n",
       "      <td>0.032415</td>\n",
       "      <td>-0.088698</td>\n",
       "      <td>-0.023286</td>\n",
       "      <td>0.020649</td>\n",
       "      <td>-0.069045</td>\n",
       "      <td>0.154315</td>\n",
       "      <td>0.287846</td>\n",
       "      <td>-0.063929</td>\n",
       "      <td>-0.080322</td>\n",
       "      <td>0.160586</td>\n",
       "    </tr>\n",
       "    <tr>\n",
       "      <th>avg_glucose_level</th>\n",
       "      <td>0.079978</td>\n",
       "      <td>0.079574</td>\n",
       "      <td>1.000000</td>\n",
       "      <td>0.132653</td>\n",
       "      <td>0.092953</td>\n",
       "      <td>0.125856</td>\n",
       "      <td>-0.021489</td>\n",
       "      <td>0.037744</td>\n",
       "      <td>-0.069938</td>\n",
       "      <td>-0.015171</td>\n",
       "      <td>0.059055</td>\n",
       "      <td>-0.021868</td>\n",
       "      <td>0.024433</td>\n",
       "      <td>0.104733</td>\n",
       "      <td>-0.041333</td>\n",
       "      <td>-0.060543</td>\n",
       "      <td>0.141908</td>\n",
       "    </tr>\n",
       "    <tr>\n",
       "      <th>bmi</th>\n",
       "      <td>0.108929</td>\n",
       "      <td>0.051167</td>\n",
       "      <td>0.132653</td>\n",
       "      <td>1.000000</td>\n",
       "      <td>0.049244</td>\n",
       "      <td>0.281828</td>\n",
       "      <td>0.140897</td>\n",
       "      <td>0.067588</td>\n",
       "      <td>-0.409402</td>\n",
       "      <td>0.029250</td>\n",
       "      <td>0.088624</td>\n",
       "      <td>0.050808</td>\n",
       "      <td>0.091144</td>\n",
       "      <td>-0.013172</td>\n",
       "      <td>-0.093041</td>\n",
       "      <td>-0.412792</td>\n",
       "      <td>0.096166</td>\n",
       "    </tr>\n",
       "    <tr>\n",
       "      <th>gender_Male</th>\n",
       "      <td>-0.028224</td>\n",
       "      <td>0.135628</td>\n",
       "      <td>0.092953</td>\n",
       "      <td>0.049244</td>\n",
       "      <td>1.000000</td>\n",
       "      <td>0.018678</td>\n",
       "      <td>0.072451</td>\n",
       "      <td>-0.037978</td>\n",
       "      <td>0.055985</td>\n",
       "      <td>0.003688</td>\n",
       "      <td>0.067966</td>\n",
       "      <td>-0.152270</td>\n",
       "      <td>0.049409</td>\n",
       "      <td>0.012154</td>\n",
       "      <td>0.010451</td>\n",
       "      <td>0.061603</td>\n",
       "      <td>-0.006526</td>\n",
       "    </tr>\n",
       "    <tr>\n",
       "      <th>ever_married_Yes</th>\n",
       "      <td>0.086971</td>\n",
       "      <td>0.084190</td>\n",
       "      <td>0.125856</td>\n",
       "      <td>0.281828</td>\n",
       "      <td>0.018678</td>\n",
       "      <td>1.000000</td>\n",
       "      <td>0.106276</td>\n",
       "      <td>0.142990</td>\n",
       "      <td>-0.514086</td>\n",
       "      <td>-0.055557</td>\n",
       "      <td>0.190437</td>\n",
       "      <td>0.002169</td>\n",
       "      <td>0.097752</td>\n",
       "      <td>0.293744</td>\n",
       "      <td>-0.360389</td>\n",
       "      <td>-0.467085</td>\n",
       "      <td>0.284355</td>\n",
       "    </tr>\n",
       "    <tr>\n",
       "      <th>work_type_Private</th>\n",
       "      <td>-0.075716</td>\n",
       "      <td>0.020273</td>\n",
       "      <td>-0.021489</td>\n",
       "      <td>0.140897</td>\n",
       "      <td>0.072451</td>\n",
       "      <td>0.106276</td>\n",
       "      <td>1.000000</td>\n",
       "      <td>-0.607454</td>\n",
       "      <td>-0.337021</td>\n",
       "      <td>-0.009437</td>\n",
       "      <td>0.038605</td>\n",
       "      <td>0.019232</td>\n",
       "      <td>0.091178</td>\n",
       "      <td>-0.087592</td>\n",
       "      <td>0.021376</td>\n",
       "      <td>-0.305290</td>\n",
       "      <td>-0.018014</td>\n",
       "    </tr>\n",
       "    <tr>\n",
       "      <th>work_type_Self-employed</th>\n",
       "      <td>0.183857</td>\n",
       "      <td>0.032415</td>\n",
       "      <td>0.037744</td>\n",
       "      <td>0.067588</td>\n",
       "      <td>-0.037978</td>\n",
       "      <td>0.142990</td>\n",
       "      <td>-0.607454</td>\n",
       "      <td>1.000000</td>\n",
       "      <td>-0.158832</td>\n",
       "      <td>-0.007514</td>\n",
       "      <td>0.080626</td>\n",
       "      <td>0.069960</td>\n",
       "      <td>-0.042136</td>\n",
       "      <td>0.294461</td>\n",
       "      <td>-0.090693</td>\n",
       "      <td>-0.143216</td>\n",
       "      <td>0.178718</td>\n",
       "    </tr>\n",
       "    <tr>\n",
       "      <th>work_type_children</th>\n",
       "      <td>-0.129623</td>\n",
       "      <td>-0.088698</td>\n",
       "      <td>-0.069938</td>\n",
       "      <td>-0.409402</td>\n",
       "      <td>0.055985</td>\n",
       "      <td>-0.514086</td>\n",
       "      <td>-0.337021</td>\n",
       "      <td>-0.158832</td>\n",
       "      <td>1.000000</td>\n",
       "      <td>-0.001230</td>\n",
       "      <td>-0.148126</td>\n",
       "      <td>-0.175527</td>\n",
       "      <td>-0.128201</td>\n",
       "      <td>-0.274059</td>\n",
       "      <td>0.181396</td>\n",
       "      <td>0.905235</td>\n",
       "      <td>-0.260744</td>\n",
       "    </tr>\n",
       "    <tr>\n",
       "      <th>Residence_type_Urban</th>\n",
       "      <td>-0.042969</td>\n",
       "      <td>-0.023286</td>\n",
       "      <td>-0.015171</td>\n",
       "      <td>0.029250</td>\n",
       "      <td>0.003688</td>\n",
       "      <td>-0.055557</td>\n",
       "      <td>-0.009437</td>\n",
       "      <td>-0.007514</td>\n",
       "      <td>-0.001230</td>\n",
       "      <td>1.000000</td>\n",
       "      <td>-0.037749</td>\n",
       "      <td>0.007564</td>\n",
       "      <td>0.008621</td>\n",
       "      <td>0.010541</td>\n",
       "      <td>-0.029168</td>\n",
       "      <td>0.010178</td>\n",
       "      <td>0.006187</td>\n",
       "    </tr>\n",
       "    <tr>\n",
       "      <th>smoking_status_formerly smoked</th>\n",
       "      <td>0.063176</td>\n",
       "      <td>0.020649</td>\n",
       "      <td>0.059055</td>\n",
       "      <td>0.088624</td>\n",
       "      <td>0.067966</td>\n",
       "      <td>0.190437</td>\n",
       "      <td>0.038605</td>\n",
       "      <td>0.080626</td>\n",
       "      <td>-0.148126</td>\n",
       "      <td>-0.037749</td>\n",
       "      <td>1.000000</td>\n",
       "      <td>-0.404321</td>\n",
       "      <td>-0.236531</td>\n",
       "      <td>0.167021</td>\n",
       "      <td>-0.088436</td>\n",
       "      <td>-0.135545</td>\n",
       "      <td>0.164191</td>\n",
       "    </tr>\n",
       "    <tr>\n",
       "      <th>smoking_status_never smoked</th>\n",
       "      <td>0.134423</td>\n",
       "      <td>-0.069045</td>\n",
       "      <td>-0.021868</td>\n",
       "      <td>0.050808</td>\n",
       "      <td>-0.152270</td>\n",
       "      <td>0.002169</td>\n",
       "      <td>0.019232</td>\n",
       "      <td>0.069960</td>\n",
       "      <td>-0.175527</td>\n",
       "      <td>0.007564</td>\n",
       "      <td>-0.404321</td>\n",
       "      <td>1.000000</td>\n",
       "      <td>-0.324542</td>\n",
       "      <td>0.049256</td>\n",
       "      <td>0.011843</td>\n",
       "      <td>-0.174260</td>\n",
       "      <td>-0.021759</td>\n",
       "    </tr>\n",
       "    <tr>\n",
       "      <th>smoking_status_smokes</th>\n",
       "      <td>-0.044413</td>\n",
       "      <td>0.154315</td>\n",
       "      <td>0.024433</td>\n",
       "      <td>0.091144</td>\n",
       "      <td>0.049409</td>\n",
       "      <td>0.097752</td>\n",
       "      <td>0.091178</td>\n",
       "      <td>-0.042136</td>\n",
       "      <td>-0.128201</td>\n",
       "      <td>0.008621</td>\n",
       "      <td>-0.236531</td>\n",
       "      <td>-0.324542</td>\n",
       "      <td>1.000000</td>\n",
       "      <td>-0.048307</td>\n",
       "      <td>-0.065272</td>\n",
       "      <td>-0.116278</td>\n",
       "      <td>0.017830</td>\n",
       "    </tr>\n",
       "    <tr>\n",
       "      <th>age_group_Senior</th>\n",
       "      <td>0.246744</td>\n",
       "      <td>0.287846</td>\n",
       "      <td>0.104733</td>\n",
       "      <td>-0.013172</td>\n",
       "      <td>0.012154</td>\n",
       "      <td>0.293744</td>\n",
       "      <td>-0.087592</td>\n",
       "      <td>0.294461</td>\n",
       "      <td>-0.274059</td>\n",
       "      <td>0.010541</td>\n",
       "      <td>0.167021</td>\n",
       "      <td>0.049256</td>\n",
       "      <td>-0.048307</td>\n",
       "      <td>1.000000</td>\n",
       "      <td>-0.194223</td>\n",
       "      <td>-0.249003</td>\n",
       "      <td>0.475511</td>\n",
       "    </tr>\n",
       "    <tr>\n",
       "      <th>age_group_Teen</th>\n",
       "      <td>-0.090312</td>\n",
       "      <td>-0.063929</td>\n",
       "      <td>-0.041333</td>\n",
       "      <td>-0.093041</td>\n",
       "      <td>0.010451</td>\n",
       "      <td>-0.360389</td>\n",
       "      <td>0.021376</td>\n",
       "      <td>-0.090693</td>\n",
       "      <td>0.181396</td>\n",
       "      <td>-0.029168</td>\n",
       "      <td>-0.088436</td>\n",
       "      <td>0.011843</td>\n",
       "      <td>-0.065272</td>\n",
       "      <td>-0.194223</td>\n",
       "      <td>1.000000</td>\n",
       "      <td>-0.056741</td>\n",
       "      <td>-0.188770</td>\n",
       "    </tr>\n",
       "    <tr>\n",
       "      <th>age_group_Toddler</th>\n",
       "      <td>-0.117773</td>\n",
       "      <td>-0.080322</td>\n",
       "      <td>-0.060543</td>\n",
       "      <td>-0.412792</td>\n",
       "      <td>0.061603</td>\n",
       "      <td>-0.467085</td>\n",
       "      <td>-0.305290</td>\n",
       "      <td>-0.143216</td>\n",
       "      <td>0.905235</td>\n",
       "      <td>0.010178</td>\n",
       "      <td>-0.135545</td>\n",
       "      <td>-0.174260</td>\n",
       "      <td>-0.116278</td>\n",
       "      <td>-0.249003</td>\n",
       "      <td>-0.056741</td>\n",
       "      <td>1.000000</td>\n",
       "      <td>-0.247844</td>\n",
       "    </tr>\n",
       "    <tr>\n",
       "      <th>stroke</th>\n",
       "      <td>0.230511</td>\n",
       "      <td>0.160586</td>\n",
       "      <td>0.141908</td>\n",
       "      <td>0.096166</td>\n",
       "      <td>-0.006526</td>\n",
       "      <td>0.284355</td>\n",
       "      <td>-0.018014</td>\n",
       "      <td>0.178718</td>\n",
       "      <td>-0.260744</td>\n",
       "      <td>0.006187</td>\n",
       "      <td>0.164191</td>\n",
       "      <td>-0.021759</td>\n",
       "      <td>0.017830</td>\n",
       "      <td>0.475511</td>\n",
       "      <td>-0.188770</td>\n",
       "      <td>-0.247844</td>\n",
       "      <td>1.000000</td>\n",
       "    </tr>\n",
       "  </tbody>\n",
       "</table>\n",
       "</div>"
      ],
      "text/plain": [
       "                                hypertension  heart_disease  \\\n",
       "hypertension                        1.000000       0.050321   \n",
       "heart_disease                       0.050321       1.000000   \n",
       "avg_glucose_level                   0.079978       0.079574   \n",
       "bmi                                 0.108929       0.051167   \n",
       "gender_Male                        -0.028224       0.135628   \n",
       "ever_married_Yes                    0.086971       0.084190   \n",
       "work_type_Private                  -0.075716       0.020273   \n",
       "work_type_Self-employed             0.183857       0.032415   \n",
       "work_type_children                 -0.129623      -0.088698   \n",
       "Residence_type_Urban               -0.042969      -0.023286   \n",
       "smoking_status_formerly smoked      0.063176       0.020649   \n",
       "smoking_status_never smoked         0.134423      -0.069045   \n",
       "smoking_status_smokes              -0.044413       0.154315   \n",
       "age_group_Senior                    0.246744       0.287846   \n",
       "age_group_Teen                     -0.090312      -0.063929   \n",
       "age_group_Toddler                  -0.117773      -0.080322   \n",
       "stroke                              0.230511       0.160586   \n",
       "\n",
       "                                avg_glucose_level       bmi  gender_Male  \\\n",
       "hypertension                             0.079978  0.108929    -0.028224   \n",
       "heart_disease                            0.079574  0.051167     0.135628   \n",
       "avg_glucose_level                        1.000000  0.132653     0.092953   \n",
       "bmi                                      0.132653  1.000000     0.049244   \n",
       "gender_Male                              0.092953  0.049244     1.000000   \n",
       "ever_married_Yes                         0.125856  0.281828     0.018678   \n",
       "work_type_Private                       -0.021489  0.140897     0.072451   \n",
       "work_type_Self-employed                  0.037744  0.067588    -0.037978   \n",
       "work_type_children                      -0.069938 -0.409402     0.055985   \n",
       "Residence_type_Urban                    -0.015171  0.029250     0.003688   \n",
       "smoking_status_formerly smoked           0.059055  0.088624     0.067966   \n",
       "smoking_status_never smoked             -0.021868  0.050808    -0.152270   \n",
       "smoking_status_smokes                    0.024433  0.091144     0.049409   \n",
       "age_group_Senior                         0.104733 -0.013172     0.012154   \n",
       "age_group_Teen                          -0.041333 -0.093041     0.010451   \n",
       "age_group_Toddler                       -0.060543 -0.412792     0.061603   \n",
       "stroke                                   0.141908  0.096166    -0.006526   \n",
       "\n",
       "                                ever_married_Yes  work_type_Private  \\\n",
       "hypertension                            0.086971          -0.075716   \n",
       "heart_disease                           0.084190           0.020273   \n",
       "avg_glucose_level                       0.125856          -0.021489   \n",
       "bmi                                     0.281828           0.140897   \n",
       "gender_Male                             0.018678           0.072451   \n",
       "ever_married_Yes                        1.000000           0.106276   \n",
       "work_type_Private                       0.106276           1.000000   \n",
       "work_type_Self-employed                 0.142990          -0.607454   \n",
       "work_type_children                     -0.514086          -0.337021   \n",
       "Residence_type_Urban                   -0.055557          -0.009437   \n",
       "smoking_status_formerly smoked          0.190437           0.038605   \n",
       "smoking_status_never smoked             0.002169           0.019232   \n",
       "smoking_status_smokes                   0.097752           0.091178   \n",
       "age_group_Senior                        0.293744          -0.087592   \n",
       "age_group_Teen                         -0.360389           0.021376   \n",
       "age_group_Toddler                      -0.467085          -0.305290   \n",
       "stroke                                  0.284355          -0.018014   \n",
       "\n",
       "                                work_type_Self-employed  work_type_children  \\\n",
       "hypertension                                   0.183857           -0.129623   \n",
       "heart_disease                                  0.032415           -0.088698   \n",
       "avg_glucose_level                              0.037744           -0.069938   \n",
       "bmi                                            0.067588           -0.409402   \n",
       "gender_Male                                   -0.037978            0.055985   \n",
       "ever_married_Yes                               0.142990           -0.514086   \n",
       "work_type_Private                             -0.607454           -0.337021   \n",
       "work_type_Self-employed                        1.000000           -0.158832   \n",
       "work_type_children                            -0.158832            1.000000   \n",
       "Residence_type_Urban                          -0.007514           -0.001230   \n",
       "smoking_status_formerly smoked                 0.080626           -0.148126   \n",
       "smoking_status_never smoked                    0.069960           -0.175527   \n",
       "smoking_status_smokes                         -0.042136           -0.128201   \n",
       "age_group_Senior                               0.294461           -0.274059   \n",
       "age_group_Teen                                -0.090693            0.181396   \n",
       "age_group_Toddler                             -0.143216            0.905235   \n",
       "stroke                                         0.178718           -0.260744   \n",
       "\n",
       "                                Residence_type_Urban  \\\n",
       "hypertension                               -0.042969   \n",
       "heart_disease                              -0.023286   \n",
       "avg_glucose_level                          -0.015171   \n",
       "bmi                                         0.029250   \n",
       "gender_Male                                 0.003688   \n",
       "ever_married_Yes                           -0.055557   \n",
       "work_type_Private                          -0.009437   \n",
       "work_type_Self-employed                    -0.007514   \n",
       "work_type_children                         -0.001230   \n",
       "Residence_type_Urban                        1.000000   \n",
       "smoking_status_formerly smoked             -0.037749   \n",
       "smoking_status_never smoked                 0.007564   \n",
       "smoking_status_smokes                       0.008621   \n",
       "age_group_Senior                            0.010541   \n",
       "age_group_Teen                             -0.029168   \n",
       "age_group_Toddler                           0.010178   \n",
       "stroke                                      0.006187   \n",
       "\n",
       "                                smoking_status_formerly smoked  \\\n",
       "hypertension                                          0.063176   \n",
       "heart_disease                                         0.020649   \n",
       "avg_glucose_level                                     0.059055   \n",
       "bmi                                                   0.088624   \n",
       "gender_Male                                           0.067966   \n",
       "ever_married_Yes                                      0.190437   \n",
       "work_type_Private                                     0.038605   \n",
       "work_type_Self-employed                               0.080626   \n",
       "work_type_children                                   -0.148126   \n",
       "Residence_type_Urban                                 -0.037749   \n",
       "smoking_status_formerly smoked                        1.000000   \n",
       "smoking_status_never smoked                          -0.404321   \n",
       "smoking_status_smokes                                -0.236531   \n",
       "age_group_Senior                                      0.167021   \n",
       "age_group_Teen                                       -0.088436   \n",
       "age_group_Toddler                                    -0.135545   \n",
       "stroke                                                0.164191   \n",
       "\n",
       "                                smoking_status_never smoked  \\\n",
       "hypertension                                       0.134423   \n",
       "heart_disease                                     -0.069045   \n",
       "avg_glucose_level                                 -0.021868   \n",
       "bmi                                                0.050808   \n",
       "gender_Male                                       -0.152270   \n",
       "ever_married_Yes                                   0.002169   \n",
       "work_type_Private                                  0.019232   \n",
       "work_type_Self-employed                            0.069960   \n",
       "work_type_children                                -0.175527   \n",
       "Residence_type_Urban                               0.007564   \n",
       "smoking_status_formerly smoked                    -0.404321   \n",
       "smoking_status_never smoked                        1.000000   \n",
       "smoking_status_smokes                             -0.324542   \n",
       "age_group_Senior                                   0.049256   \n",
       "age_group_Teen                                     0.011843   \n",
       "age_group_Toddler                                 -0.174260   \n",
       "stroke                                            -0.021759   \n",
       "\n",
       "                                smoking_status_smokes  age_group_Senior  \\\n",
       "hypertension                                -0.044413          0.246744   \n",
       "heart_disease                                0.154315          0.287846   \n",
       "avg_glucose_level                            0.024433          0.104733   \n",
       "bmi                                          0.091144         -0.013172   \n",
       "gender_Male                                  0.049409          0.012154   \n",
       "ever_married_Yes                             0.097752          0.293744   \n",
       "work_type_Private                            0.091178         -0.087592   \n",
       "work_type_Self-employed                     -0.042136          0.294461   \n",
       "work_type_children                          -0.128201         -0.274059   \n",
       "Residence_type_Urban                         0.008621          0.010541   \n",
       "smoking_status_formerly smoked              -0.236531          0.167021   \n",
       "smoking_status_never smoked                 -0.324542          0.049256   \n",
       "smoking_status_smokes                        1.000000         -0.048307   \n",
       "age_group_Senior                            -0.048307          1.000000   \n",
       "age_group_Teen                              -0.065272         -0.194223   \n",
       "age_group_Toddler                           -0.116278         -0.249003   \n",
       "stroke                                       0.017830          0.475511   \n",
       "\n",
       "                                age_group_Teen  age_group_Toddler    stroke  \n",
       "hypertension                         -0.090312          -0.117773  0.230511  \n",
       "heart_disease                        -0.063929          -0.080322  0.160586  \n",
       "avg_glucose_level                    -0.041333          -0.060543  0.141908  \n",
       "bmi                                  -0.093041          -0.412792  0.096166  \n",
       "gender_Male                           0.010451           0.061603 -0.006526  \n",
       "ever_married_Yes                     -0.360389          -0.467085  0.284355  \n",
       "work_type_Private                     0.021376          -0.305290 -0.018014  \n",
       "work_type_Self-employed              -0.090693          -0.143216  0.178718  \n",
       "work_type_children                    0.181396           0.905235 -0.260744  \n",
       "Residence_type_Urban                 -0.029168           0.010178  0.006187  \n",
       "smoking_status_formerly smoked       -0.088436          -0.135545  0.164191  \n",
       "smoking_status_never smoked           0.011843          -0.174260 -0.021759  \n",
       "smoking_status_smokes                -0.065272          -0.116278  0.017830  \n",
       "age_group_Senior                     -0.194223          -0.249003  0.475511  \n",
       "age_group_Teen                        1.000000          -0.056741 -0.188770  \n",
       "age_group_Toddler                    -0.056741           1.000000 -0.247844  \n",
       "stroke                               -0.188770          -0.247844  1.000000  "
      ]
     },
     "execution_count": 34,
     "metadata": {},
     "output_type": "execute_result"
    }
   ],
   "source": [
    "cor"
   ]
  },
  {
   "cell_type": "code",
   "execution_count": 35,
   "id": "3ac0e78c",
   "metadata": {},
   "outputs": [
    {
     "data": {
      "image/png": "[encoded data removed]",
      "text/plain": [
       "<Figure size 864x720 with 2 Axes>"
      ]
     },
     "metadata": {
      "needs_background": "light"
     },
     "output_type": "display_data"
    }
   ],
   "source": [
    "features = df_final.columns\n",
    "plt.figure(figsize=[12,10])\n",
    "plt.title('Features Correlation-Plot')\n",
    "sns.heatmap(df_final[features].corr(), vmin=-1, vmax=1, center=0, annot=True) #, \n",
    "plt.show()"
   ]
  },
  {
   "cell_type": "code",
   "execution_count": 36,
   "id": "4ccf0e28",
   "metadata": {},
   "outputs": [],
   "source": [
    "corr_positive = df_final.corr().abs()\n",
    "\n",
    "corrUnstack = corr_positive.unstack()\n",
    "CorrAscend = corrUnstack.sort_values(kind=\"quicksort\")\n",
    "\n",
    "#print so[-4470:-4460]"
   ]
  },
  {
   "cell_type": "code",
   "execution_count": 37,
   "id": "561c746b",
   "metadata": {},
   "outputs": [
    {
     "data": {
      "text/plain": [
       "(289,)"
      ]
     },
     "execution_count": 37,
     "metadata": {},
     "output_type": "execute_result"
    }
   ],
   "source": [
    "CorrAscend.shape"
   ]
  },
  {
   "cell_type": "code",
   "execution_count": 38,
   "id": "fd895717",
   "metadata": {},
   "outputs": [
    {
     "data": {
      "text/plain": [
       "Residence_type_Urban         work_type_children             0.001230\n",
       "work_type_children           Residence_type_Urban           0.001230\n",
       "smoking_status_never smoked  ever_married_Yes               0.002169\n",
       "ever_married_Yes             smoking_status_never smoked    0.002169\n",
       "gender_Male                  Residence_type_Urban           0.003688\n",
       "dtype: float64"
      ]
     },
     "execution_count": 38,
     "metadata": {},
     "output_type": "execute_result"
    }
   ],
   "source": [
    "CorrAscend.head()"
   ]
  },
  {
   "cell_type": "code",
   "execution_count": 39,
   "id": "5a7f28e1",
   "metadata": {},
   "outputs": [
    {
     "name": "stdout",
     "output_type": "stream",
     "text": [
      "smoking_status_never smoked     smoking_status_smokes             0.324542\n",
      "smoking_status_smokes           smoking_status_never smoked       0.324542\n",
      "work_type_Private               work_type_children                0.337021\n",
      "work_type_children              work_type_Private                 0.337021\n",
      "age_group_Teen                  ever_married_Yes                  0.360389\n",
      "ever_married_Yes                age_group_Teen                    0.360389\n",
      "smoking_status_formerly smoked  smoking_status_never smoked       0.404321\n",
      "smoking_status_never smoked     smoking_status_formerly smoked    0.404321\n",
      "work_type_children              bmi                               0.409402\n",
      "bmi                             work_type_children                0.409402\n",
      "age_group_Toddler               bmi                               0.412792\n",
      "bmi                             age_group_Toddler                 0.412792\n",
      "ever_married_Yes                age_group_Toddler                 0.467085\n",
      "age_group_Toddler               ever_married_Yes                  0.467085\n",
      "stroke                          age_group_Senior                  0.475511\n",
      "age_group_Senior                stroke                            0.475511\n",
      "ever_married_Yes                work_type_children                0.514086\n",
      "work_type_children              ever_married_Yes                  0.514086\n",
      "work_type_Private               work_type_Self-employed           0.607454\n",
      "work_type_Self-employed         work_type_Private                 0.607454\n",
      "age_group_Toddler               work_type_children                0.905235\n",
      "work_type_children              age_group_Toddler                 0.905235\n",
      "hypertension                    hypertension                      1.000000\n",
      "work_type_children              work_type_children                1.000000\n",
      "age_group_Teen                  age_group_Teen                    1.000000\n",
      "age_group_Senior                age_group_Senior                  1.000000\n",
      "smoking_status_smokes           smoking_status_smokes             1.000000\n",
      "smoking_status_never smoked     smoking_status_never smoked       1.000000\n",
      "smoking_status_formerly smoked  smoking_status_formerly smoked    1.000000\n",
      "Residence_type_Urban            Residence_type_Urban              1.000000\n",
      "work_type_Self-employed         work_type_Self-employed           1.000000\n",
      "work_type_Private               work_type_Private                 1.000000\n",
      "ever_married_Yes                ever_married_Yes                  1.000000\n",
      "gender_Male                     gender_Male                       1.000000\n",
      "bmi                             bmi                               1.000000\n",
      "avg_glucose_level               avg_glucose_level                 1.000000\n",
      "heart_disease                   heart_disease                     1.000000\n",
      "age_group_Toddler               age_group_Toddler                 1.000000\n",
      "stroke                          stroke                            1.000000\n",
      "dtype: float64\n"
     ]
    }
   ],
   "source": [
    "print (CorrAscend[250:289])"
   ]
  },
  {
   "cell_type": "markdown",
   "id": "5903e638",
   "metadata": {},
   "source": [
    "Work_type_children and age_group_Toddler are strongly correlated.I will drop one:age_group_Toddler"
   ]
  },
  {
   "cell_type": "code",
   "execution_count": 40,
   "id": "d4df8882",
   "metadata": {},
   "outputs": [
    {
     "data": {
      "text/html": [
       "<div>\n",
       "<style scoped>\n",
       "    .dataframe tbody tr th:only-of-type {\n",
       "        vertical-align: middle;\n",
       "    }\n",
       "\n",
       "    .dataframe tbody tr th {\n",
       "        vertical-align: top;\n",
       "    }\n",
       "\n",
       "    .dataframe thead th {\n",
       "        text-align: right;\n",
       "    }\n",
       "</style>\n",
       "<table border=\"1\" class=\"dataframe\">\n",
       "  <thead>\n",
       "    <tr style=\"text-align: right;\">\n",
       "      <th></th>\n",
       "      <th>hypertension</th>\n",
       "      <th>heart_disease</th>\n",
       "      <th>avg_glucose_level</th>\n",
       "      <th>bmi</th>\n",
       "      <th>gender_Male</th>\n",
       "      <th>ever_married_Yes</th>\n",
       "      <th>work_type_Private</th>\n",
       "      <th>work_type_Self-employed</th>\n",
       "      <th>work_type_children</th>\n",
       "      <th>Residence_type_Urban</th>\n",
       "      <th>smoking_status_formerly smoked</th>\n",
       "      <th>smoking_status_never smoked</th>\n",
       "      <th>smoking_status_smokes</th>\n",
       "      <th>age_group_Senior</th>\n",
       "      <th>age_group_Teen</th>\n",
       "      <th>age_group_Toddler</th>\n",
       "      <th>stroke</th>\n",
       "    </tr>\n",
       "  </thead>\n",
       "  <tbody>\n",
       "    <tr>\n",
       "      <th>0</th>\n",
       "      <td>0.0</td>\n",
       "      <td>1.0</td>\n",
       "      <td>0.353465</td>\n",
       "      <td>0.530086</td>\n",
       "      <td>1.0</td>\n",
       "      <td>1.0</td>\n",
       "      <td>1.0</td>\n",
       "      <td>0.0</td>\n",
       "      <td>0.0</td>\n",
       "      <td>0.0</td>\n",
       "      <td>0.0</td>\n",
       "      <td>1.0</td>\n",
       "      <td>0.0</td>\n",
       "      <td>1.0</td>\n",
       "      <td>0.0</td>\n",
       "      <td>0.0</td>\n",
       "      <td>1.0</td>\n",
       "    </tr>\n",
       "    <tr>\n",
       "      <th>1</th>\n",
       "      <td>0.0</td>\n",
       "      <td>0.0</td>\n",
       "      <td>0.807890</td>\n",
       "      <td>0.584527</td>\n",
       "      <td>0.0</td>\n",
       "      <td>1.0</td>\n",
       "      <td>1.0</td>\n",
       "      <td>0.0</td>\n",
       "      <td>0.0</td>\n",
       "      <td>1.0</td>\n",
       "      <td>0.0</td>\n",
       "      <td>0.0</td>\n",
       "      <td>1.0</td>\n",
       "      <td>0.0</td>\n",
       "      <td>0.0</td>\n",
       "      <td>0.0</td>\n",
       "      <td>1.0</td>\n",
       "    </tr>\n",
       "    <tr>\n",
       "      <th>2</th>\n",
       "      <td>1.0</td>\n",
       "      <td>0.0</td>\n",
       "      <td>0.827999</td>\n",
       "      <td>0.286533</td>\n",
       "      <td>0.0</td>\n",
       "      <td>1.0</td>\n",
       "      <td>0.0</td>\n",
       "      <td>1.0</td>\n",
       "      <td>0.0</td>\n",
       "      <td>0.0</td>\n",
       "      <td>0.0</td>\n",
       "      <td>1.0</td>\n",
       "      <td>0.0</td>\n",
       "      <td>1.0</td>\n",
       "      <td>0.0</td>\n",
       "      <td>0.0</td>\n",
       "      <td>1.0</td>\n",
       "    </tr>\n",
       "    <tr>\n",
       "      <th>3</th>\n",
       "      <td>0.0</td>\n",
       "      <td>0.0</td>\n",
       "      <td>0.912121</td>\n",
       "      <td>0.429799</td>\n",
       "      <td>1.0</td>\n",
       "      <td>1.0</td>\n",
       "      <td>1.0</td>\n",
       "      <td>0.0</td>\n",
       "      <td>0.0</td>\n",
       "      <td>1.0</td>\n",
       "      <td>1.0</td>\n",
       "      <td>0.0</td>\n",
       "      <td>0.0</td>\n",
       "      <td>1.0</td>\n",
       "      <td>0.0</td>\n",
       "      <td>0.0</td>\n",
       "      <td>1.0</td>\n",
       "    </tr>\n",
       "    <tr>\n",
       "      <th>4</th>\n",
       "      <td>1.0</td>\n",
       "      <td>1.0</td>\n",
       "      <td>0.104161</td>\n",
       "      <td>0.383954</td>\n",
       "      <td>1.0</td>\n",
       "      <td>1.0</td>\n",
       "      <td>1.0</td>\n",
       "      <td>0.0</td>\n",
       "      <td>0.0</td>\n",
       "      <td>0.0</td>\n",
       "      <td>0.0</td>\n",
       "      <td>1.0</td>\n",
       "      <td>0.0</td>\n",
       "      <td>1.0</td>\n",
       "      <td>0.0</td>\n",
       "      <td>0.0</td>\n",
       "      <td>1.0</td>\n",
       "    </tr>\n",
       "    <tr>\n",
       "      <th>...</th>\n",
       "      <td>...</td>\n",
       "      <td>...</td>\n",
       "      <td>...</td>\n",
       "      <td>...</td>\n",
       "      <td>...</td>\n",
       "      <td>...</td>\n",
       "      <td>...</td>\n",
       "      <td>...</td>\n",
       "      <td>...</td>\n",
       "      <td>...</td>\n",
       "      <td>...</td>\n",
       "      <td>...</td>\n",
       "      <td>...</td>\n",
       "      <td>...</td>\n",
       "      <td>...</td>\n",
       "      <td>...</td>\n",
       "      <td>...</td>\n",
       "    </tr>\n",
       "    <tr>\n",
       "      <th>8725</th>\n",
       "      <td>0.0</td>\n",
       "      <td>1.0</td>\n",
       "      <td>0.624687</td>\n",
       "      <td>0.355301</td>\n",
       "      <td>1.0</td>\n",
       "      <td>1.0</td>\n",
       "      <td>1.0</td>\n",
       "      <td>0.0</td>\n",
       "      <td>0.0</td>\n",
       "      <td>1.0</td>\n",
       "      <td>0.0</td>\n",
       "      <td>0.0</td>\n",
       "      <td>1.0</td>\n",
       "      <td>1.0</td>\n",
       "      <td>0.0</td>\n",
       "      <td>0.0</td>\n",
       "      <td>1.0</td>\n",
       "    </tr>\n",
       "    <tr>\n",
       "      <th>8726</th>\n",
       "      <td>0.0</td>\n",
       "      <td>0.0</td>\n",
       "      <td>0.064848</td>\n",
       "      <td>0.888252</td>\n",
       "      <td>0.0</td>\n",
       "      <td>1.0</td>\n",
       "      <td>1.0</td>\n",
       "      <td>0.0</td>\n",
       "      <td>0.0</td>\n",
       "      <td>1.0</td>\n",
       "      <td>0.0</td>\n",
       "      <td>1.0</td>\n",
       "      <td>0.0</td>\n",
       "      <td>1.0</td>\n",
       "      <td>0.0</td>\n",
       "      <td>0.0</td>\n",
       "      <td>1.0</td>\n",
       "    </tr>\n",
       "    <tr>\n",
       "      <th>8727</th>\n",
       "      <td>1.0</td>\n",
       "      <td>0.0</td>\n",
       "      <td>0.093515</td>\n",
       "      <td>0.349570</td>\n",
       "      <td>0.0</td>\n",
       "      <td>1.0</td>\n",
       "      <td>0.0</td>\n",
       "      <td>1.0</td>\n",
       "      <td>0.0</td>\n",
       "      <td>1.0</td>\n",
       "      <td>0.0</td>\n",
       "      <td>0.0</td>\n",
       "      <td>0.0</td>\n",
       "      <td>1.0</td>\n",
       "      <td>0.0</td>\n",
       "      <td>0.0</td>\n",
       "      <td>1.0</td>\n",
       "    </tr>\n",
       "    <tr>\n",
       "      <th>8728</th>\n",
       "      <td>0.0</td>\n",
       "      <td>0.0</td>\n",
       "      <td>0.122530</td>\n",
       "      <td>0.412607</td>\n",
       "      <td>1.0</td>\n",
       "      <td>1.0</td>\n",
       "      <td>1.0</td>\n",
       "      <td>0.0</td>\n",
       "      <td>0.0</td>\n",
       "      <td>0.0</td>\n",
       "      <td>0.0</td>\n",
       "      <td>1.0</td>\n",
       "      <td>0.0</td>\n",
       "      <td>1.0</td>\n",
       "      <td>0.0</td>\n",
       "      <td>0.0</td>\n",
       "      <td>1.0</td>\n",
       "    </tr>\n",
       "    <tr>\n",
       "      <th>8729</th>\n",
       "      <td>0.0</td>\n",
       "      <td>0.0</td>\n",
       "      <td>0.186682</td>\n",
       "      <td>0.083095</td>\n",
       "      <td>0.0</td>\n",
       "      <td>1.0</td>\n",
       "      <td>0.0</td>\n",
       "      <td>1.0</td>\n",
       "      <td>0.0</td>\n",
       "      <td>0.0</td>\n",
       "      <td>0.0</td>\n",
       "      <td>1.0</td>\n",
       "      <td>0.0</td>\n",
       "      <td>1.0</td>\n",
       "      <td>0.0</td>\n",
       "      <td>0.0</td>\n",
       "      <td>1.0</td>\n",
       "    </tr>\n",
       "  </tbody>\n",
       "</table>\n",
       "<p>8730 rows × 17 columns</p>\n",
       "</div>"
      ],
      "text/plain": [
       "      hypertension  heart_disease  avg_glucose_level       bmi  gender_Male  \\\n",
       "0              0.0            1.0           0.353465  0.530086          1.0   \n",
       "1              0.0            0.0           0.807890  0.584527          0.0   \n",
       "2              1.0            0.0           0.827999  0.286533          0.0   \n",
       "3              0.0            0.0           0.912121  0.429799          1.0   \n",
       "4              1.0            1.0           0.104161  0.383954          1.0   \n",
       "...            ...            ...                ...       ...          ...   \n",
       "8725           0.0            1.0           0.624687  0.355301          1.0   \n",
       "8726           0.0            0.0           0.064848  0.888252          0.0   \n",
       "8727           1.0            0.0           0.093515  0.349570          0.0   \n",
       "8728           0.0            0.0           0.122530  0.412607          1.0   \n",
       "8729           0.0            0.0           0.186682  0.083095          0.0   \n",
       "\n",
       "      ever_married_Yes  work_type_Private  work_type_Self-employed  \\\n",
       "0                  1.0                1.0                      0.0   \n",
       "1                  1.0                1.0                      0.0   \n",
       "2                  1.0                0.0                      1.0   \n",
       "3                  1.0                1.0                      0.0   \n",
       "4                  1.0                1.0                      0.0   \n",
       "...                ...                ...                      ...   \n",
       "8725               1.0                1.0                      0.0   \n",
       "8726               1.0                1.0                      0.0   \n",
       "8727               1.0                0.0                      1.0   \n",
       "8728               1.0                1.0                      0.0   \n",
       "8729               1.0                0.0                      1.0   \n",
       "\n",
       "      work_type_children  Residence_type_Urban  \\\n",
       "0                    0.0                   0.0   \n",
       "1                    0.0                   1.0   \n",
       "2                    0.0                   0.0   \n",
       "3                    0.0                   1.0   \n",
       "4                    0.0                   0.0   \n",
       "...                  ...                   ...   \n",
       "8725                 0.0                   1.0   \n",
       "8726                 0.0                   1.0   \n",
       "8727                 0.0                   1.0   \n",
       "8728                 0.0                   0.0   \n",
       "8729                 0.0                   0.0   \n",
       "\n",
       "      smoking_status_formerly smoked  smoking_status_never smoked  \\\n",
       "0                                0.0                          1.0   \n",
       "1                                0.0                          0.0   \n",
       "2                                0.0                          1.0   \n",
       "3                                1.0                          0.0   \n",
       "4                                0.0                          1.0   \n",
       "...                              ...                          ...   \n",
       "8725                             0.0                          0.0   \n",
       "8726                             0.0                          1.0   \n",
       "8727                             0.0                          0.0   \n",
       "8728                             0.0                          1.0   \n",
       "8729                             0.0                          1.0   \n",
       "\n",
       "      smoking_status_smokes  age_group_Senior  age_group_Teen  \\\n",
       "0                       0.0               1.0             0.0   \n",
       "1                       1.0               0.0             0.0   \n",
       "2                       0.0               1.0             0.0   \n",
       "3                       0.0               1.0             0.0   \n",
       "4                       0.0               1.0             0.0   \n",
       "...                     ...               ...             ...   \n",
       "8725                    1.0               1.0             0.0   \n",
       "8726                    0.0               1.0             0.0   \n",
       "8727                    0.0               1.0             0.0   \n",
       "8728                    0.0               1.0             0.0   \n",
       "8729                    0.0               1.0             0.0   \n",
       "\n",
       "      age_group_Toddler  stroke  \n",
       "0                   0.0     1.0  \n",
       "1                   0.0     1.0  \n",
       "2                   0.0     1.0  \n",
       "3                   0.0     1.0  \n",
       "4                   0.0     1.0  \n",
       "...                 ...     ...  \n",
       "8725                0.0     1.0  \n",
       "8726                0.0     1.0  \n",
       "8727                0.0     1.0  \n",
       "8728                0.0     1.0  \n",
       "8729                0.0     1.0  \n",
       "\n",
       "[8730 rows x 17 columns]"
      ]
     },
     "execution_count": 40,
     "metadata": {},
     "output_type": "execute_result"
    }
   ],
   "source": [
    "df_final"
   ]
  },
  {
   "cell_type": "code",
   "execution_count": 41,
   "id": "cf7efc63",
   "metadata": {},
   "outputs": [],
   "source": [
    "df_final.drop('age_group_Toddler',axis=1,inplace=True)"
   ]
  },
  {
   "cell_type": "code",
   "execution_count": 42,
   "id": "8ac8658b",
   "metadata": {},
   "outputs": [
    {
     "name": "stdout",
     "output_type": "stream",
     "text": [
      "Features:\n",
      "heart_disease, avg_glucose_level, bmi, gender_Male, ever_married_Yes, work_type_Private, work_type_Self-employed, work_type_children, Residence_type_Urban, smoking_status_formerly smoked, smoking_status_never smoked, smoking_status_smokes, age_group_Senior, age_group_Teen, stroke\n"
     ]
    }
   ],
   "source": [
    "features = list(df_final)[1:] # list containing all but the first column names\n",
    "print('Features:')\n",
    "print(', '.join(features))"
   ]
  },
  {
   "cell_type": "markdown",
   "id": "f24e57f7",
   "metadata": {},
   "source": [
    "### Feature importance and selection"
   ]
  },
  {
   "cell_type": "code",
   "execution_count": 43,
   "id": "9891bc7f",
   "metadata": {},
   "outputs": [],
   "source": [
    "#dffit.describe()"
   ]
  },
  {
   "cell_type": "code",
   "execution_count": 44,
   "id": "ffa40c0e",
   "metadata": {},
   "outputs": [],
   "source": [
    "from sklearn.feature_selection import SelectKBest\n",
    "from sklearn.feature_selection import chi2"
   ]
  },
  {
   "cell_type": "code",
   "execution_count": 45,
   "id": "eddaa1a4",
   "metadata": {},
   "outputs": [],
   "source": [
    "X= df_final.iloc[:,0:10]  # all features\n",
    "Y= df_final.iloc[:,-1]  # target output (stroke)"
   ]
  },
  {
   "cell_type": "code",
   "execution_count": 46,
   "id": "7d92d091",
   "metadata": {},
   "outputs": [],
   "source": [
    "best_features= SelectKBest(score_func=chi2, k=3)\n",
    "fit= best_features.fit(X,Y)"
   ]
  },
  {
   "cell_type": "code",
   "execution_count": 47,
   "id": "67b9151f",
   "metadata": {},
   "outputs": [],
   "source": [
    "df_scores= pd.DataFrame(fit.scores_)\n",
    "df_columns= pd.DataFrame(X.columns)"
   ]
  },
  {
   "cell_type": "code",
   "execution_count": 48,
   "id": "3cdceec2",
   "metadata": {},
   "outputs": [
    {
     "data": {
      "text/html": [
       "<div>\n",
       "<style scoped>\n",
       "    .dataframe tbody tr th:only-of-type {\n",
       "        vertical-align: middle;\n",
       "    }\n",
       "\n",
       "    .dataframe tbody tr th {\n",
       "        vertical-align: top;\n",
       "    }\n",
       "\n",
       "    .dataframe thead th {\n",
       "        text-align: right;\n",
       "    }\n",
       "</style>\n",
       "<table border=\"1\" class=\"dataframe\">\n",
       "  <thead>\n",
       "    <tr style=\"text-align: right;\">\n",
       "      <th></th>\n",
       "      <th>Features</th>\n",
       "      <th>Score</th>\n",
       "    </tr>\n",
       "  </thead>\n",
       "  <tbody>\n",
       "    <tr>\n",
       "      <th>8</th>\n",
       "      <td>work_type_children</td>\n",
       "      <td>545.461103</td>\n",
       "    </tr>\n",
       "    <tr>\n",
       "      <th>0</th>\n",
       "      <td>hypertension</td>\n",
       "      <td>389.587983</td>\n",
       "    </tr>\n",
       "    <tr>\n",
       "      <th>7</th>\n",
       "      <td>work_type_Self-employed</td>\n",
       "      <td>216.778693</td>\n",
       "    </tr>\n",
       "    <tr>\n",
       "      <th>1</th>\n",
       "      <td>heart_disease</td>\n",
       "      <td>206.097561</td>\n",
       "    </tr>\n",
       "    <tr>\n",
       "      <th>5</th>\n",
       "      <td>ever_married_Yes</td>\n",
       "      <td>176.512143</td>\n",
       "    </tr>\n",
       "    <tr>\n",
       "      <th>2</th>\n",
       "      <td>avg_glucose_level</td>\n",
       "      <td>33.079559</td>\n",
       "    </tr>\n",
       "    <tr>\n",
       "      <th>3</th>\n",
       "      <td>bmi</td>\n",
       "      <td>5.665639</td>\n",
       "    </tr>\n",
       "    <tr>\n",
       "      <th>6</th>\n",
       "      <td>work_type_Private</td>\n",
       "      <td>1.237592</td>\n",
       "    </tr>\n",
       "    <tr>\n",
       "      <th>4</th>\n",
       "      <td>gender_Male</td>\n",
       "      <td>0.220101</td>\n",
       "    </tr>\n",
       "    <tr>\n",
       "      <th>9</th>\n",
       "      <td>Residence_type_Urban</td>\n",
       "      <td>0.163783</td>\n",
       "    </tr>\n",
       "  </tbody>\n",
       "</table>\n",
       "</div>"
      ],
      "text/plain": [
       "                  Features       Score\n",
       "8       work_type_children  545.461103\n",
       "0             hypertension  389.587983\n",
       "7  work_type_Self-employed  216.778693\n",
       "1            heart_disease  206.097561\n",
       "5         ever_married_Yes  176.512143\n",
       "2        avg_glucose_level   33.079559\n",
       "3                      bmi    5.665639\n",
       "6        work_type_Private    1.237592\n",
       "4              gender_Male    0.220101\n",
       "9     Residence_type_Urban    0.163783"
      ]
     },
     "execution_count": 48,
     "metadata": {},
     "output_type": "execute_result"
    }
   ],
   "source": [
    "features_scores= pd.concat([df_columns, df_scores], axis=1)\n",
    "features_scores.columns= ['Features', 'Score']\n",
    "features_scores.sort_values(by = 'Score',ascending=False)"
   ]
  },
  {
   "cell_type": "markdown",
   "id": "a76be6ee",
   "metadata": {},
   "source": [
    "####  Here, we notice that there are top 8 features that are most related to the target output are:\n",
    "##### 1.hypertension     2.work_type_children     3.heart_disease     4.ever_married_yes 5.work_type_Self-employed 6.avg_glucose_leve 7.bmi 8.Residence_type_Urban"
   ]
  },
  {
   "cell_type": "code",
   "execution_count": 49,
   "id": "2da087b9",
   "metadata": {},
   "outputs": [],
   "source": [
    "X= df1[['hypertension', 'work_type_children', 'heart_disease','ever_married_Yes','avg_glucose_level','bmi','Residence_type_Urban']]  #the top 3 features\n",
    "Y= df1[['stroke']] # the target output"
   ]
  },
  {
   "cell_type": "markdown",
   "id": "9d219422",
   "metadata": {},
   "source": [
    "### Model Builiding"
   ]
  },
  {
   "cell_type": "markdown",
   "id": "2f957ba1",
   "metadata": {},
   "source": [
    "### Logistic Regression"
   ]
  },
  {
   "cell_type": "code",
   "execution_count": 50,
   "id": "96a45e26",
   "metadata": {},
   "outputs": [],
   "source": [
    "X_train,X_test,y_train,y_test=train_test_split(X,Y,test_size=0.4,random_state=100)"
   ]
  },
  {
   "cell_type": "code",
   "execution_count": 51,
   "id": "77a0df27",
   "metadata": {},
   "outputs": [
    {
     "data": {
      "text/html": [
       "<style>#sk-container-id-1 {color: black;background-color: white;}#sk-container-id-1 pre{padding: 0;}#sk-container-id-1 div.sk-toggleable {background-color: white;}#sk-container-id-1 label.sk-toggleable__label {cursor: pointer;display: block;width: 100%;margin-bottom: 0;padding: 0.3em;box-sizing: border-box;text-align: center;}#sk-container-id-1 label.sk-toggleable__label-arrow:before {content: \"▸\";float: left;margin-right: 0.25em;color: #696969;}#sk-container-id-1 label.sk-toggleable__label-arrow:hover:before {color: black;}#sk-container-id-1 div.sk-estimator:hover label.sk-toggleable__label-arrow:before {color: black;}#sk-container-id-1 div.sk-toggleable__content {max-height: 0;max-width: 0;overflow: hidden;text-align: left;background-color: #f0f8ff;}#sk-container-id-1 div.sk-toggleable__content pre {margin: 0.2em;color: black;border-radius: 0.25em;background-color: #f0f8ff;}#sk-container-id-1 input.sk-toggleable__control:checked~div.sk-toggleable__content {max-height: 200px;max-width: 100%;overflow: auto;}#sk-container-id-1 input.sk-toggleable__control:checked~label.sk-toggleable__label-arrow:before {content: \"▾\";}#sk-container-id-1 div.sk-estimator input.sk-toggleable__control:checked~label.sk-toggleable__label {background-color: #d4ebff;}#sk-container-id-1 div.sk-label input.sk-toggleable__control:checked~label.sk-toggleable__label {background-color: #d4ebff;}#sk-container-id-1 input.sk-hidden--visually {border: 0;clip: rect(1px 1px 1px 1px);clip: rect(1px, 1px, 1px, 1px);height: 1px;margin: -1px;overflow: hidden;padding: 0;position: absolute;width: 1px;}#sk-container-id-1 div.sk-estimator {font-family: monospace;background-color: #f0f8ff;border: 1px dotted black;border-radius: 0.25em;box-sizing: border-box;margin-bottom: 0.5em;}#sk-container-id-1 div.sk-estimator:hover {background-color: #d4ebff;}#sk-container-id-1 div.sk-parallel-item::after {content: \"\";width: 100%;border-bottom: 1px solid gray;flex-grow: 1;}#sk-container-id-1 div.sk-label:hover label.sk-toggleable__label {background-color: #d4ebff;}#sk-container-id-1 div.sk-serial::before {content: \"\";position: absolute;border-left: 1px solid gray;box-sizing: border-box;top: 0;bottom: 0;left: 50%;z-index: 0;}#sk-container-id-1 div.sk-serial {display: flex;flex-direction: column;align-items: center;background-color: white;padding-right: 0.2em;padding-left: 0.2em;position: relative;}#sk-container-id-1 div.sk-item {position: relative;z-index: 1;}#sk-container-id-1 div.sk-parallel {display: flex;align-items: stretch;justify-content: center;background-color: white;position: relative;}#sk-container-id-1 div.sk-item::before, #sk-container-id-1 div.sk-parallel-item::before {content: \"\";position: absolute;border-left: 1px solid gray;box-sizing: border-box;top: 0;bottom: 0;left: 50%;z-index: -1;}#sk-container-id-1 div.sk-parallel-item {display: flex;flex-direction: column;z-index: 1;position: relative;background-color: white;}#sk-container-id-1 div.sk-parallel-item:first-child::after {align-self: flex-end;width: 50%;}#sk-container-id-1 div.sk-parallel-item:last-child::after {align-self: flex-start;width: 50%;}#sk-container-id-1 div.sk-parallel-item:only-child::after {width: 0;}#sk-container-id-1 div.sk-dashed-wrapped {border: 1px dashed gray;margin: 0 0.4em 0.5em 0.4em;box-sizing: border-box;padding-bottom: 0.4em;background-color: white;}#sk-container-id-1 div.sk-label label {font-family: monospace;font-weight: bold;display: inline-block;line-height: 1.2em;}#sk-container-id-1 div.sk-label-container {text-align: center;}#sk-container-id-1 div.sk-container {/* jupyter's `normalize.less` sets `[hidden] { display: none; }` but bootstrap.min.css set `[hidden] { display: none !important; }` so we also need the `!important` here to be able to override the default hidden behavior on the sphinx rendered scikit-learn.org. See: https://github.com/scikit-learn/scikit-learn/issues/21755 */display: inline-block !important;position: relative;}#sk-container-id-1 div.sk-text-repr-fallback {display: none;}</style><div id=\"sk-container-id-1\" class=\"sk-top-container\"><div class=\"sk-text-repr-fallback\"><pre>LogisticRegression()</pre><b>In a Jupyter environment, please rerun this cell to show the HTML representation or trust the notebook. <br />On GitHub, the HTML representation is unable to render, please try loading this page with nbviewer.org.</b></div><div class=\"sk-container\" hidden><div class=\"sk-item\"><div class=\"sk-estimator sk-toggleable\"><input class=\"sk-toggleable__control sk-hidden--visually\" id=\"sk-estimator-id-1\" type=\"checkbox\" checked><label for=\"sk-estimator-id-1\" class=\"sk-toggleable__label sk-toggleable__label-arrow\">LogisticRegression</label><div class=\"sk-toggleable__content\"><pre>LogisticRegression()</pre></div></div></div></div></div>"
      ],
      "text/plain": [
       "LogisticRegression()"
      ]
     },
     "execution_count": 51,
     "metadata": {},
     "output_type": "execute_result"
    }
   ],
   "source": [
    "modelL= LogisticRegression()\n",
    "modelL.fit(X_train,y_train)"
   ]
  },
  {
   "cell_type": "code",
   "execution_count": 52,
   "id": "05edb196",
   "metadata": {},
   "outputs": [
    {
     "name": "stdout",
     "output_type": "stream",
     "text": [
      "      hypertension  work_type_children  heart_disease  ever_married_Yes  \\\n",
      "2774             0                   0              0                 1   \n",
      "4426             0                   0              0                 1   \n",
      "3596             0                   0              0                 1   \n",
      "3967             0                   0              0                 1   \n",
      "1330             0                   0              0                 1   \n",
      "...            ...                 ...            ...               ...   \n",
      "3102             0                   0              0                 1   \n",
      "376              0                   0              0                 1   \n",
      "565              0                   0              0                 1   \n",
      "2849             0                   1              0                 0   \n",
      "3032             0                   0              0                 1   \n",
      "\n",
      "      avg_glucose_level   bmi  Residence_type_Urban  \n",
      "2774              57.77  24.1                     1  \n",
      "4426             114.77  27.2                     0  \n",
      "3596             111.84  33.7                     1  \n",
      "3967              92.23  32.8                     1  \n",
      "1330              81.38  23.1                     0  \n",
      "...                 ...   ...                   ...  \n",
      "3102              66.24  37.5                     0  \n",
      "376               78.75  37.8                     0  \n",
      "565               64.41  29.4                     1  \n",
      "2849             106.11  22.4                     0  \n",
      "3032              55.72  38.2                     0  \n",
      "\n",
      "[1822 rows x 7 columns]\n",
      "[0 0 0 ... 0 0 0]\n"
     ]
    }
   ],
   "source": [
    "y_pred=modelL.predict(X_test)\n",
    "print (X_test) #test dataset\n",
    "print (y_pred) #predicted values"
   ]
  },
  {
   "cell_type": "code",
   "execution_count": 53,
   "id": "f2c7e4ce",
   "metadata": {
    "scrolled": true
   },
   "outputs": [
    {
     "name": "stdout",
     "output_type": "stream",
     "text": [
      "Accuracy: 0.9588364434687157\n",
      "Recall: 0.0\n",
      "Precision: 1.0\n",
      "CL Report:               precision    recall  f1-score   support\n",
      "\n",
      "           0       0.96      1.00      0.98      1747\n",
      "           1       1.00      0.00      0.00        75\n",
      "\n",
      "    accuracy                           0.96      1822\n",
      "   macro avg       0.98      0.50      0.49      1822\n",
      "weighted avg       0.96      0.96      0.94      1822\n",
      "\n"
     ]
    }
   ],
   "source": [
    "from sklearn import metrics\n",
    "from sklearn.metrics import classification_report\n",
    "print('Accuracy:',metrics.accuracy_score(y_test, y_pred))\n",
    "print('Recall:',metrics.recall_score(y_test, y_pred, zero_division=1))\n",
    "print('Precision:',metrics.precision_score(y_test, y_pred, zero_division=1))\n",
    "print('CL Report:',metrics.classification_report(y_test, y_pred, zero_division=1))"
   ]
  },
  {
   "cell_type": "code",
   "execution_count": 54,
   "id": "5f7320e1",
   "metadata": {},
   "outputs": [],
   "source": [
    "y_pred_proba= modelL.predict_proba(X_test) [::,1]"
   ]
  },
  {
   "cell_type": "code",
   "execution_count": 55,
   "id": "b05de139",
   "metadata": {},
   "outputs": [],
   "source": [
    "false_positive_rate, true_positive_rate,_= metrics.roc_curve(y_test, y_pred_proba)"
   ]
  },
  {
   "cell_type": "code",
   "execution_count": 56,
   "id": "3b9d455a",
   "metadata": {},
   "outputs": [],
   "source": [
    "auc= metrics.roc_auc_score(y_test, y_pred_proba)"
   ]
  },
  {
   "cell_type": "code",
   "execution_count": 57,
   "id": "2dbb6df1",
   "metadata": {},
   "outputs": [
    {
     "data": {
      "image/png": "[encoded data removed]",
      "text/plain": [
       "<Figure size 720x432 with 1 Axes>"
      ]
     },
     "metadata": {
      "needs_background": "light"
     },
     "output_type": "display_data"
    }
   ],
   "source": [
    "plt.plot(false_positive_rate, true_positive_rate,label=\"AUC=\"+str(auc))\n",
    "plt.title('ROC Curve')\n",
    "plt.ylabel('True Positive Rate')\n",
    "plt.xlabel('false Positive Rate')\n",
    "plt.legend(loc=4)\n",
    "plt.show()"
   ]
  },
  {
   "cell_type": "markdown",
   "id": "c492938e",
   "metadata": {},
   "source": [
    "### GBoost Classifier"
   ]
  },
  {
   "cell_type": "code",
   "execution_count": 58,
   "id": "4c937c8b",
   "metadata": {},
   "outputs": [
    {
     "data": {
      "text/plain": [
       "0.96"
      ]
     },
     "execution_count": 58,
     "metadata": {},
     "output_type": "execute_result"
    }
   ],
   "source": [
    "GBoost= GradientBoostingClassifier(n_estimators=100, learning_rate=1,\n",
    "     max_depth=1, random_state=0).fit(X_train, y_train)\n",
    "GBoost.score(X_test, y_test).round(2)"
   ]
  },
  {
   "cell_type": "code",
   "execution_count": 59,
   "id": "26f52a53",
   "metadata": {},
   "outputs": [
    {
     "name": "stdout",
     "output_type": "stream",
     "text": [
      "      hypertension  work_type_children  heart_disease  ever_married_Yes  \\\n",
      "2774             0                   0              0                 1   \n",
      "4426             0                   0              0                 1   \n",
      "3596             0                   0              0                 1   \n",
      "3967             0                   0              0                 1   \n",
      "1330             0                   0              0                 1   \n",
      "...            ...                 ...            ...               ...   \n",
      "3102             0                   0              0                 1   \n",
      "376              0                   0              0                 1   \n",
      "565              0                   0              0                 1   \n",
      "2849             0                   1              0                 0   \n",
      "3032             0                   0              0                 1   \n",
      "\n",
      "      avg_glucose_level   bmi  Residence_type_Urban  \n",
      "2774              57.77  24.1                     1  \n",
      "4426             114.77  27.2                     0  \n",
      "3596             111.84  33.7                     1  \n",
      "3967              92.23  32.8                     1  \n",
      "1330              81.38  23.1                     0  \n",
      "...                 ...   ...                   ...  \n",
      "3102              66.24  37.5                     0  \n",
      "376               78.75  37.8                     0  \n",
      "565               64.41  29.4                     1  \n",
      "2849             106.11  22.4                     0  \n",
      "3032              55.72  38.2                     0  \n",
      "\n",
      "[1822 rows x 7 columns]\n",
      "[0 0 0 ... 0 0 0]\n"
     ]
    }
   ],
   "source": [
    "y_pre=GBoost.predict(X_test)\n",
    "print (X_test) #test dataset\n",
    "print (y_pre) #predicted values"
   ]
  },
  {
   "cell_type": "code",
   "execution_count": 60,
   "id": "c9524e24",
   "metadata": {},
   "outputs": [
    {
     "name": "stdout",
     "output_type": "stream",
     "text": [
      "Accuracy: 0.9571899012074643\n",
      "Recall: 0.0\n",
      "Precision: 0.0\n",
      "CL Report:               precision    recall  f1-score   support\n",
      "\n",
      "           0       0.96      1.00      0.98      1747\n",
      "           1       0.00      0.00      0.00        75\n",
      "\n",
      "    accuracy                           0.96      1822\n",
      "   macro avg       0.48      0.50      0.49      1822\n",
      "weighted avg       0.92      0.96      0.94      1822\n",
      "\n"
     ]
    }
   ],
   "source": [
    "print('Accuracy:',metrics.accuracy_score(y_test, y_pre))\n",
    "print('Recall:',metrics.recall_score(y_test, y_pre, zero_division=1))\n",
    "print('Precision:',metrics.precision_score(y_test, y_pre, zero_division=1))\n",
    "print('CL Report:',metrics.classification_report(y_test, y_pre, zero_division=1))"
   ]
  },
  {
   "cell_type": "code",
   "execution_count": 61,
   "id": "f541cc5a",
   "metadata": {},
   "outputs": [],
   "source": [
    "y_pred_proba= GBoost.predict_proba(X_test) [::,1]"
   ]
  },
  {
   "cell_type": "code",
   "execution_count": 62,
   "id": "bca9500e",
   "metadata": {},
   "outputs": [],
   "source": [
    "false_positive_rate, true_positive_rate,_= metrics.roc_curve(y_test, y_pred_proba)"
   ]
  },
  {
   "cell_type": "code",
   "execution_count": 63,
   "id": "2b4747c3",
   "metadata": {},
   "outputs": [],
   "source": [
    "auc= metrics.roc_auc_score(y_test, y_pred_proba)"
   ]
  },
  {
   "cell_type": "code",
   "execution_count": 64,
   "id": "c69151b8",
   "metadata": {},
   "outputs": [
    {
     "data": {
      "image/png": "[encoded data removed]",
      "text/plain": [
       "<Figure size 720x432 with 1 Axes>"
      ]
     },
     "metadata": {
      "needs_background": "light"
     },
     "output_type": "display_data"
    }
   ],
   "source": [
    "plt.plot(false_positive_rate, true_positive_rate,label=\"AUC=\"+str(auc))\n",
    "plt.title('ROC Curve')\n",
    "plt.ylabel('True Positive Rate')\n",
    "plt.xlabel('false Positive Rate')\n",
    "plt.legend(loc=4)\n",
    "plt.show()"
   ]
  },
  {
   "cell_type": "markdown",
   "id": "8321dd64",
   "metadata": {},
   "source": [
    "### Decision Tree"
   ]
  },
  {
   "cell_type": "code",
   "execution_count": 65,
   "id": "b5f95308",
   "metadata": {},
   "outputs": [],
   "source": [
    "modelT = DecisionTreeClassifier()"
   ]
  },
  {
   "cell_type": "code",
   "execution_count": 66,
   "id": "d167648c",
   "metadata": {},
   "outputs": [
    {
     "data": {
      "text/html": [
       "<style>#sk-container-id-2 {color: black;background-color: white;}#sk-container-id-2 pre{padding: 0;}#sk-container-id-2 div.sk-toggleable {background-color: white;}#sk-container-id-2 label.sk-toggleable__label {cursor: pointer;display: block;width: 100%;margin-bottom: 0;padding: 0.3em;box-sizing: border-box;text-align: center;}#sk-container-id-2 label.sk-toggleable__label-arrow:before {content: \"▸\";float: left;margin-right: 0.25em;color: #696969;}#sk-container-id-2 label.sk-toggleable__label-arrow:hover:before {color: black;}#sk-container-id-2 div.sk-estimator:hover label.sk-toggleable__label-arrow:before {color: black;}#sk-container-id-2 div.sk-toggleable__content {max-height: 0;max-width: 0;overflow: hidden;text-align: left;background-color: #f0f8ff;}#sk-container-id-2 div.sk-toggleable__content pre {margin: 0.2em;color: black;border-radius: 0.25em;background-color: #f0f8ff;}#sk-container-id-2 input.sk-toggleable__control:checked~div.sk-toggleable__content {max-height: 200px;max-width: 100%;overflow: auto;}#sk-container-id-2 input.sk-toggleable__control:checked~label.sk-toggleable__label-arrow:before {content: \"▾\";}#sk-container-id-2 div.sk-estimator input.sk-toggleable__control:checked~label.sk-toggleable__label {background-color: #d4ebff;}#sk-container-id-2 div.sk-label input.sk-toggleable__control:checked~label.sk-toggleable__label {background-color: #d4ebff;}#sk-container-id-2 input.sk-hidden--visually {border: 0;clip: rect(1px 1px 1px 1px);clip: rect(1px, 1px, 1px, 1px);height: 1px;margin: -1px;overflow: hidden;padding: 0;position: absolute;width: 1px;}#sk-container-id-2 div.sk-estimator {font-family: monospace;background-color: #f0f8ff;border: 1px dotted black;border-radius: 0.25em;box-sizing: border-box;margin-bottom: 0.5em;}#sk-container-id-2 div.sk-estimator:hover {background-color: #d4ebff;}#sk-container-id-2 div.sk-parallel-item::after {content: \"\";width: 100%;border-bottom: 1px solid gray;flex-grow: 1;}#sk-container-id-2 div.sk-label:hover label.sk-toggleable__label {background-color: #d4ebff;}#sk-container-id-2 div.sk-serial::before {content: \"\";position: absolute;border-left: 1px solid gray;box-sizing: border-box;top: 0;bottom: 0;left: 50%;z-index: 0;}#sk-container-id-2 div.sk-serial {display: flex;flex-direction: column;align-items: center;background-color: white;padding-right: 0.2em;padding-left: 0.2em;position: relative;}#sk-container-id-2 div.sk-item {position: relative;z-index: 1;}#sk-container-id-2 div.sk-parallel {display: flex;align-items: stretch;justify-content: center;background-color: white;position: relative;}#sk-container-id-2 div.sk-item::before, #sk-container-id-2 div.sk-parallel-item::before {content: \"\";position: absolute;border-left: 1px solid gray;box-sizing: border-box;top: 0;bottom: 0;left: 50%;z-index: -1;}#sk-container-id-2 div.sk-parallel-item {display: flex;flex-direction: column;z-index: 1;position: relative;background-color: white;}#sk-container-id-2 div.sk-parallel-item:first-child::after {align-self: flex-end;width: 50%;}#sk-container-id-2 div.sk-parallel-item:last-child::after {align-self: flex-start;width: 50%;}#sk-container-id-2 div.sk-parallel-item:only-child::after {width: 0;}#sk-container-id-2 div.sk-dashed-wrapped {border: 1px dashed gray;margin: 0 0.4em 0.5em 0.4em;box-sizing: border-box;padding-bottom: 0.4em;background-color: white;}#sk-container-id-2 div.sk-label label {font-family: monospace;font-weight: bold;display: inline-block;line-height: 1.2em;}#sk-container-id-2 div.sk-label-container {text-align: center;}#sk-container-id-2 div.sk-container {/* jupyter's `normalize.less` sets `[hidden] { display: none; }` but bootstrap.min.css set `[hidden] { display: none !important; }` so we also need the `!important` here to be able to override the default hidden behavior on the sphinx rendered scikit-learn.org. See: https://github.com/scikit-learn/scikit-learn/issues/21755 */display: inline-block !important;position: relative;}#sk-container-id-2 div.sk-text-repr-fallback {display: none;}</style><div id=\"sk-container-id-2\" class=\"sk-top-container\"><div class=\"sk-text-repr-fallback\"><pre>DecisionTreeClassifier()</pre><b>In a Jupyter environment, please rerun this cell to show the HTML representation or trust the notebook. <br />On GitHub, the HTML representation is unable to render, please try loading this page with nbviewer.org.</b></div><div class=\"sk-container\" hidden><div class=\"sk-item\"><div class=\"sk-estimator sk-toggleable\"><input class=\"sk-toggleable__control sk-hidden--visually\" id=\"sk-estimator-id-2\" type=\"checkbox\" checked><label for=\"sk-estimator-id-2\" class=\"sk-toggleable__label sk-toggleable__label-arrow\">DecisionTreeClassifier</label><div class=\"sk-toggleable__content\"><pre>DecisionTreeClassifier()</pre></div></div></div></div></div>"
      ],
      "text/plain": [
       "DecisionTreeClassifier()"
      ]
     },
     "execution_count": 66,
     "metadata": {},
     "output_type": "execute_result"
    }
   ],
   "source": [
    "modelT.fit(X_train,y_train)"
   ]
  },
  {
   "cell_type": "code",
   "execution_count": 67,
   "id": "db081cfe",
   "metadata": {},
   "outputs": [
    {
     "name": "stdout",
     "output_type": "stream",
     "text": [
      "      hypertension  work_type_children  heart_disease  ever_married_Yes  \\\n",
      "2774             0                   0              0                 1   \n",
      "4426             0                   0              0                 1   \n",
      "3596             0                   0              0                 1   \n",
      "3967             0                   0              0                 1   \n",
      "1330             0                   0              0                 1   \n",
      "...            ...                 ...            ...               ...   \n",
      "3102             0                   0              0                 1   \n",
      "376              0                   0              0                 1   \n",
      "565              0                   0              0                 1   \n",
      "2849             0                   1              0                 0   \n",
      "3032             0                   0              0                 1   \n",
      "\n",
      "      avg_glucose_level   bmi  Residence_type_Urban  \n",
      "2774              57.77  24.1                     1  \n",
      "4426             114.77  27.2                     0  \n",
      "3596             111.84  33.7                     1  \n",
      "3967              92.23  32.8                     1  \n",
      "1330              81.38  23.1                     0  \n",
      "...                 ...   ...                   ...  \n",
      "3102              66.24  37.5                     0  \n",
      "376               78.75  37.8                     0  \n",
      "565               64.41  29.4                     1  \n",
      "2849             106.11  22.4                     0  \n",
      "3032              55.72  38.2                     0  \n",
      "\n",
      "[1822 rows x 7 columns]\n",
      "[0 0 0 ... 0 0 0]\n"
     ]
    }
   ],
   "source": [
    "y_pre=modelT.predict(X_test)\n",
    "print (X_test) #test dataset\n",
    "print (y_pre) #predicted values"
   ]
  },
  {
   "cell_type": "code",
   "execution_count": 68,
   "id": "9d0a9268",
   "metadata": {},
   "outputs": [
    {
     "name": "stdout",
     "output_type": "stream",
     "text": [
      "Accuracy: 0.9253567508232712\n",
      "Recall: 0.13333333333333333\n",
      "Precision: 0.12345679012345678\n",
      "CL Report:               precision    recall  f1-score   support\n",
      "\n",
      "           0       0.96      0.96      0.96      1747\n",
      "           1       0.12      0.13      0.13        75\n",
      "\n",
      "    accuracy                           0.93      1822\n",
      "   macro avg       0.54      0.55      0.54      1822\n",
      "weighted avg       0.93      0.93      0.93      1822\n",
      "\n"
     ]
    }
   ],
   "source": [
    "print('Accuracy:',metrics.accuracy_score(y_test, y_pre))\n",
    "print('Recall:',metrics.recall_score(y_test, y_pre, zero_division=1))\n",
    "print('Precision:',metrics.precision_score(y_test, y_pre, zero_division=1))\n",
    "print('CL Report:',metrics.classification_report(y_test, y_pre, zero_division=1))"
   ]
  },
  {
   "cell_type": "code",
   "execution_count": 69,
   "id": "a94c4757",
   "metadata": {},
   "outputs": [],
   "source": [
    "y_pre_proba= modelT.predict_proba(X_test) [::,1]"
   ]
  },
  {
   "cell_type": "code",
   "execution_count": 70,
   "id": "18aaff2b",
   "metadata": {},
   "outputs": [],
   "source": [
    "false_positive_rate, true_positive_rate, _ = metrics.roc_curve(y_test, y_pre_proba)"
   ]
  },
  {
   "cell_type": "code",
   "execution_count": 71,
   "id": "0b02a746",
   "metadata": {},
   "outputs": [],
   "source": [
    "auc= metrics.roc_auc_score(y_test, y_pre_proba)"
   ]
  },
  {
   "cell_type": "code",
   "execution_count": 72,
   "id": "2fd1130a",
   "metadata": {},
   "outputs": [
    {
     "data": {
      "image/png": "[encoded data removed]",
      "text/plain": [
       "<Figure size 720x432 with 1 Axes>"
      ]
     },
     "metadata": {
      "needs_background": "light"
     },
     "output_type": "display_data"
    }
   ],
   "source": [
    "plt.plot(false_positive_rate, true_positive_rate,label=\"AUC=\"+str(auc))\n",
    "plt.title('ROC Curve')\n",
    "plt.ylabel('True Positive Rate')\n",
    "plt.xlabel('false Positive Rate')\n",
    "plt.legend(loc=4)\n",
    "plt.show()"
   ]
  },
  {
   "cell_type": "markdown",
   "id": "82550cd6",
   "metadata": {},
   "source": [
    "### Random Forest"
   ]
  },
  {
   "cell_type": "code",
   "execution_count": 73,
   "id": "5ef05d39",
   "metadata": {},
   "outputs": [],
   "source": [
    "modelF = RandomForestClassifier()"
   ]
  },
  {
   "cell_type": "code",
   "execution_count": 74,
   "id": "be890be1",
   "metadata": {},
   "outputs": [
    {
     "data": {
      "text/html": [
       "<style>#sk-container-id-3 {color: black;background-color: white;}#sk-container-id-3 pre{padding: 0;}#sk-container-id-3 div.sk-toggleable {background-color: white;}#sk-container-id-3 label.sk-toggleable__label {cursor: pointer;display: block;width: 100%;margin-bottom: 0;padding: 0.3em;box-sizing: border-box;text-align: center;}#sk-container-id-3 label.sk-toggleable__label-arrow:before {content: \"▸\";float: left;margin-right: 0.25em;color: #696969;}#sk-container-id-3 label.sk-toggleable__label-arrow:hover:before {color: black;}#sk-container-id-3 div.sk-estimator:hover label.sk-toggleable__label-arrow:before {color: black;}#sk-container-id-3 div.sk-toggleable__content {max-height: 0;max-width: 0;overflow: hidden;text-align: left;background-color: #f0f8ff;}#sk-container-id-3 div.sk-toggleable__content pre {margin: 0.2em;color: black;border-radius: 0.25em;background-color: #f0f8ff;}#sk-container-id-3 input.sk-toggleable__control:checked~div.sk-toggleable__content {max-height: 200px;max-width: 100%;overflow: auto;}#sk-container-id-3 input.sk-toggleable__control:checked~label.sk-toggleable__label-arrow:before {content: \"▾\";}#sk-container-id-3 div.sk-estimator input.sk-toggleable__control:checked~label.sk-toggleable__label {background-color: #d4ebff;}#sk-container-id-3 div.sk-label input.sk-toggleable__control:checked~label.sk-toggleable__label {background-color: #d4ebff;}#sk-container-id-3 input.sk-hidden--visually {border: 0;clip: rect(1px 1px 1px 1px);clip: rect(1px, 1px, 1px, 1px);height: 1px;margin: -1px;overflow: hidden;padding: 0;position: absolute;width: 1px;}#sk-container-id-3 div.sk-estimator {font-family: monospace;background-color: #f0f8ff;border: 1px dotted black;border-radius: 0.25em;box-sizing: border-box;margin-bottom: 0.5em;}#sk-container-id-3 div.sk-estimator:hover {background-color: #d4ebff;}#sk-container-id-3 div.sk-parallel-item::after {content: \"\";width: 100%;border-bottom: 1px solid gray;flex-grow: 1;}#sk-container-id-3 div.sk-label:hover label.sk-toggleable__label {background-color: #d4ebff;}#sk-container-id-3 div.sk-serial::before {content: \"\";position: absolute;border-left: 1px solid gray;box-sizing: border-box;top: 0;bottom: 0;left: 50%;z-index: 0;}#sk-container-id-3 div.sk-serial {display: flex;flex-direction: column;align-items: center;background-color: white;padding-right: 0.2em;padding-left: 0.2em;position: relative;}#sk-container-id-3 div.sk-item {position: relative;z-index: 1;}#sk-container-id-3 div.sk-parallel {display: flex;align-items: stretch;justify-content: center;background-color: white;position: relative;}#sk-container-id-3 div.sk-item::before, #sk-container-id-3 div.sk-parallel-item::before {content: \"\";position: absolute;border-left: 1px solid gray;box-sizing: border-box;top: 0;bottom: 0;left: 50%;z-index: -1;}#sk-container-id-3 div.sk-parallel-item {display: flex;flex-direction: column;z-index: 1;position: relative;background-color: white;}#sk-container-id-3 div.sk-parallel-item:first-child::after {align-self: flex-end;width: 50%;}#sk-container-id-3 div.sk-parallel-item:last-child::after {align-self: flex-start;width: 50%;}#sk-container-id-3 div.sk-parallel-item:only-child::after {width: 0;}#sk-container-id-3 div.sk-dashed-wrapped {border: 1px dashed gray;margin: 0 0.4em 0.5em 0.4em;box-sizing: border-box;padding-bottom: 0.4em;background-color: white;}#sk-container-id-3 div.sk-label label {font-family: monospace;font-weight: bold;display: inline-block;line-height: 1.2em;}#sk-container-id-3 div.sk-label-container {text-align: center;}#sk-container-id-3 div.sk-container {/* jupyter's `normalize.less` sets `[hidden] { display: none; }` but bootstrap.min.css set `[hidden] { display: none !important; }` so we also need the `!important` here to be able to override the default hidden behavior on the sphinx rendered scikit-learn.org. See: https://github.com/scikit-learn/scikit-learn/issues/21755 */display: inline-block !important;position: relative;}#sk-container-id-3 div.sk-text-repr-fallback {display: none;}</style><div id=\"sk-container-id-3\" class=\"sk-top-container\"><div class=\"sk-text-repr-fallback\"><pre>RandomForestClassifier()</pre><b>In a Jupyter environment, please rerun this cell to show the HTML representation or trust the notebook. <br />On GitHub, the HTML representation is unable to render, please try loading this page with nbviewer.org.</b></div><div class=\"sk-container\" hidden><div class=\"sk-item\"><div class=\"sk-estimator sk-toggleable\"><input class=\"sk-toggleable__control sk-hidden--visually\" id=\"sk-estimator-id-3\" type=\"checkbox\" checked><label for=\"sk-estimator-id-3\" class=\"sk-toggleable__label sk-toggleable__label-arrow\">RandomForestClassifier</label><div class=\"sk-toggleable__content\"><pre>RandomForestClassifier()</pre></div></div></div></div></div>"
      ],
      "text/plain": [
       "RandomForestClassifier()"
      ]
     },
     "execution_count": 74,
     "metadata": {},
     "output_type": "execute_result"
    }
   ],
   "source": [
    "modelF.fit(X_train,y_train)"
   ]
  },
  {
   "cell_type": "code",
   "execution_count": 75,
   "id": "67d1eb70",
   "metadata": {},
   "outputs": [
    {
     "name": "stdout",
     "output_type": "stream",
     "text": [
      "      hypertension  work_type_children  heart_disease  ever_married_Yes  \\\n",
      "2774             0                   0              0                 1   \n",
      "4426             0                   0              0                 1   \n",
      "3596             0                   0              0                 1   \n",
      "3967             0                   0              0                 1   \n",
      "1330             0                   0              0                 1   \n",
      "...            ...                 ...            ...               ...   \n",
      "3102             0                   0              0                 1   \n",
      "376              0                   0              0                 1   \n",
      "565              0                   0              0                 1   \n",
      "2849             0                   1              0                 0   \n",
      "3032             0                   0              0                 1   \n",
      "\n",
      "      avg_glucose_level   bmi  Residence_type_Urban  \n",
      "2774              57.77  24.1                     1  \n",
      "4426             114.77  27.2                     0  \n",
      "3596             111.84  33.7                     1  \n",
      "3967              92.23  32.8                     1  \n",
      "1330              81.38  23.1                     0  \n",
      "...                 ...   ...                   ...  \n",
      "3102              66.24  37.5                     0  \n",
      "376               78.75  37.8                     0  \n",
      "565               64.41  29.4                     1  \n",
      "2849             106.11  22.4                     0  \n",
      "3032              55.72  38.2                     0  \n",
      "\n",
      "[1822 rows x 7 columns]\n",
      "[0 0 0 ... 0 0 0]\n"
     ]
    }
   ],
   "source": [
    "y_pre=modelF.predict(X_test)\n",
    "print (X_test) #test dataset\n",
    "print (y_pre) "
   ]
  },
  {
   "cell_type": "code",
   "execution_count": 76,
   "id": "245d2af9",
   "metadata": {},
   "outputs": [
    {
     "name": "stdout",
     "output_type": "stream",
     "text": [
      "Accuracy: 0.9560922063666301\n",
      "Recall: 0.0\n",
      "Precision: 0.0\n",
      "CL Report:               precision    recall  f1-score   support\n",
      "\n",
      "           0       0.96      1.00      0.98      1747\n",
      "           1       0.00      0.00      0.00        75\n",
      "\n",
      "    accuracy                           0.96      1822\n",
      "   macro avg       0.48      0.50      0.49      1822\n",
      "weighted avg       0.92      0.96      0.94      1822\n",
      "\n"
     ]
    }
   ],
   "source": [
    "print('Accuracy:',metrics.accuracy_score(y_test, y_pre))\n",
    "print('Recall:',metrics.recall_score(y_test, y_pre, zero_division=1))\n",
    "print('Precision:',metrics.precision_score(y_test, y_pre, zero_division=1))\n",
    "print('CL Report:',metrics.classification_report(y_test, y_pre, zero_division=1))"
   ]
  },
  {
   "cell_type": "code",
   "execution_count": 77,
   "id": "906c38ea",
   "metadata": {},
   "outputs": [],
   "source": [
    "y_pre_proba= modelF.predict_proba(X_test) [::,1]"
   ]
  },
  {
   "cell_type": "code",
   "execution_count": 78,
   "id": "11afd3f2",
   "metadata": {},
   "outputs": [],
   "source": [
    "false_positive_rate, true_positive_rate, _ = metrics.roc_curve(y_test, y_pre_proba)"
   ]
  },
  {
   "cell_type": "code",
   "execution_count": 79,
   "id": "e811571f",
   "metadata": {},
   "outputs": [],
   "source": [
    "auc= metrics.roc_auc_score(y_test, y_pre_proba)"
   ]
  },
  {
   "cell_type": "code",
   "execution_count": 80,
   "id": "85605a7b",
   "metadata": {},
   "outputs": [
    {
     "data": {
      "image/png": "[encoded data removed]",
      "text/plain": [
       "<Figure size 720x432 with 1 Axes>"
      ]
     },
     "metadata": {
      "needs_background": "light"
     },
     "output_type": "display_data"
    }
   ],
   "source": [
    "plt.plot(false_positive_rate, true_positive_rate,label=\"AUC=\"+str(auc))\n",
    "plt.title('ROC Curve')\n",
    "plt.ylabel('True Positive Rate')\n",
    "plt.xlabel('false Positive Rate')\n",
    "plt.legend(loc=4)\n",
    "plt.show()"
   ]
  },
  {
   "cell_type": "markdown",
   "id": "34dfbaf8",
   "metadata": {},
   "source": [
    "### Finding good hyper-parameters for Selected models"
   ]
  },
  {
   "cell_type": "markdown",
   "id": "be49cdeb",
   "metadata": {},
   "source": [
    "#### 1.Decision Tree Classifier"
   ]
  },
  {
   "cell_type": "code",
   "execution_count": 81,
   "id": "554819cd",
   "metadata": {},
   "outputs": [
    {
     "data": {
      "text/plain": [
       "{'ccp_alpha': 0.0,\n",
       " 'class_weight': None,\n",
       " 'criterion': 'gini',\n",
       " 'max_depth': None,\n",
       " 'max_features': None,\n",
       " 'max_leaf_nodes': None,\n",
       " 'min_impurity_decrease': 0.0,\n",
       " 'min_samples_leaf': 1,\n",
       " 'min_samples_split': 2,\n",
       " 'min_weight_fraction_leaf': 0.0,\n",
       " 'random_state': None,\n",
       " 'splitter': 'best'}"
      ]
     },
     "execution_count": 81,
     "metadata": {},
     "output_type": "execute_result"
    }
   ],
   "source": [
    "modelD = DecisionTreeClassifier() # create model \n",
    "modelD.get_params() # display model hyper-parameters"
   ]
  },
  {
   "cell_type": "code",
   "execution_count": 82,
   "id": "dfbd58de",
   "metadata": {},
   "outputs": [
    {
     "data": {
      "text/html": [
       "<style>#sk-container-id-4 {color: black;background-color: white;}#sk-container-id-4 pre{padding: 0;}#sk-container-id-4 div.sk-toggleable {background-color: white;}#sk-container-id-4 label.sk-toggleable__label {cursor: pointer;display: block;width: 100%;margin-bottom: 0;padding: 0.3em;box-sizing: border-box;text-align: center;}#sk-container-id-4 label.sk-toggleable__label-arrow:before {content: \"▸\";float: left;margin-right: 0.25em;color: #696969;}#sk-container-id-4 label.sk-toggleable__label-arrow:hover:before {color: black;}#sk-container-id-4 div.sk-estimator:hover label.sk-toggleable__label-arrow:before {color: black;}#sk-container-id-4 div.sk-toggleable__content {max-height: 0;max-width: 0;overflow: hidden;text-align: left;background-color: #f0f8ff;}#sk-container-id-4 div.sk-toggleable__content pre {margin: 0.2em;color: black;border-radius: 0.25em;background-color: #f0f8ff;}#sk-container-id-4 input.sk-toggleable__control:checked~div.sk-toggleable__content {max-height: 200px;max-width: 100%;overflow: auto;}#sk-container-id-4 input.sk-toggleable__control:checked~label.sk-toggleable__label-arrow:before {content: \"▾\";}#sk-container-id-4 div.sk-estimator input.sk-toggleable__control:checked~label.sk-toggleable__label {background-color: #d4ebff;}#sk-container-id-4 div.sk-label input.sk-toggleable__control:checked~label.sk-toggleable__label {background-color: #d4ebff;}#sk-container-id-4 input.sk-hidden--visually {border: 0;clip: rect(1px 1px 1px 1px);clip: rect(1px, 1px, 1px, 1px);height: 1px;margin: -1px;overflow: hidden;padding: 0;position: absolute;width: 1px;}#sk-container-id-4 div.sk-estimator {font-family: monospace;background-color: #f0f8ff;border: 1px dotted black;border-radius: 0.25em;box-sizing: border-box;margin-bottom: 0.5em;}#sk-container-id-4 div.sk-estimator:hover {background-color: #d4ebff;}#sk-container-id-4 div.sk-parallel-item::after {content: \"\";width: 100%;border-bottom: 1px solid gray;flex-grow: 1;}#sk-container-id-4 div.sk-label:hover label.sk-toggleable__label {background-color: #d4ebff;}#sk-container-id-4 div.sk-serial::before {content: \"\";position: absolute;border-left: 1px solid gray;box-sizing: border-box;top: 0;bottom: 0;left: 50%;z-index: 0;}#sk-container-id-4 div.sk-serial {display: flex;flex-direction: column;align-items: center;background-color: white;padding-right: 0.2em;padding-left: 0.2em;position: relative;}#sk-container-id-4 div.sk-item {position: relative;z-index: 1;}#sk-container-id-4 div.sk-parallel {display: flex;align-items: stretch;justify-content: center;background-color: white;position: relative;}#sk-container-id-4 div.sk-item::before, #sk-container-id-4 div.sk-parallel-item::before {content: \"\";position: absolute;border-left: 1px solid gray;box-sizing: border-box;top: 0;bottom: 0;left: 50%;z-index: -1;}#sk-container-id-4 div.sk-parallel-item {display: flex;flex-direction: column;z-index: 1;position: relative;background-color: white;}#sk-container-id-4 div.sk-parallel-item:first-child::after {align-self: flex-end;width: 50%;}#sk-container-id-4 div.sk-parallel-item:last-child::after {align-self: flex-start;width: 50%;}#sk-container-id-4 div.sk-parallel-item:only-child::after {width: 0;}#sk-container-id-4 div.sk-dashed-wrapped {border: 1px dashed gray;margin: 0 0.4em 0.5em 0.4em;box-sizing: border-box;padding-bottom: 0.4em;background-color: white;}#sk-container-id-4 div.sk-label label {font-family: monospace;font-weight: bold;display: inline-block;line-height: 1.2em;}#sk-container-id-4 div.sk-label-container {text-align: center;}#sk-container-id-4 div.sk-container {/* jupyter's `normalize.less` sets `[hidden] { display: none; }` but bootstrap.min.css set `[hidden] { display: none !important; }` so we also need the `!important` here to be able to override the default hidden behavior on the sphinx rendered scikit-learn.org. See: https://github.com/scikit-learn/scikit-learn/issues/21755 */display: inline-block !important;position: relative;}#sk-container-id-4 div.sk-text-repr-fallback {display: none;}</style><div id=\"sk-container-id-4\" class=\"sk-top-container\"><div class=\"sk-text-repr-fallback\"><pre>DecisionTreeClassifier()</pre><b>In a Jupyter environment, please rerun this cell to show the HTML representation or trust the notebook. <br />On GitHub, the HTML representation is unable to render, please try loading this page with nbviewer.org.</b></div><div class=\"sk-container\" hidden><div class=\"sk-item\"><div class=\"sk-estimator sk-toggleable\"><input class=\"sk-toggleable__control sk-hidden--visually\" id=\"sk-estimator-id-4\" type=\"checkbox\" checked><label for=\"sk-estimator-id-4\" class=\"sk-toggleable__label sk-toggleable__label-arrow\">DecisionTreeClassifier</label><div class=\"sk-toggleable__content\"><pre>DecisionTreeClassifier()</pre></div></div></div></div></div>"
      ],
      "text/plain": [
       "DecisionTreeClassifier()"
      ]
     },
     "execution_count": 82,
     "metadata": {},
     "output_type": "execute_result"
    }
   ],
   "source": [
    "modelD.fit(X_train,y_train)"
   ]
  },
  {
   "cell_type": "code",
   "execution_count": 83,
   "id": "53915237",
   "metadata": {},
   "outputs": [
    {
     "name": "stdout",
     "output_type": "stream",
     "text": [
      "CPU times: total: 0 ns\n",
      "Wall time: 0 ns\n"
     ]
    }
   ],
   "source": [
    "%time pred_train = modelD.predict(X_train) # predicted labels for training examples"
   ]
  },
  {
   "cell_type": "code",
   "execution_count": 84,
   "id": "84a0dc48",
   "metadata": {},
   "outputs": [
    {
     "name": "stdout",
     "output_type": "stream",
     "text": [
      "CPU times: total: 15.6 ms\n",
      "Wall time: 4.45 ms\n"
     ]
    }
   ],
   "source": [
    "%time pred_test = modelD.predict(X_test) # predicted labels for test examples"
   ]
  },
  {
   "cell_type": "markdown",
   "id": "231535f5",
   "metadata": {},
   "source": [
    "#### Check for over-fitting"
   ]
  },
  {
   "cell_type": "code",
   "execution_count": 85,
   "id": "b982401e",
   "metadata": {},
   "outputs": [
    {
     "name": "stdout",
     "output_type": "stream",
     "text": [
      "Training accuracy  1.000\n",
      "Testing accuracy  0.925\n"
     ]
    }
   ],
   "source": [
    "acc_train = accuracy_score(pred_train, y_train)\n",
    "acc_test = accuracy_score(pred_test, y_test)\n",
    "print(f'Training accuracy {acc_train: .3f}') # round to 3 decimal places\n",
    "print(f'Testing accuracy {acc_test: .3f}') # round to 3 decimal places"
   ]
  },
  {
   "cell_type": "markdown",
   "id": "b2a9c0c8",
   "metadata": {},
   "source": [
    "There is some overfitting but not much"
   ]
  },
  {
   "cell_type": "markdown",
   "id": "fd0795ca",
   "metadata": {},
   "source": [
    "#### Finding good hyper-parameters"
   ]
  },
  {
   "cell_type": "code",
   "execution_count": 86,
   "id": "e739f110",
   "metadata": {},
   "outputs": [
    {
     "name": "stdout",
     "output_type": "stream",
     "text": [
      "Fitting 5 folds for each of 30 candidates, totalling 150 fits\n",
      "\n",
      "Best parameters found:\n",
      "{'criterion': 'entropy', 'max_leaf_nodes': 5}\n",
      "\n",
      "Grid scores:\n",
      "0.955 (+/-0.006) for {'criterion': 'gini', 'max_leaf_nodes': 5}\n",
      "0.956 (+/-0.004) for {'criterion': 'gini', 'max_leaf_nodes': 6}\n",
      "0.956 (+/-0.005) for {'criterion': 'gini', 'max_leaf_nodes': 7}\n",
      "0.955 (+/-0.009) for {'criterion': 'gini', 'max_leaf_nodes': 8}\n",
      "0.956 (+/-0.007) for {'criterion': 'gini', 'max_leaf_nodes': 9}\n",
      "0.956 (+/-0.009) for {'criterion': 'gini', 'max_leaf_nodes': 10}\n",
      "0.956 (+/-0.009) for {'criterion': 'gini', 'max_leaf_nodes': 11}\n",
      "0.955 (+/-0.009) for {'criterion': 'gini', 'max_leaf_nodes': 12}\n",
      "0.954 (+/-0.010) for {'criterion': 'gini', 'max_leaf_nodes': 13}\n",
      "0.954 (+/-0.010) for {'criterion': 'gini', 'max_leaf_nodes': 14}\n",
      "0.954 (+/-0.011) for {'criterion': 'gini', 'max_leaf_nodes': 15}\n",
      "0.954 (+/-0.011) for {'criterion': 'gini', 'max_leaf_nodes': 16}\n",
      "0.954 (+/-0.011) for {'criterion': 'gini', 'max_leaf_nodes': 17}\n",
      "0.954 (+/-0.012) for {'criterion': 'gini', 'max_leaf_nodes': 18}\n",
      "0.954 (+/-0.011) for {'criterion': 'gini', 'max_leaf_nodes': 19}\n",
      "0.958 (+/-0.002) for {'criterion': 'entropy', 'max_leaf_nodes': 5}\n",
      "0.958 (+/-0.002) for {'criterion': 'entropy', 'max_leaf_nodes': 6}\n",
      "0.956 (+/-0.003) for {'criterion': 'entropy', 'max_leaf_nodes': 7}\n",
      "0.956 (+/-0.003) for {'criterion': 'entropy', 'max_leaf_nodes': 8}\n",
      "0.956 (+/-0.004) for {'criterion': 'entropy', 'max_leaf_nodes': 9}\n",
      "0.956 (+/-0.004) for {'criterion': 'entropy', 'max_leaf_nodes': 10}\n",
      "0.956 (+/-0.003) for {'criterion': 'entropy', 'max_leaf_nodes': 11}\n",
      "0.956 (+/-0.003) for {'criterion': 'entropy', 'max_leaf_nodes': 12}\n",
      "0.956 (+/-0.004) for {'criterion': 'entropy', 'max_leaf_nodes': 13}\n",
      "0.956 (+/-0.004) for {'criterion': 'entropy', 'max_leaf_nodes': 14}\n",
      "0.956 (+/-0.004) for {'criterion': 'entropy', 'max_leaf_nodes': 15}\n",
      "0.954 (+/-0.008) for {'criterion': 'entropy', 'max_leaf_nodes': 16}\n",
      "0.954 (+/-0.007) for {'criterion': 'entropy', 'max_leaf_nodes': 17}\n",
      "0.954 (+/-0.009) for {'criterion': 'entropy', 'max_leaf_nodes': 18}\n",
      "0.954 (+/-0.008) for {'criterion': 'entropy', 'max_leaf_nodes': 19}\n"
     ]
    }
   ],
   "source": [
    "tuned_parameters = [{'criterion':['gini', 'entropy'],\n",
    "                     'max_leaf_nodes': range(5,20)}] # hyperparameters to tune\n",
    "\n",
    "clf = GridSearchCV(DecisionTreeClassifier(), tuned_parameters, \n",
    "                   verbose=1, n_jobs=-1) # grid search model\n",
    "clf.fit(X_train,y_train) # evaluate hyper-parameters\n",
    "\n",
    "print(\"\\nBest parameters found:\")\n",
    "print(clf.best_params_) # best hyperparameter balues\n",
    "\n",
    "print(\"\\nGrid scores:\")\n",
    "means = clf.cv_results_['mean_test_score'] # mean accuracy with folds\n",
    "stds = clf.cv_results_['std_test_score'] # standard deviation of accuracies\n",
    "# for each hyperparameter combination show mean +/- 2 standard-deviations \n",
    "for mean, std, params in zip(means, stds, clf.cv_results_['params']):\n",
    "    print(\"%0.3f (+/-%0.03f) for %r\" %(mean, std * 2, params)) "
   ]
  },
  {
   "cell_type": "markdown",
   "id": "e44b0ca4",
   "metadata": {},
   "source": [
    "#### Evaluating classifier with selected hyper-parameters\n",
    "Based on our 5-fold-cross-validation, we use a model with the following hyper-parameters:\n",
    "\n",
    "- criterion = 'entropy'\n",
    "- max_leaf_nodes = 5, and\n",
    "- default values for all other hyper-parameters."
   ]
  },
  {
   "cell_type": "code",
   "execution_count": 87,
   "id": "2d570e5a",
   "metadata": {},
   "outputs": [
    {
     "name": "stdout",
     "output_type": "stream",
     "text": [
      "DecisionTreeClassifier(criterion='entropy', max_leaf_nodes=5)\n",
      "Results on test data\n",
      "Test accuracy =  0.9588\n",
      "Test precision =  0.0000\n",
      "Test recall =  0.0000\n",
      "Classification report:\n",
      "              precision    recall  f1-score   support\n",
      "\n",
      "           0       0.96      1.00      0.98      1747\n",
      "           1       0.00      0.00      0.00        75\n",
      "\n",
      "    accuracy                           0.96      1822\n",
      "   macro avg       0.48      0.50      0.49      1822\n",
      "weighted avg       0.92      0.96      0.94      1822\n",
      "\n",
      "Confusion matrix (Rows actual, Columns predicted):\n",
      "      0  1\n",
      "0  1747  0\n",
      "1    75  0\n",
      "\n",
      "ROC curve\n"
     ]
    },
    {
     "data": {
      "image/png": "[encoded data removed]",
      "text/plain": [
       "<Figure size 720x432 with 1 Axes>"
      ]
     },
     "metadata": {
      "needs_background": "light"
     },
     "output_type": "display_data"
    }
   ],
   "source": [
    "# Specify non-default hyper-parameter values\n",
    "criterion = 'entropy'\n",
    "max_leaf_nodes = 5\n",
    "# Train and test model\n",
    "good_model = DecisionTreeClassifier(criterion=criterion,\n",
    "                                    max_leaf_nodes=max_leaf_nodes) # create model \n",
    "print(good_model) # display model parameters\n",
    "good_model.fit(X_train,y_train) # train model\n",
    "pred = good_model.predict(X_train) # predicted output for test examples\n",
    "print(\"Results on test data\")\n",
    "acc = accuracy_score(y_test, y_pred) # accuracy on test examples\n",
    "prec = precision_score(y_test, y_pred) # precision on test examples\n",
    "reca = recall_score(y_test, y_pred) # recall on test examples\n",
    "print(f'Test accuracy = {acc: .4f}') # round to 4 decimal places\n",
    "print(f'Test precision = {prec: .4f}') # round to 4 decimal places\n",
    "print(f'Test recall = {reca: .4f}') # round to 4 decimal places\n",
    "print(\"Classification report:\")\n",
    "print(classification_report(y_test, y_pred))\n",
    "print(\"Confusion matrix (Rows actual, Columns predicted):\")\n",
    "print(pd.DataFrame(confusion_matrix(y_test, y_pred)))\n",
    "print('\\nROC curve')\n",
    "plot_roc_curve(good_model, X_test, y_test)  # \n",
    "plt.show()"
   ]
  },
  {
   "cell_type": "markdown",
   "id": "b300feef",
   "metadata": {},
   "source": [
    "#### 2.Random Forest"
   ]
  },
  {
   "cell_type": "code",
   "execution_count": 88,
   "id": "6e006baf",
   "metadata": {},
   "outputs": [
    {
     "data": {
      "text/plain": [
       "{'bootstrap': True,\n",
       " 'ccp_alpha': 0.0,\n",
       " 'class_weight': None,\n",
       " 'criterion': 'gini',\n",
       " 'max_depth': None,\n",
       " 'max_features': 'sqrt',\n",
       " 'max_leaf_nodes': None,\n",
       " 'max_samples': None,\n",
       " 'min_impurity_decrease': 0.0,\n",
       " 'min_samples_leaf': 1,\n",
       " 'min_samples_split': 2,\n",
       " 'min_weight_fraction_leaf': 0.0,\n",
       " 'n_estimators': 100,\n",
       " 'n_jobs': None,\n",
       " 'oob_score': False,\n",
       " 'random_state': None,\n",
       " 'verbose': 0,\n",
       " 'warm_start': False}"
      ]
     },
     "execution_count": 88,
     "metadata": {},
     "output_type": "execute_result"
    }
   ],
   "source": [
    "modelR = RandomForestClassifier() # create model \n",
    "modelR.get_params()"
   ]
  },
  {
   "cell_type": "code",
   "execution_count": 89,
   "id": "5281eb45",
   "metadata": {},
   "outputs": [
    {
     "name": "stdout",
     "output_type": "stream",
     "text": [
      "CPU times: total: 578 ms\n",
      "Wall time: 548 ms\n"
     ]
    },
    {
     "data": {
      "text/html": [
       "<style>#sk-container-id-5 {color: black;background-color: white;}#sk-container-id-5 pre{padding: 0;}#sk-container-id-5 div.sk-toggleable {background-color: white;}#sk-container-id-5 label.sk-toggleable__label {cursor: pointer;display: block;width: 100%;margin-bottom: 0;padding: 0.3em;box-sizing: border-box;text-align: center;}#sk-container-id-5 label.sk-toggleable__label-arrow:before {content: \"▸\";float: left;margin-right: 0.25em;color: #696969;}#sk-container-id-5 label.sk-toggleable__label-arrow:hover:before {color: black;}#sk-container-id-5 div.sk-estimator:hover label.sk-toggleable__label-arrow:before {color: black;}#sk-container-id-5 div.sk-toggleable__content {max-height: 0;max-width: 0;overflow: hidden;text-align: left;background-color: #f0f8ff;}#sk-container-id-5 div.sk-toggleable__content pre {margin: 0.2em;color: black;border-radius: 0.25em;background-color: #f0f8ff;}#sk-container-id-5 input.sk-toggleable__control:checked~div.sk-toggleable__content {max-height: 200px;max-width: 100%;overflow: auto;}#sk-container-id-5 input.sk-toggleable__control:checked~label.sk-toggleable__label-arrow:before {content: \"▾\";}#sk-container-id-5 div.sk-estimator input.sk-toggleable__control:checked~label.sk-toggleable__label {background-color: #d4ebff;}#sk-container-id-5 div.sk-label input.sk-toggleable__control:checked~label.sk-toggleable__label {background-color: #d4ebff;}#sk-container-id-5 input.sk-hidden--visually {border: 0;clip: rect(1px 1px 1px 1px);clip: rect(1px, 1px, 1px, 1px);height: 1px;margin: -1px;overflow: hidden;padding: 0;position: absolute;width: 1px;}#sk-container-id-5 div.sk-estimator {font-family: monospace;background-color: #f0f8ff;border: 1px dotted black;border-radius: 0.25em;box-sizing: border-box;margin-bottom: 0.5em;}#sk-container-id-5 div.sk-estimator:hover {background-color: #d4ebff;}#sk-container-id-5 div.sk-parallel-item::after {content: \"\";width: 100%;border-bottom: 1px solid gray;flex-grow: 1;}#sk-container-id-5 div.sk-label:hover label.sk-toggleable__label {background-color: #d4ebff;}#sk-container-id-5 div.sk-serial::before {content: \"\";position: absolute;border-left: 1px solid gray;box-sizing: border-box;top: 0;bottom: 0;left: 50%;z-index: 0;}#sk-container-id-5 div.sk-serial {display: flex;flex-direction: column;align-items: center;background-color: white;padding-right: 0.2em;padding-left: 0.2em;position: relative;}#sk-container-id-5 div.sk-item {position: relative;z-index: 1;}#sk-container-id-5 div.sk-parallel {display: flex;align-items: stretch;justify-content: center;background-color: white;position: relative;}#sk-container-id-5 div.sk-item::before, #sk-container-id-5 div.sk-parallel-item::before {content: \"\";position: absolute;border-left: 1px solid gray;box-sizing: border-box;top: 0;bottom: 0;left: 50%;z-index: -1;}#sk-container-id-5 div.sk-parallel-item {display: flex;flex-direction: column;z-index: 1;position: relative;background-color: white;}#sk-container-id-5 div.sk-parallel-item:first-child::after {align-self: flex-end;width: 50%;}#sk-container-id-5 div.sk-parallel-item:last-child::after {align-self: flex-start;width: 50%;}#sk-container-id-5 div.sk-parallel-item:only-child::after {width: 0;}#sk-container-id-5 div.sk-dashed-wrapped {border: 1px dashed gray;margin: 0 0.4em 0.5em 0.4em;box-sizing: border-box;padding-bottom: 0.4em;background-color: white;}#sk-container-id-5 div.sk-label label {font-family: monospace;font-weight: bold;display: inline-block;line-height: 1.2em;}#sk-container-id-5 div.sk-label-container {text-align: center;}#sk-container-id-5 div.sk-container {/* jupyter's `normalize.less` sets `[hidden] { display: none; }` but bootstrap.min.css set `[hidden] { display: none !important; }` so we also need the `!important` here to be able to override the default hidden behavior on the sphinx rendered scikit-learn.org. See: https://github.com/scikit-learn/scikit-learn/issues/21755 */display: inline-block !important;position: relative;}#sk-container-id-5 div.sk-text-repr-fallback {display: none;}</style><div id=\"sk-container-id-5\" class=\"sk-top-container\"><div class=\"sk-text-repr-fallback\"><pre>RandomForestClassifier()</pre><b>In a Jupyter environment, please rerun this cell to show the HTML representation or trust the notebook. <br />On GitHub, the HTML representation is unable to render, please try loading this page with nbviewer.org.</b></div><div class=\"sk-container\" hidden><div class=\"sk-item\"><div class=\"sk-estimator sk-toggleable\"><input class=\"sk-toggleable__control sk-hidden--visually\" id=\"sk-estimator-id-5\" type=\"checkbox\" checked><label for=\"sk-estimator-id-5\" class=\"sk-toggleable__label sk-toggleable__label-arrow\">RandomForestClassifier</label><div class=\"sk-toggleable__content\"><pre>RandomForestClassifier()</pre></div></div></div></div></div>"
      ],
      "text/plain": [
       "RandomForestClassifier()"
      ]
     },
     "execution_count": 89,
     "metadata": {},
     "output_type": "execute_result"
    }
   ],
   "source": [
    "%time modelR.fit(X_train, y_train)"
   ]
  },
  {
   "cell_type": "code",
   "execution_count": 90,
   "id": "56647688",
   "metadata": {},
   "outputs": [
    {
     "name": "stdout",
     "output_type": "stream",
     "text": [
      "CPU times: total: 93.8 ms\n",
      "Wall time: 84.5 ms\n"
     ]
    }
   ],
   "source": [
    "%time pred_test = modelR.predict(X_test)"
   ]
  },
  {
   "cell_type": "code",
   "execution_count": 91,
   "id": "10909375",
   "metadata": {},
   "outputs": [
    {
     "name": "stdout",
     "output_type": "stream",
     "text": [
      "CPU times: total: 78.1 ms\n",
      "Wall time: 83.7 ms\n"
     ]
    }
   ],
   "source": [
    "%time pred_train = modelR.predict(X_train) "
   ]
  },
  {
   "cell_type": "markdown",
   "id": "1ec45562",
   "metadata": {},
   "source": [
    "#### Check for over-fitting"
   ]
  },
  {
   "cell_type": "code",
   "execution_count": 92,
   "id": "cdee06e5",
   "metadata": {},
   "outputs": [
    {
     "name": "stdout",
     "output_type": "stream",
     "text": [
      "Training accuracy  1.000\n",
      "Testing accuracy  0.957\n"
     ]
    }
   ],
   "source": [
    "acc_train = accuracy_score(pred_train, y_train)\n",
    "acc_test = accuracy_score(pred_test, y_test)\n",
    "print(f'Training accuracy {acc_train: .3f}') # round to 3 decimal places\n",
    "print(f'Testing accuracy {acc_test: .3f}') # roun"
   ]
  },
  {
   "cell_type": "markdown",
   "id": "c47d1023",
   "metadata": {},
   "source": [
    "There is less overfitting"
   ]
  },
  {
   "cell_type": "markdown",
   "id": "99a915f8",
   "metadata": {},
   "source": [
    "#### Finding good hyper-parameters\n",
    "We shall use *k-fold cross-validation* with training data to find good hyper-parameter values for the model.\n",
    "\n",
    "In this example we shall perform a search over all combinations of:\n",
    "- 2 different values of *n_estimators*: (25, 50)\n",
    "- 2 different values of *max_features*: (15, 20), and\n",
    "- 2 different values of *max_leaf_nodes*: (8, 16)\n",
    "- default values for all other hyper-parameters."
   ]
  },
  {
   "cell_type": "code",
   "execution_count": 93,
   "id": "0e0abf82",
   "metadata": {},
   "outputs": [
    {
     "name": "stdout",
     "output_type": "stream",
     "text": [
      "Fitting 5 folds for each of 8 candidates, totalling 40 fits\n",
      "\n",
      "Best parameters found:\n",
      "{'max_features': 15, 'max_leaf_nodes': 8, 'n_estimators': 25}\n",
      "\n",
      "Grid scores:\n",
      "0.958 (+/-0.000) for {'max_features': 15, 'max_leaf_nodes': 8, 'n_estimators': 25}\n",
      "0.958 (+/-0.000) for {'max_features': 15, 'max_leaf_nodes': 8, 'n_estimators': 50}\n",
      "0.958 (+/-0.002) for {'max_features': 15, 'max_leaf_nodes': 16, 'n_estimators': 25}\n",
      "0.958 (+/-0.001) for {'max_features': 15, 'max_leaf_nodes': 16, 'n_estimators': 50}\n",
      "0.958 (+/-0.001) for {'max_features': 20, 'max_leaf_nodes': 8, 'n_estimators': 25}\n",
      "0.958 (+/-0.001) for {'max_features': 20, 'max_leaf_nodes': 8, 'n_estimators': 50}\n",
      "0.958 (+/-0.001) for {'max_features': 20, 'max_leaf_nodes': 16, 'n_estimators': 25}\n",
      "0.958 (+/-0.001) for {'max_features': 20, 'max_leaf_nodes': 16, 'n_estimators': 50}\n"
     ]
    }
   ],
   "source": [
    "tuned_parameters = [{'n_estimators': [25, 50],\n",
    "                     'max_features': [15, 20],\n",
    "                     'max_leaf_nodes': [8, 16]}] # hyperparameters to tune\n",
    "\n",
    "clf = GridSearchCV(RandomForestClassifier(), tuned_parameters, \n",
    "                   verbose=1, n_jobs=-1) # grid search model\n",
    "clf.fit(X_train, y_train) # evaluate hyper-parameters\n",
    "\n",
    "print(\"\\nBest parameters found:\")\n",
    "print(clf.best_params_) # best hyperparameter values\n",
    "\n",
    "print(\"\\nGrid scores:\")\n",
    "means = clf.cv_results_['mean_test_score'] # mean accuracy with folds\n",
    "stds = clf.cv_results_['std_test_score'] # standard deviation of accuracies\n",
    "# for each hyperparameter combination show mean +/- 2 standard-deviations \n",
    "for mean, std, params in zip(means, stds, clf.cv_results_['params']):\n",
    "    print(\"%0.3f (+/-%0.03f) for %r\" %(mean, std * 2, params))"
   ]
  },
  {
   "cell_type": "markdown",
   "id": "6c6ef8fe",
   "metadata": {},
   "source": [
    "#### Evaluating classifier with selected hyper-parameters\n",
    "\n",
    "Based on our 5-fold-cross-validation, we use a model with the following hyper-parameters:\n",
    "\n",
    "- max_features = 20\n",
    "- max_leaf_nodes =8\n",
    "- n_estimators = 25\n",
    "- default values for all other hyper-parameters.\n"
   ]
  },
  {
   "cell_type": "code",
   "execution_count": 94,
   "id": "a44027e0",
   "metadata": {},
   "outputs": [
    {
     "name": "stdout",
     "output_type": "stream",
     "text": [
      "RandomForestClassifier(max_features=20, max_leaf_nodes=8, n_estimators=25)\n",
      "Results on test data\n",
      "Test accuracy =  0.9588\n",
      "Test precision =  0.0000\n",
      "Test recall =  0.0000\n",
      "Classification report:\n",
      "              precision    recall  f1-score   support\n",
      "\n",
      "           0       0.96      1.00      0.98      1747\n",
      "           1       0.00      0.00      0.00        75\n",
      "\n",
      "    accuracy                           0.96      1822\n",
      "   macro avg       0.48      0.50      0.49      1822\n",
      "weighted avg       0.92      0.96      0.94      1822\n",
      "\n",
      "Confusion matrix (Rows actual, Columns predicted):\n",
      "      0  1\n",
      "0  1747  0\n",
      "1    75  0\n",
      "\n",
      "ROC curve\n"
     ]
    },
    {
     "data": {
      "image/png": "[encoded data removed]",
      "text/plain": [
       "<Figure size 720x432 with 1 Axes>"
      ]
     },
     "metadata": {
      "needs_background": "light"
     },
     "output_type": "display_data"
    }
   ],
   "source": [
    "max_features = 20\n",
    "max_leaf_nodes = 8\n",
    "n_estimators = 25\n",
    "\n",
    "good_model = RandomForestClassifier(max_leaf_nodes = max_leaf_nodes,\n",
    "                                    max_features = max_features, \n",
    "                                    n_estimators=n_estimators, )  \n",
    "print(good_model) # display model parameters\n",
    "good_model.fit(X_train,y_train) # train model\n",
    "pred = good_model.predict(X_train) # predicted output for test examples\n",
    "print(\"Results on test data\")\n",
    "acc = accuracy_score(y_test,y_pred) # accuracy on test examples\n",
    "prec = precision_score(y_test, y_pred) # precision on test examples\n",
    "reca = recall_score(y_test, y_pred) # recall on test examples\n",
    "print(f'Test accuracy = {acc: .4f}') # round to 4 decimal places\n",
    "print(f'Test precision = {prec: .4f}') # round to 4 decimal places\n",
    "print(f'Test recall = {reca: .4f}') # round to 4 decimal places\n",
    "print(\"Classification report:\")\n",
    "print(classification_report(y_test, y_pred))\n",
    "print(\"Confusion matrix (Rows actual, Columns predicted):\")\n",
    "print(pd.DataFrame(confusion_matrix(y_test, y_pred)))\n",
    "print('\\nROC curve')\n",
    "plot_roc_curve(good_model,X_test, y_test)  # \n",
    "plt.show()"
   ]
  },
  {
   "cell_type": "markdown",
   "id": "81fa84b3",
   "metadata": {},
   "source": [
    "#### 3.Logistic Regression"
   ]
  },
  {
   "cell_type": "code",
   "execution_count": 95,
   "id": "ecfcf98e",
   "metadata": {},
   "outputs": [
    {
     "data": {
      "text/plain": [
       "{'C': 1.0,\n",
       " 'class_weight': None,\n",
       " 'dual': False,\n",
       " 'fit_intercept': True,\n",
       " 'intercept_scaling': 1,\n",
       " 'l1_ratio': None,\n",
       " 'max_iter': 100,\n",
       " 'multi_class': 'auto',\n",
       " 'n_jobs': None,\n",
       " 'penalty': 'l2',\n",
       " 'random_state': None,\n",
       " 'solver': 'lbfgs',\n",
       " 'tol': 0.0001,\n",
       " 'verbose': 0,\n",
       " 'warm_start': False}"
      ]
     },
     "execution_count": 95,
     "metadata": {},
     "output_type": "execute_result"
    }
   ],
   "source": [
    "modelL = LogisticRegression() # create model \n",
    "modelL.get_params()"
   ]
  },
  {
   "cell_type": "markdown",
   "id": "cc94fe1c",
   "metadata": {},
   "source": [
    "#### Check for over-fitting"
   ]
  },
  {
   "cell_type": "code",
   "execution_count": 96,
   "id": "3ceba4d0",
   "metadata": {},
   "outputs": [
    {
     "name": "stdout",
     "output_type": "stream",
     "text": [
      "Training accuracy  1.000\n",
      "Testing accuracy  0.957\n"
     ]
    }
   ],
   "source": [
    "acc_train = accuracy_score(pred_train, y_train)\n",
    "acc_test = accuracy_score(pred_test, y_test)\n",
    "print(f'Training accuracy {acc_train: .3f}') # round to 3 decimal places\n",
    "print(f'Testing accuracy {acc_test: .3f}') # round to 3 decimal places"
   ]
  },
  {
   "cell_type": "markdown",
   "id": "80ababae",
   "metadata": {},
   "source": [
    "There is less overfitting"
   ]
  },
  {
   "cell_type": "markdown",
   "id": "c865da8a",
   "metadata": {},
   "source": [
    "#### Finding good hyper-parameters"
   ]
  },
  {
   "cell_type": "code",
   "execution_count": 97,
   "id": "6240db24",
   "metadata": {},
   "outputs": [
    {
     "name": "stdout",
     "output_type": "stream",
     "text": [
      "Fitting 5 folds for each of 3 candidates, totalling 15 fits\n",
      "\n",
      "Best parameters found:\n",
      "{'C': 10.0, 'max_iter': 500}\n",
      "\n",
      "Grid scores:\n",
      "0.958 (+/-0.000) for {'C': 10.0, 'max_iter': 500}\n",
      "0.958 (+/-0.000) for {'C': 100.0, 'max_iter': 500}\n",
      "0.958 (+/-0.000) for {'C': 1000.0, 'max_iter': 500}\n"
     ]
    }
   ],
   "source": [
    "tuned_parameters = [{'C': [10.0, 100.0, 1000.0],\n",
    "                     'max_iter': [500]}] # hyperparameters to tune\n",
    "\n",
    "\n",
    "clf = GridSearchCV(LogisticRegression(), tuned_parameters, \n",
    "                   verbose=1, n_jobs=-1) # grid search model\n",
    "clf.fit(X_train,y_train) # evaluate hyper-parameters\n",
    "print(\"\\nBest parameters found:\")\n",
    "print(clf.best_params_) # best hyperparameter values\n",
    "\n",
    "print(\"\\nGrid scores:\")\n",
    "means = clf.cv_results_['mean_test_score'] # mean accuracy with folds\n",
    "stds = clf.cv_results_['std_test_score'] # standard deviation of accuracies\n",
    "# for each hyperparameter combination show mean +/- 2 standard-deviations \n",
    "for mean, std, params in zip(means, stds, clf.cv_results_['params']):\n",
    "    print(\"%0.3f (+/-%0.03f) for %r\" %(mean, std * 2, params)) "
   ]
  },
  {
   "cell_type": "markdown",
   "id": "3c11830e",
   "metadata": {},
   "source": [
    "#### Evaluating classifier with selected hyper-parameters\n",
    "Based on our 5-fold-cross-validation, we use a model with the following hyper-parameters:\n",
    "- C = 10\n",
    "- max_iter = 500 \n",
    "- default values for all other hyper-parameters.\n"
   ]
  },
  {
   "cell_type": "code",
   "execution_count": 98,
   "id": "64ef5177",
   "metadata": {},
   "outputs": [
    {
     "name": "stdout",
     "output_type": "stream",
     "text": [
      "LogisticRegression(C=10, max_iter=500)\n",
      "Results on test data\n",
      "Test accuracy =  0.9588\n",
      "Test precision =  0.0000\n",
      "Test recall =  0.0000\n",
      "Classification report:\n",
      "              precision    recall  f1-score   support\n",
      "\n",
      "           0       0.96      1.00      0.98      1747\n",
      "           1       0.00      0.00      0.00        75\n",
      "\n",
      "    accuracy                           0.96      1822\n",
      "   macro avg       0.48      0.50      0.49      1822\n",
      "weighted avg       0.92      0.96      0.94      1822\n",
      "\n",
      "Confusion matrix (Rows actual, Columns predicted):\n",
      "      0  1\n",
      "0  1747  0\n",
      "1    75  0\n",
      "\n",
      "ROC curve\n"
     ]
    },
    {
     "data": {
      "image/png": "[encoded data removed]",
      "text/plain": [
       "<Figure size 720x432 with 1 Axes>"
      ]
     },
     "metadata": {
      "needs_background": "light"
     },
     "output_type": "display_data"
    }
   ],
   "source": [
    "C = 10\n",
    "max_iter = 500\n",
    "# Train and test model\n",
    "good_model = LogisticRegression(C = C, max_iter=max_iter) # create model \n",
    "print(good_model) # display model parameters\n",
    "good_model.fit(X_train,y_train) # train model\n",
    "pred = good_model.predict(X_train) # predicted output for test examples\n",
    "print(\"Results on test data\")\n",
    "acc = accuracy_score(y_test,y_pred) # accuracy on test examples\n",
    "prec = precision_score(y_test, y_pred) # precision on test examples\n",
    "reca = recall_score(y_test, y_pred) # recall on test examples\n",
    "print(f'Test accuracy = {acc: .4f}') # round to 4 decimal places\n",
    "print(f'Test precision = {prec: .4f}') # round to 4 decimal places\n",
    "print(f'Test recall = {reca: .4f}') # round to 4 decimal places\n",
    "print(\"Classification report:\")\n",
    "print(classification_report(y_test, y_pred))\n",
    "print(\"Confusion matrix (Rows actual, Columns predicted):\")\n",
    "print(pd.DataFrame(confusion_matrix(y_test, y_pred)))\n",
    "print('\\nROC curve')\n",
    "plot_roc_curve(good_model, X_test, y_test)  # \n",
    "plt.show()"
   ]
  },
  {
   "cell_type": "markdown",
   "id": "dc8455d4",
   "metadata": {},
   "source": [
    "### Model Explainability using SHAP"
   ]
  },
  {
   "cell_type": "markdown",
   "id": "5d0f9363",
   "metadata": {},
   "source": [
    "#### Random Forest"
   ]
  },
  {
   "cell_type": "code",
   "execution_count": 99,
   "id": "71c5d98c",
   "metadata": {},
   "outputs": [],
   "source": [
    "my_model = RandomForestClassifier(random_state=0).fit(X_train,y_train)"
   ]
  },
  {
   "cell_type": "code",
   "execution_count": 100,
   "id": "87960f3e",
   "metadata": {},
   "outputs": [
    {
     "data": {
      "image/png": "[encoded data removed]",
      "text/plain": [
       "<Figure size 576x309.6 with 2 Axes>"
      ]
     },
     "metadata": {
      "needs_background": "light"
     },
     "output_type": "display_data"
    }
   ],
   "source": [
    "# Create object that can calculate shap values\n",
    "explainer = shap.TreeExplainer(my_model)\n",
    "\n",
    "# calculate shap values. This is what we will plot.\n",
    "# Calculate shap_values for all of val_X rather than a single row, to have more data for plot.\n",
    "shap_values = explainer.shap_values( X_test)\n",
    "\n",
    "# Make plot. Index of [1] is explained in text below.\n",
    "shap.summary_plot(shap_values[1],  X_test)"
   ]
  },
  {
   "cell_type": "code",
   "execution_count": 101,
   "id": "5451c56a",
   "metadata": {},
   "outputs": [
    {
     "data": {
      "image/png": "[encoded data removed]",
      "text/plain": [
       "<Figure size 576x309.6 with 1 Axes>"
      ]
     },
     "metadata": {
      "needs_background": "light"
     },
     "output_type": "display_data"
    }
   ],
   "source": [
    "shap.summary_plot(shap_values, X_train, feature_names=features, plot_type=\"bar\")"
   ]
  },
  {
   "cell_type": "markdown",
   "id": "793568ed",
   "metadata": {},
   "source": [
    "#### Logistic regression."
   ]
  },
  {
   "cell_type": "code",
   "execution_count": null,
   "id": "50990127",
   "metadata": {},
   "outputs": [],
   "source": []
  },
  {
   "cell_type": "markdown",
   "id": "ae60384e",
   "metadata": {},
   "source": [
    "### Pickling the model and reloading for Prediction"
   ]
  },
  {
   "cell_type": "code",
   "execution_count": 102,
   "id": "1b6cf98a",
   "metadata": {},
   "outputs": [],
   "source": [
    "import pickle\n",
    "pickle.dump(good_model, open(\"model.pkl\", \"wb\"))"
   ]
  },
  {
   "cell_type": "code",
   "execution_count": 103,
   "id": "4561faf5",
   "metadata": {},
   "outputs": [],
   "source": [
    "saved_model_file = 'Machine Learning Fundamentals.sav' \n",
    "pickle.dump(good_model, open(saved_model_file, 'wb')) "
   ]
  },
  {
   "cell_type": "code",
   "execution_count": 104,
   "id": "089dc71c",
   "metadata": {},
   "outputs": [
    {
     "name": "stdout",
     "output_type": "stream",
     "text": [
      "Test accuracy =  0.9588\n"
     ]
    }
   ],
   "source": [
    "loaded_model = pickle.load(open(saved_model_file, 'rb')) \n",
    "\n",
    "pred = loaded_model.predict(X_test)\n",
    "acc = accuracy_score(y_test, pred) \n",
    "print(f'Test accuracy = {acc: .4f}') "
   ]
  },
  {
   "cell_type": "markdown",
   "id": "ca684eeb",
   "metadata": {},
   "source": [
    "#### Thank You!"
   ]
  },
  {
   "cell_type": "code",
   "execution_count": null,
   "id": "54639926",
   "metadata": {},
   "outputs": [],
   "source": []
  }
 ],
 "metadata": {
  "kernelspec": {
   "display_name": "Python 3 (ipykernel)",
   "language": "python",
   "name": "python3"
  },
  "language_info": {
   "codemirror_mode": {
    "name": "ipython",
    "version": 3
   },
   "file_extension": ".py",
   "mimetype": "text/x-python",
   "name": "python",
   "nbconvert_exporter": "python",
   "pygments_lexer": "ipython3",
   "version": "3.8.8"
  }
 },
 "nbformat": 4,
 "nbformat_minor": 5
}
